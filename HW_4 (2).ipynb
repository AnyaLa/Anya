{
 "cells": [
  {
   "cell_type": "markdown",
   "metadata": {},
   "source": [
    "## Построение социальных графов. Меры центральности"
   ]
  },
  {
   "cell_type": "markdown",
   "metadata": {},
   "source": [
    "**Задание 1 (10 баллов)** \n",
    "\n",
    "Прочитайте данные из ```emails.csv```. В колонке ```message``` содержится информация о письме. Вам нужно сформировать несколько таблиц по данным для комфортной работы. \n",
    "\n",
    "Во-первых, у Вас имеется информация от том от когдо было отправленно письмо и кому:\n",
    "\n",
    "* ```From``` - email отправителя\n",
    "* ```X-From``` - имя отправитела \n",
    "* ```To``` - email получателя \n",
    "* ```X-To``` - имя получателя\n",
    "\n",
    "Каждому индивидууму нужно присвоить свой уникальный ```id``` и сформировать таблицу, где по нему можно получить ```email``` и имя.\n",
    "\n",
    "Также Вам нужно сформировать таблицу, в которой по каждому письму будет содержаться: \n",
    "\n",
    "* Дата\n",
    "* ```id``` отправителя\n",
    "* ```id``` получателей (обратитие внимание на то, что одно письмо может получать несколько человек)\n",
    "* Текст"
   ]
  },
  {
   "cell_type": "code",
   "execution_count": 1,
   "metadata": {
    "collapsed": true
   },
   "outputs": [],
   "source": [
    "import sys\n",
    "sys.path.append('C:\\Program Files\\Anaconda3\\Lib\\site-packages')"
   ]
  },
  {
   "cell_type": "code",
   "execution_count": 2,
   "metadata": {
    "collapsed": true
   },
   "outputs": [],
   "source": [
    "import pandas as pd\n",
    "import re\n",
    "from tqdm import tqdm"
   ]
  },
  {
   "cell_type": "code",
   "execution_count": 3,
   "metadata": {
    "collapsed": true
   },
   "outputs": [],
   "source": [
    "emails = pd.read_csv('D:/baklazhan/Compling/programmimng_solutions/python_nlp-master/emails.csv')"
   ]
  },
  {
   "cell_type": "code",
   "execution_count": 4,
   "metadata": {
    "collapsed": true
   },
   "outputs": [],
   "source": [
    "emails_sample = emails.sample(n = 10000)"
   ]
  },
  {
   "cell_type": "code",
   "execution_count": 5,
   "metadata": {
    "collapsed": true
   },
   "outputs": [],
   "source": [
    "emails_sample = emails_sample.reset_index(drop = True)"
   ]
  },
  {
   "cell_type": "code",
   "execution_count": 12,
   "metadata": {
    "collapsed": true
   },
   "outputs": [],
   "source": [
    "def parse_emails(df):\n",
    "    contacts_dict = {}\n",
    "    parsed_emails = []\n",
    "    \n",
    "    for index, row in tqdm(df.iterrows()):\n",
    "        email_dict = {}\n",
    "        meta = ''\n",
    "        text = ''\n",
    "        mail_from = ''\n",
    "        name_from = ''\n",
    "        mail_to_list = []\n",
    "        name_to_list = []\n",
    "        \n",
    "        message_split = row['message'].split('\\n\\n')\n",
    "        meta = message_split[0]\n",
    "        text = ('\\n\\n'.join(message_split[1:])).strip()\n",
    "        email_dict.setdefault('text',text)\n",
    "        \n",
    "        meta_list = meta.replace('\\n\\t','').replace('\\n ',' ').split('\\n')\n",
    "        for attr in meta_list:\n",
    "            attr = attr.split(': ')\n",
    "            if (attr[0] == 'Date'):\n",
    "                date = attr[1]\n",
    "                email_dict.setdefault('date',date)\n",
    "            if (attr[0] == 'From'):\n",
    "                mail_from = attr[1]\n",
    "            if (attr[0] == 'To'):\n",
    "                mail_to_list = attr[1].split(', ')\n",
    "            if (attr[0] == 'X-From'):\n",
    "                name_from = attr[1]\n",
    "            if (attr[0] == 'X-To'):\n",
    "\n",
    "                names_to = re.sub('([-\\w\\.() ]+),?([-\\w\\.() ]+) <[-\\w\\./=@]+>', '\\\\1\\\\2', attr[1])\n",
    "                names_to = (re.sub('(\"[-\\w\\.() ]+),?([-\\w\\.() ]+\")' , '\\\\1\\\\2', names_to)).replace('\"','')\n",
    "                name_to_list = names_to.split(', ')\n",
    "\n",
    "        #print(mail_from, name_from)\n",
    "        name_from = re.sub(r'<.*?>', '', name_from.replace('@ ENRON', '').replace('@ENRON', ''))\n",
    "        email_dict.setdefault('mail_from', mail_from)\n",
    "        email_dict.setdefault('name_from', name_from)\n",
    "        contacts_dict.setdefault(mail_from, name_from.strip())\n",
    "\n",
    "        \n",
    "        if len(mail_to_list) > len(name_to_list):\n",
    "            dif = len(mail_to_list) - len(name_to_list)\n",
    "            for i in range(dif):\n",
    "                name_to_list.append('')\n",
    "        \n",
    "        if (mail_to_list and name_to_list):\n",
    "            email_dict.setdefault('mail_to', mail_to_list)\n",
    "            email_dict.setdefault('name_to', name_to_list)\n",
    "            for mail_to, name_to in zip(mail_to_list, name_to_list):\n",
    "                name_to = re.sub(r'<.*?>', '', name_to.replace('@ ENRON', '').replace('(E-mail)', '').replace('@ENRON',''))\n",
    "                name_to = re.sub(r'SF40#.+#', '', name_to)\n",
    "                if name_to:\n",
    "                    contacts_dict.setdefault(mail_to, name_to.strip())\n",
    "                else:\n",
    "                    contacts_dict.setdefault(mail_to, mail_to)\n",
    "                #print(index, mail_to, name_to)   \n",
    "        parsed_emails.append(email_dict)       \n",
    "    return contacts_dict, parsed_emails\n"
   ]
  },
  {
   "cell_type": "code",
   "execution_count": 13,
   "metadata": {},
   "outputs": [
    {
     "name": "stderr",
     "output_type": "stream",
     "text": [
      "10000it [00:08, 1169.49it/s]\n"
     ]
    }
   ],
   "source": [
    "contacts_dict, parsed_emails_list = parse_emails(emails_sample)"
   ]
  },
  {
   "cell_type": "code",
   "execution_count": 17,
   "metadata": {
    "collapsed": true
   },
   "outputs": [],
   "source": [
    "emails_sample['parsed_emails'] = parsed_emails_list"
   ]
  },
  {
   "cell_type": "code",
   "execution_count": 18,
   "metadata": {},
   "outputs": [
    {
     "data": {
      "text/html": [
       "<div>\n",
       "<style>\n",
       "    .dataframe thead tr:only-child th {\n",
       "        text-align: right;\n",
       "    }\n",
       "\n",
       "    .dataframe thead th {\n",
       "        text-align: left;\n",
       "    }\n",
       "\n",
       "    .dataframe tbody tr th {\n",
       "        vertical-align: top;\n",
       "    }\n",
       "</style>\n",
       "<table border=\"1\" class=\"dataframe\">\n",
       "  <thead>\n",
       "    <tr style=\"text-align: right;\">\n",
       "      <th></th>\n",
       "      <th>file</th>\n",
       "      <th>message</th>\n",
       "      <th>parsed_emails</th>\n",
       "    </tr>\n",
       "  </thead>\n",
       "  <tbody>\n",
       "    <tr>\n",
       "      <th>0</th>\n",
       "      <td>taylor-m/archive/2001_07/55.</td>\n",
       "      <td>Message-ID: &lt;3143387.1075861966547.JavaMail.ev...</td>\n",
       "      <td>{'text': 'Mark -- Attached is a list of ISDA's...</td>\n",
       "    </tr>\n",
       "    <tr>\n",
       "      <th>1</th>\n",
       "      <td>germany-c/inbox/213.</td>\n",
       "      <td>Message-ID: &lt;19615791.1075852115296.JavaMail.e...</td>\n",
       "      <td>{'text': 'COLUMBIA GAS TRANSMISSION CORPORATIO...</td>\n",
       "    </tr>\n",
       "    <tr>\n",
       "      <th>2</th>\n",
       "      <td>bass-e/sent/345.</td>\n",
       "      <td>Message-ID: &lt;23812407.1075854693699.JavaMail.e...</td>\n",
       "      <td>{'text': 'Well, we are supposed to have a game...</td>\n",
       "    </tr>\n",
       "    <tr>\n",
       "      <th>3</th>\n",
       "      <td>buy-r/sent_items/86.</td>\n",
       "      <td>Message-ID: &lt;4612093.1075862187890.JavaMail.ev...</td>\n",
       "      <td>{'text': 'Hi Jule- thought about your comment ...</td>\n",
       "    </tr>\n",
       "    <tr>\n",
       "      <th>4</th>\n",
       "      <td>lenhart-m/notes_inbox/7.</td>\n",
       "      <td>Message-ID: &lt;17359264.1075858137571.JavaMail.e...</td>\n",
       "      <td>{'text': 'Come on Matt, simply because Max is ...</td>\n",
       "    </tr>\n",
       "  </tbody>\n",
       "</table>\n",
       "</div>"
      ],
      "text/plain": [
       "                           file  \\\n",
       "0  taylor-m/archive/2001_07/55.   \n",
       "1          germany-c/inbox/213.   \n",
       "2              bass-e/sent/345.   \n",
       "3          buy-r/sent_items/86.   \n",
       "4      lenhart-m/notes_inbox/7.   \n",
       "\n",
       "                                             message  \\\n",
       "0  Message-ID: <3143387.1075861966547.JavaMail.ev...   \n",
       "1  Message-ID: <19615791.1075852115296.JavaMail.e...   \n",
       "2  Message-ID: <23812407.1075854693699.JavaMail.e...   \n",
       "3  Message-ID: <4612093.1075862187890.JavaMail.ev...   \n",
       "4  Message-ID: <17359264.1075858137571.JavaMail.e...   \n",
       "\n",
       "                                       parsed_emails  \n",
       "0  {'text': 'Mark -- Attached is a list of ISDA's...  \n",
       "1  {'text': 'COLUMBIA GAS TRANSMISSION CORPORATIO...  \n",
       "2  {'text': 'Well, we are supposed to have a game...  \n",
       "3  {'text': 'Hi Jule- thought about your comment ...  \n",
       "4  {'text': 'Come on Matt, simply because Max is ...  "
      ]
     },
     "execution_count": 18,
     "metadata": {},
     "output_type": "execute_result"
    }
   ],
   "source": [
    "emails_sample.head()"
   ]
  },
  {
   "cell_type": "code",
   "execution_count": 19,
   "metadata": {
    "scrolled": true
   },
   "outputs": [
    {
     "data": {
      "text/plain": [
       "13947"
      ]
     },
     "execution_count": 19,
     "metadata": {},
     "output_type": "execute_result"
    }
   ],
   "source": [
    "len(contacts_dict)"
   ]
  },
  {
   "cell_type": "code",
   "execution_count": 20,
   "metadata": {
    "collapsed": true
   },
   "outputs": [],
   "source": [
    "contacts = pd.DataFrame(data = list(zip(contacts_dict.keys(), contacts_dict.values())), \n",
    "                       columns = ['email', 'name'])"
   ]
  },
  {
   "cell_type": "code",
   "execution_count": 21,
   "metadata": {
    "scrolled": false
   },
   "outputs": [
    {
     "data": {
      "text/html": [
       "<div>\n",
       "<style>\n",
       "    .dataframe thead tr:only-child th {\n",
       "        text-align: right;\n",
       "    }\n",
       "\n",
       "    .dataframe thead th {\n",
       "        text-align: left;\n",
       "    }\n",
       "\n",
       "    .dataframe tbody tr th {\n",
       "        vertical-align: top;\n",
       "    }\n",
       "</style>\n",
       "<table border=\"1\" class=\"dataframe\">\n",
       "  <thead>\n",
       "    <tr style=\"text-align: right;\">\n",
       "      <th></th>\n",
       "      <th>id</th>\n",
       "      <th>email</th>\n",
       "      <th>name</th>\n",
       "    </tr>\n",
       "  </thead>\n",
       "  <tbody>\n",
       "    <tr>\n",
       "      <th>0</th>\n",
       "      <td>0</td>\n",
       "      <td>douglas.allen@enron.com</td>\n",
       "      <td>Douglas Allen</td>\n",
       "    </tr>\n",
       "    <tr>\n",
       "      <th>1</th>\n",
       "      <td>1</td>\n",
       "      <td>denver.plachy@enron.com</td>\n",
       "      <td>Plachy Denver</td>\n",
       "    </tr>\n",
       "    <tr>\n",
       "      <th>2</th>\n",
       "      <td>2</td>\n",
       "      <td>marie.westin@enron.com</td>\n",
       "      <td>Weinreich Colette</td>\n",
       "    </tr>\n",
       "    <tr>\n",
       "      <th>3</th>\n",
       "      <td>3</td>\n",
       "      <td>darin.schmidt@enron.com</td>\n",
       "      <td>Darin Schmidt</td>\n",
       "    </tr>\n",
       "    <tr>\n",
       "      <th>4</th>\n",
       "      <td>4</td>\n",
       "      <td>salil.pradhan@enron.com</td>\n",
       "      <td>Pack Jr. Scott</td>\n",
       "    </tr>\n",
       "  </tbody>\n",
       "</table>\n",
       "</div>"
      ],
      "text/plain": [
       "   id                    email               name\n",
       "0   0  douglas.allen@enron.com      Douglas Allen\n",
       "1   1  denver.plachy@enron.com      Plachy Denver\n",
       "2   2   marie.westin@enron.com  Weinreich Colette\n",
       "3   3  darin.schmidt@enron.com      Darin Schmidt\n",
       "4   4  salil.pradhan@enron.com     Pack Jr. Scott"
      ]
     },
     "execution_count": 21,
     "metadata": {},
     "output_type": "execute_result"
    }
   ],
   "source": [
    "contacts = contacts.reset_index()\n",
    "contacts.columns = ['id', 'email','name']\n",
    "contacts.head()"
   ]
  },
  {
   "cell_type": "code",
   "execution_count": 22,
   "metadata": {},
   "outputs": [
    {
     "data": {
      "text/plain": [
       "(13947, 3)"
      ]
     },
     "execution_count": 22,
     "metadata": {},
     "output_type": "execute_result"
    }
   ],
   "source": [
    "contacts.shape"
   ]
  },
  {
   "cell_type": "code",
   "execution_count": 23,
   "metadata": {
    "collapsed": true
   },
   "outputs": [],
   "source": [
    "def make_emails_df(raw_emails_df, contacts_df):\n",
    "    dates = []\n",
    "    texts = []\n",
    "    id_from = []\n",
    "    id_to = []\n",
    "    \n",
    "    for index, row in tqdm(raw_emails_df.iterrows()):\n",
    "        parsed_message = row['parsed_emails']\n",
    "        dates.append(parsed_message['date'])\n",
    "        texts.append(parsed_message['text'])\n",
    "        \n",
    "        email_from = parsed_message['mail_from']\n",
    "        id_from.append(int(contacts_df[contacts_df.email == email_from].id))\n",
    "        \n",
    "        try:\n",
    "            emails_to_list = parsed_message['mail_to']\n",
    "        except KeyError:\n",
    "            emails_to_list = []\n",
    "            \n",
    "        id_to_list = []\n",
    "        if emails_to_list:\n",
    "            for email_to in emails_to_list:\n",
    "                id_to_list.append(str(int(contacts_df[contacts_df.email == email_to].id)))\n",
    "            id_to.append(','.join(id_to_list))\n",
    "        else:\n",
    "            id_to.append('')  \n",
    "            \n",
    "    emails_df = pd.DataFrame({'date':dates, 'id_from':id_from, 'id_to':id_to, 'text':texts})\n",
    "    return emails_df"
   ]
  },
  {
   "cell_type": "code",
   "execution_count": 32,
   "metadata": {
    "scrolled": false
   },
   "outputs": [
    {
     "name": "stdout",
     "output_type": "stream",
     "text": [
      "2 Message-ID: <23812407.1075854693699.JavaMail.evans@thyme>\n",
      "Date: Wed, 13 Sep 2000 01:22:00 -0700 (PDT)\n",
      "From: eric.bass@enron.com\n",
      "To: brian.hoskins@enron.com, matthew.lenhart@enron.com, \n",
      "\ttimothy.blanchard@enron.com, bryan.hull@enron.com, \n",
      "\tjeffrey.gossett@enron.com, o'neal.winfree@enron.com, \n",
      "\tdavid.baumbach@enron.com, kenneth.shulklapper@enron.com, \n",
      "\tnick.hiemstra@enron.com\n",
      "Subject: GAME TONIGHT @ 7:30\n",
      "Cc: luis.mena@enron.com, amir.ahanchian@enron.com\n",
      "Mime-Version: 1.0\n",
      "Content-Type: text/plain; charset=us-ascii\n",
      "Content-Transfer-Encoding: 7bit\n",
      "Bcc: luis.mena@enron.com, amir.ahanchian@enron.com\n",
      "X-From: Eric Bass\n",
      "X-To: Brian Hoskins, Matthew Lenhart, Timothy Blanchard, Bryan Hull, Jeffrey C Gossett, O'Neal D Winfree, David Baumbach, Kenneth Shulklapper, Nick Hiemstra\n",
      "X-cc: Luis Mena, Amir Ahanchian\n",
      "X-bcc: \n",
      "X-Folder: \\Eric_Bass_Dec2000\\Notes Folders\\Sent\n",
      "X-Origin: Bass-E\n",
      "X-FileName: ebass.nsf\n"
     ]
    }
   ],
   "source": [
    "for index, row in emails_sample.iterrows():\n",
    "    message_split = row['message'].split('\\n\\n')\n",
    "    meta = message_split[0]\n",
    "    text = '\\n\\n'.join(message_split[1:])\n",
    "    #texts.append(text)\n",
    "    #meta_list = meta.replace('\\n\\t','').replace('\\n ',' ').split('\\n')\n",
    "    #for attr in meta_list:\n",
    "     #   attr = attr.split(': ')\n",
    "      #  if (attr[0] == 'To'):\n",
    "       #     if ('navigator@nisource.com' in attr[1]):\n",
    "        #        print(index, meta)\n",
    "    if 'Well, we are supposed to have a game tonight' in text:\n",
    "        print(index, meta)"
   ]
  },
  {
   "cell_type": "code",
   "execution_count": 27,
   "metadata": {
    "scrolled": true
   },
   "outputs": [
    {
     "name": "stderr",
     "output_type": "stream",
     "text": [
      "10000it [07:34, 22.02it/s]\n"
     ]
    }
   ],
   "source": [
    "emails_df = make_emails_df(emails_sample, contacts)\n"
   ]
  },
  {
   "cell_type": "code",
   "execution_count": 28,
   "metadata": {},
   "outputs": [
    {
     "data": {
      "text/html": [
       "<div>\n",
       "<style>\n",
       "    .dataframe thead tr:only-child th {\n",
       "        text-align: right;\n",
       "    }\n",
       "\n",
       "    .dataframe thead th {\n",
       "        text-align: left;\n",
       "    }\n",
       "\n",
       "    .dataframe tbody tr th {\n",
       "        vertical-align: top;\n",
       "    }\n",
       "</style>\n",
       "<table border=\"1\" class=\"dataframe\">\n",
       "  <thead>\n",
       "    <tr style=\"text-align: right;\">\n",
       "      <th></th>\n",
       "      <th>date</th>\n",
       "      <th>id_from</th>\n",
       "      <th>id_to</th>\n",
       "      <th>text</th>\n",
       "    </tr>\n",
       "  </thead>\n",
       "  <tbody>\n",
       "    <tr>\n",
       "      <th>0</th>\n",
       "      <td>Wed, 11 Jul 2001 13:51:20 -0700 (PDT)</td>\n",
       "      <td>4415</td>\n",
       "      <td>5383</td>\n",
       "      <td>Mark -- Attached is a list of ISDA's NA Energy...</td>\n",
       "    </tr>\n",
       "    <tr>\n",
       "      <th>1</th>\n",
       "      <td>Wed, 17 Oct 2001 07:21:21 -0700 (PDT)</td>\n",
       "      <td>7815</td>\n",
       "      <td>7815</td>\n",
       "      <td>COLUMBIA GAS TRANSMISSION CORPORATION\\n       ...</td>\n",
       "    </tr>\n",
       "    <tr>\n",
       "      <th>2</th>\n",
       "      <td>Wed, 13 Sep 2000 01:22:00 -0700 (PDT)</td>\n",
       "      <td>7853</td>\n",
       "      <td>6318,2379,11187,12022,6719,11017,3026,8322,2524</td>\n",
       "      <td>Well, we are supposed to have a game tonight a...</td>\n",
       "    </tr>\n",
       "    <tr>\n",
       "      <th>3</th>\n",
       "      <td>Wed, 31 Oct 2001 07:11:51 -0800 (PST)</td>\n",
       "      <td>757</td>\n",
       "      <td>7565</td>\n",
       "      <td>Hi Jule- thought about your comment about Fide...</td>\n",
       "    </tr>\n",
       "    <tr>\n",
       "      <th>4</th>\n",
       "      <td>Wed, 21 Mar 2001 10:16:00 -0800 (PST)</td>\n",
       "      <td>1572</td>\n",
       "      <td>2379,5537</td>\n",
       "      <td>Come on Matt, simply because Max is Jewish doe...</td>\n",
       "    </tr>\n",
       "    <tr>\n",
       "      <th>5</th>\n",
       "      <td>Thu, 29 Mar 2001 00:06:00 -0800 (PST)</td>\n",
       "      <td>10101</td>\n",
       "      <td>7443</td>\n",
       "      <td>----- Forwarded by Steven J Kean/NA/Enron on 0...</td>\n",
       "    </tr>\n",
       "    <tr>\n",
       "      <th>6</th>\n",
       "      <td>Wed, 22 Nov 2000 04:46:00 -0800 (PST)</td>\n",
       "      <td>757</td>\n",
       "      <td>1961</td>\n",
       "      <td>sounds like an opportunity for our illustrious...</td>\n",
       "    </tr>\n",
       "    <tr>\n",
       "      <th>7</th>\n",
       "      <td>Mon, 17 Dec 2001 15:42:46 -0800 (PST)</td>\n",
       "      <td>1956</td>\n",
       "      <td>8097</td>\n",
       "      <td>RIGZONE DAILY NEWS -- TUESDAY, DECEMBER 18, 20...</td>\n",
       "    </tr>\n",
       "    <tr>\n",
       "      <th>8</th>\n",
       "      <td>Mon, 12 Nov 2001 09:17:44 -0800 (PST)</td>\n",
       "      <td>11451</td>\n",
       "      <td>1281</td>\n",
       "      <td>We are totally LBs. no DEs. We had a bad defen...</td>\n",
       "    </tr>\n",
       "    <tr>\n",
       "      <th>9</th>\n",
       "      <td>Thu, 7 Jun 2001 10:41:00 -0700 (PDT)</td>\n",
       "      <td>9719</td>\n",
       "      <td>969</td>\n",
       "      <td>You have been sent this message from lisa.yoho...</td>\n",
       "    </tr>\n",
       "    <tr>\n",
       "      <th>10</th>\n",
       "      <td>Mon, 12 Feb 2001 05:50:00 -0800 (PST)</td>\n",
       "      <td>6927</td>\n",
       "      <td>3616</td>\n",
       "      <td>Krishna,\\n\\nPlease, take a look.\\n\\nVince\\n\\n-...</td>\n",
       "    </tr>\n",
       "    <tr>\n",
       "      <th>11</th>\n",
       "      <td>Wed, 12 Jul 2000 07:08:00 -0700 (PDT)</td>\n",
       "      <td>5012</td>\n",
       "      <td>7098</td>\n",
       "      <td>----- Forwarded by Mark Taylor/HOU/ECT on 07/1...</td>\n",
       "    </tr>\n",
       "    <tr>\n",
       "      <th>12</th>\n",
       "      <td>Mon, 26 Nov 2001 05:52:20 -0800 (PST)</td>\n",
       "      <td>7815</td>\n",
       "      <td>7815</td>\n",
       "      <td>COLUMBIA GAS TRANSMISSION CORPORATION\\n       ...</td>\n",
       "    </tr>\n",
       "    <tr>\n",
       "      <th>13</th>\n",
       "      <td>Sun, 11 Feb 2001 09:49:00 -0800 (PST)</td>\n",
       "      <td>7118</td>\n",
       "      <td>13153,9099,9081,1000,5678,9589,11938</td>\n",
       "      <td>Hey!\\n\\nI had along talk with Joel at Cargill ...</td>\n",
       "    </tr>\n",
       "    <tr>\n",
       "      <th>14</th>\n",
       "      <td>Fri, 27 Oct 2000 04:02:00 -0700 (PDT)</td>\n",
       "      <td>11912</td>\n",
       "      <td>1693</td>\n",
       "      <td>is this a violation or not?\\n-----------------...</td>\n",
       "    </tr>\n",
       "    <tr>\n",
       "      <th>15</th>\n",
       "      <td>Tue, 30 Jan 2001 10:31:00 -0800 (PST)</td>\n",
       "      <td>6841</td>\n",
       "      <td>7463,9901,11963,9834</td>\n",
       "      <td>FYI - the action item I had from the Buy/Cause...</td>\n",
       "    </tr>\n",
       "    <tr>\n",
       "      <th>16</th>\n",
       "      <td>Wed, 10 May 2000 05:37:00 -0700 (PDT)</td>\n",
       "      <td>12545</td>\n",
       "      <td>3589</td>\n",
       "      <td>I just sent an email to Chris telling him to s...</td>\n",
       "    </tr>\n",
       "    <tr>\n",
       "      <th>17</th>\n",
       "      <td>Wed, 11 Oct 2000 09:33:00 -0700 (PDT)</td>\n",
       "      <td>4725</td>\n",
       "      <td>1154</td>\n",
       "      <td>The new job  is great so far.  I am starting t...</td>\n",
       "    </tr>\n",
       "    <tr>\n",
       "      <th>18</th>\n",
       "      <td>Mon, 10 Apr 2000 07:28:00 -0700 (PDT)</td>\n",
       "      <td>9247</td>\n",
       "      <td>215,8336</td>\n",
       "      <td>Dear E204-1 and E204-2 Students,\\nBear with me...</td>\n",
       "    </tr>\n",
       "    <tr>\n",
       "      <th>19</th>\n",
       "      <td>Wed, 25 Apr 2001 08:40:00 -0700 (PDT)</td>\n",
       "      <td>4154</td>\n",
       "      <td>9140,10797,7724,5012,1037,5841,11741</td>\n",
       "      <td>Date:  Monday, April 30\\nTime:  10:30 - 11:30 ...</td>\n",
       "    </tr>\n",
       "  </tbody>\n",
       "</table>\n",
       "</div>"
      ],
      "text/plain": [
       "                                     date  id_from  \\\n",
       "0   Wed, 11 Jul 2001 13:51:20 -0700 (PDT)     4415   \n",
       "1   Wed, 17 Oct 2001 07:21:21 -0700 (PDT)     7815   \n",
       "2   Wed, 13 Sep 2000 01:22:00 -0700 (PDT)     7853   \n",
       "3   Wed, 31 Oct 2001 07:11:51 -0800 (PST)      757   \n",
       "4   Wed, 21 Mar 2001 10:16:00 -0800 (PST)     1572   \n",
       "5   Thu, 29 Mar 2001 00:06:00 -0800 (PST)    10101   \n",
       "6   Wed, 22 Nov 2000 04:46:00 -0800 (PST)      757   \n",
       "7   Mon, 17 Dec 2001 15:42:46 -0800 (PST)     1956   \n",
       "8   Mon, 12 Nov 2001 09:17:44 -0800 (PST)    11451   \n",
       "9    Thu, 7 Jun 2001 10:41:00 -0700 (PDT)     9719   \n",
       "10  Mon, 12 Feb 2001 05:50:00 -0800 (PST)     6927   \n",
       "11  Wed, 12 Jul 2000 07:08:00 -0700 (PDT)     5012   \n",
       "12  Mon, 26 Nov 2001 05:52:20 -0800 (PST)     7815   \n",
       "13  Sun, 11 Feb 2001 09:49:00 -0800 (PST)     7118   \n",
       "14  Fri, 27 Oct 2000 04:02:00 -0700 (PDT)    11912   \n",
       "15  Tue, 30 Jan 2001 10:31:00 -0800 (PST)     6841   \n",
       "16  Wed, 10 May 2000 05:37:00 -0700 (PDT)    12545   \n",
       "17  Wed, 11 Oct 2000 09:33:00 -0700 (PDT)     4725   \n",
       "18  Mon, 10 Apr 2000 07:28:00 -0700 (PDT)     9247   \n",
       "19  Wed, 25 Apr 2001 08:40:00 -0700 (PDT)     4154   \n",
       "\n",
       "                                              id_to  \\\n",
       "0                                              5383   \n",
       "1                                              7815   \n",
       "2   6318,2379,11187,12022,6719,11017,3026,8322,2524   \n",
       "3                                              7565   \n",
       "4                                         2379,5537   \n",
       "5                                              7443   \n",
       "6                                              1961   \n",
       "7                                              8097   \n",
       "8                                              1281   \n",
       "9                                               969   \n",
       "10                                             3616   \n",
       "11                                             7098   \n",
       "12                                             7815   \n",
       "13             13153,9099,9081,1000,5678,9589,11938   \n",
       "14                                             1693   \n",
       "15                             7463,9901,11963,9834   \n",
       "16                                             3589   \n",
       "17                                             1154   \n",
       "18                                         215,8336   \n",
       "19             9140,10797,7724,5012,1037,5841,11741   \n",
       "\n",
       "                                                 text  \n",
       "0   Mark -- Attached is a list of ISDA's NA Energy...  \n",
       "1   COLUMBIA GAS TRANSMISSION CORPORATION\\n       ...  \n",
       "2   Well, we are supposed to have a game tonight a...  \n",
       "3   Hi Jule- thought about your comment about Fide...  \n",
       "4   Come on Matt, simply because Max is Jewish doe...  \n",
       "5   ----- Forwarded by Steven J Kean/NA/Enron on 0...  \n",
       "6   sounds like an opportunity for our illustrious...  \n",
       "7   RIGZONE DAILY NEWS -- TUESDAY, DECEMBER 18, 20...  \n",
       "8   We are totally LBs. no DEs. We had a bad defen...  \n",
       "9   You have been sent this message from lisa.yoho...  \n",
       "10  Krishna,\\n\\nPlease, take a look.\\n\\nVince\\n\\n-...  \n",
       "11  ----- Forwarded by Mark Taylor/HOU/ECT on 07/1...  \n",
       "12  COLUMBIA GAS TRANSMISSION CORPORATION\\n       ...  \n",
       "13  Hey!\\n\\nI had along talk with Joel at Cargill ...  \n",
       "14  is this a violation or not?\\n-----------------...  \n",
       "15  FYI - the action item I had from the Buy/Cause...  \n",
       "16  I just sent an email to Chris telling him to s...  \n",
       "17  The new job  is great so far.  I am starting t...  \n",
       "18  Dear E204-1 and E204-2 Students,\\nBear with me...  \n",
       "19  Date:  Monday, April 30\\nTime:  10:30 - 11:30 ...  "
      ]
     },
     "execution_count": 28,
     "metadata": {},
     "output_type": "execute_result"
    }
   ],
   "source": [
    "emails_df.head(20)"
   ]
  },
  {
   "cell_type": "code",
   "execution_count": 36,
   "metadata": {
    "scrolled": false
   },
   "outputs": [
    {
     "data": {
      "text/plain": [
       "(409, 4)"
      ]
     },
     "execution_count": 36,
     "metadata": {},
     "output_type": "execute_result"
    }
   ],
   "source": [
    "emails_df[emails_df.id_to == ''].shape"
   ]
  },
  {
   "cell_type": "code",
   "execution_count": 37,
   "metadata": {
    "collapsed": true
   },
   "outputs": [],
   "source": [
    "emails_df = emails_df[emails_df.id_to != '']"
   ]
  },
  {
   "cell_type": "code",
   "execution_count": 38,
   "metadata": {
    "collapsed": true
   },
   "outputs": [],
   "source": [
    "emails_df = emails_df.reset_index(drop=True)"
   ]
  },
  {
   "cell_type": "code",
   "execution_count": 39,
   "metadata": {},
   "outputs": [
    {
     "data": {
      "text/plain": [
       "(9591, 4)"
      ]
     },
     "execution_count": 39,
     "metadata": {},
     "output_type": "execute_result"
    }
   ],
   "source": [
    "emails_df.shape"
   ]
  },
  {
   "cell_type": "code",
   "execution_count": 40,
   "metadata": {},
   "outputs": [
    {
     "data": {
      "text/plain": [
       "(13947, 3)"
      ]
     },
     "execution_count": 40,
     "metadata": {},
     "output_type": "execute_result"
    }
   ],
   "source": [
    "contacts.shape"
   ]
  },
  {
   "cell_type": "markdown",
   "metadata": {},
   "source": [
    "**Задание 2 (15 баллов)** \n",
    "\n",
    "Сформируйте матрицу $A = (a_{ij})_{i,j = 1}^N$, где $a_{ij}$ - количество писем, которое индивид $i$ отправил индивиду $j$, $N$ - количество индивидуумов\n",
    "\n",
    "Далее из матрицы $A$ получим симметричную матрицу, которая будет показывать нам частоту коммуникаций между каждой парой индивидов: $A+A^T$. Постройте по данной матрице не направленный граф, где узлы должны называться по именам, которые вы извлекли из ```X-From``` и ```X-To```\n",
    "\n",
    "**Замечание.** Так как граф слишком большой, то вы можете оставить только наиболее активных участников."
   ]
  },
  {
   "cell_type": "code",
   "execution_count": 41,
   "metadata": {
    "collapsed": true
   },
   "outputs": [],
   "source": [
    "import numpy as np"
   ]
  },
  {
   "cell_type": "code",
   "execution_count": 42,
   "metadata": {
    "collapsed": true
   },
   "outputs": [],
   "source": [
    "def make_communication_matrix(df, contacts):\n",
    "    N = contacts.shape[0]\n",
    "    A = np.zeros((N,N))\n",
    "    \n",
    "    for index, row in df.iterrows():\n",
    "        from_i = row['id_from']\n",
    "        for to_j in row['id_to'].split(','):\n",
    "            A[from_i][int(to_j)] += 1\n",
    "    return A + np.transpose(A)\n",
    "        "
   ]
  },
  {
   "cell_type": "code",
   "execution_count": 43,
   "metadata": {},
   "outputs": [
    {
     "name": "stdout",
     "output_type": "stream",
     "text": [
      "Wall time: 21.1 s\n"
     ]
    }
   ],
   "source": [
    "%%time\n",
    "communication_matrix = make_communication_matrix(emails_df, contacts)"
   ]
  },
  {
   "cell_type": "code",
   "execution_count": 44,
   "metadata": {},
   "outputs": [
    {
     "data": {
      "text/plain": [
       "(13947, 13947)"
      ]
     },
     "execution_count": 44,
     "metadata": {},
     "output_type": "execute_result"
    }
   ],
   "source": [
    "communication_matrix.shape"
   ]
  },
  {
   "cell_type": "code",
   "execution_count": 45,
   "metadata": {
    "scrolled": true
   },
   "outputs": [
    {
     "data": {
      "text/plain": [
       "370.0"
      ]
     },
     "execution_count": 45,
     "metadata": {},
     "output_type": "execute_result"
    }
   ],
   "source": [
    "max_com = communication_matrix.max()\n",
    "max_com"
   ]
  },
  {
   "cell_type": "code",
   "execution_count": 48,
   "metadata": {},
   "outputs": [
    {
     "data": {
      "text/plain": [
       "115308116"
      ]
     },
     "execution_count": 48,
     "metadata": {},
     "output_type": "execute_result"
    }
   ],
   "source": [
    "np.argmax(communication_matrix)"
   ]
  },
  {
   "cell_type": "code",
   "execution_count": 49,
   "metadata": {},
   "outputs": [
    {
     "data": {
      "text/plain": [
       "0.00058727482749495964"
      ]
     },
     "execution_count": 49,
     "metadata": {},
     "output_type": "execute_result"
    }
   ],
   "source": [
    "communication_matrix.mean()"
   ]
  },
  {
   "cell_type": "code",
   "execution_count": 50,
   "metadata": {
    "collapsed": true
   },
   "outputs": [],
   "source": [
    "%matplotlib inline\n",
    "import matplotlib.pyplot as plt"
   ]
  },
  {
   "cell_type": "code",
   "execution_count": 51,
   "metadata": {
    "collapsed": true
   },
   "outputs": [],
   "source": [
    "import networkx as nx"
   ]
  },
  {
   "cell_type": "code",
   "execution_count": 52,
   "metadata": {},
   "outputs": [
    {
     "name": "stdout",
     "output_type": "stream",
     "text": [
      "74\n"
     ]
    }
   ],
   "source": [
    "commun_measures = []\n",
    "i, j = np.where(communication_matrix > 20)\n",
    "for i_num, j_num in zip(i,j):\n",
    " #   if i_num > j_num:\n",
    "    commun_measures.append(communication_matrix[i_num][j_num])\n",
    "print(len(i))"
   ]
  },
  {
   "cell_type": "code",
   "execution_count": 57,
   "metadata": {
    "collapsed": true
   },
   "outputs": [],
   "source": [
    "commun_measures = commun_measures/max_com"
   ]
  },
  {
   "cell_type": "code",
   "execution_count": 58,
   "metadata": {
    "collapsed": true
   },
   "outputs": [],
   "source": [
    "communications = pd.DataFrame({'source':i, 'target':j, 'weight': commun_measures})"
   ]
  },
  {
   "cell_type": "code",
   "execution_count": 60,
   "metadata": {
    "collapsed": true
   },
   "outputs": [],
   "source": [
    "labels = dict(zip(contacts.id, contacts.name))"
   ]
  },
  {
   "cell_type": "code",
   "execution_count": 61,
   "metadata": {
    "collapsed": true
   },
   "outputs": [],
   "source": [
    "communications['source_name'] = [labels[source_id] for source_id in communications.source]\n",
    "communications['target_name'] = [labels[target_id] for target_id in communications.target]"
   ]
  },
  {
   "cell_type": "code",
   "execution_count": 62,
   "metadata": {},
   "outputs": [
    {
     "data": {
      "text/html": [
       "<div>\n",
       "<style>\n",
       "    .dataframe thead tr:only-child th {\n",
       "        text-align: right;\n",
       "    }\n",
       "\n",
       "    .dataframe thead th {\n",
       "        text-align: left;\n",
       "    }\n",
       "\n",
       "    .dataframe tbody tr th {\n",
       "        vertical-align: top;\n",
       "    }\n",
       "</style>\n",
       "<table border=\"1\" class=\"dataframe\">\n",
       "  <thead>\n",
       "    <tr style=\"text-align: right;\">\n",
       "      <th></th>\n",
       "      <th>source</th>\n",
       "      <th>target</th>\n",
       "      <th>weight</th>\n",
       "      <th>source_name</th>\n",
       "      <th>target_name</th>\n",
       "    </tr>\n",
       "  </thead>\n",
       "  <tbody>\n",
       "    <tr>\n",
       "      <th>0</th>\n",
       "      <td>363</td>\n",
       "      <td>6859</td>\n",
       "      <td>0.000329</td>\n",
       "      <td>All Enron Worldwide</td>\n",
       "      <td>Enron Announcements</td>\n",
       "    </tr>\n",
       "    <tr>\n",
       "      <th>1</th>\n",
       "      <td>630</td>\n",
       "      <td>7033</td>\n",
       "      <td>0.000212</td>\n",
       "      <td>Janel Guerrero</td>\n",
       "      <td>Jeff Dasovich</td>\n",
       "    </tr>\n",
       "    <tr>\n",
       "      <th>2</th>\n",
       "      <td>969</td>\n",
       "      <td>2711</td>\n",
       "      <td>0.000175</td>\n",
       "      <td>richard.shapiro@enron.com</td>\n",
       "      <td>Susan J Mara</td>\n",
       "    </tr>\n",
       "    <tr>\n",
       "      <th>3</th>\n",
       "      <td>969</td>\n",
       "      <td>7033</td>\n",
       "      <td>0.000482</td>\n",
       "      <td>richard.shapiro@enron.com</td>\n",
       "      <td>Jeff Dasovich</td>\n",
       "    </tr>\n",
       "    <tr>\n",
       "      <th>4</th>\n",
       "      <td>969</td>\n",
       "      <td>10101</td>\n",
       "      <td>0.000153</td>\n",
       "      <td>richard.shapiro@enron.com</td>\n",
       "      <td>Steven J Kean</td>\n",
       "    </tr>\n",
       "  </tbody>\n",
       "</table>\n",
       "</div>"
      ],
      "text/plain": [
       "   source  target    weight                source_name          target_name\n",
       "0     363    6859  0.000329        All Enron Worldwide  Enron Announcements\n",
       "1     630    7033  0.000212             Janel Guerrero        Jeff Dasovich\n",
       "2     969    2711  0.000175  richard.shapiro@enron.com         Susan J Mara\n",
       "3     969    7033  0.000482  richard.shapiro@enron.com        Jeff Dasovich\n",
       "4     969   10101  0.000153  richard.shapiro@enron.com        Steven J Kean"
      ]
     },
     "execution_count": 62,
     "metadata": {},
     "output_type": "execute_result"
    }
   ],
   "source": [
    "communications.head()"
   ]
  },
  {
   "cell_type": "code",
   "execution_count": 70,
   "metadata": {
    "scrolled": false
   },
   "outputs": [
    {
     "name": "stderr",
     "output_type": "stream",
     "text": [
      "C:\\Program Files\\Anaconda3\\envs\\mllecture\\lib\\site-packages\\networkx\\drawing\\nx_pylab.py:126: MatplotlibDeprecationWarning: pyplot.hold is deprecated.\n",
      "    Future behavior will be consistent with the long-time default:\n",
      "    plot commands add elements without first clearing the\n",
      "    Axes and/or Figure.\n",
      "  b = plt.ishold()\n",
      "C:\\Program Files\\Anaconda3\\envs\\mllecture\\lib\\site-packages\\networkx\\drawing\\nx_pylab.py:138: MatplotlibDeprecationWarning: pyplot.hold is deprecated.\n",
      "    Future behavior will be consistent with the long-time default:\n",
      "    plot commands add elements without first clearing the\n",
      "    Axes and/or Figure.\n",
      "  plt.hold(b)\n",
      "C:\\Program Files\\Anaconda3\\envs\\mllecture\\lib\\site-packages\\matplotlib\\__init__.py:917: UserWarning: axes.hold is deprecated. Please remove it from your matplotlibrc and/or style files.\n",
      "  warnings.warn(self.msg_depr_set % key)\n",
      "C:\\Program Files\\Anaconda3\\envs\\mllecture\\lib\\site-packages\\matplotlib\\rcsetup.py:152: UserWarning: axes.hold is deprecated, will be removed in 3.0\n",
      "  warnings.warn(\"axes.hold is deprecated, will be removed in 3.0\")\n"
     ]
    },
    {
     "data": {
      "image/png": "[encoded data removed]",
      "text/plain": [
       "<matplotlib.figure.Figure at 0x68d8f2b0>"
      ]
     },
     "metadata": {},
     "output_type": "display_data"
    }
   ],
   "source": [
    "G = nx.from_pandas_dataframe(communications, 'source_name', 'target_name')\n",
    "\n",
    "plt.figure(figsize=(10, 10))\n",
    "nx.draw(G, with_labels = True)\n",
    "plt.show()"
   ]
  },
  {
   "cell_type": "markdown",
   "metadata": {},
   "source": [
    "**Задание 3 (25 баллов)**\n",
    "\n",
    "Оцените важность отдельных узлов, используя следующие меры:\n",
    "\n",
    "* Degree centrality\n",
    "* Closeness centrality\n",
    "* Betweenness centrality\n",
    "* Eigenvector centrality\n",
    "\n",
    "Подробнее читайте в статье: УЗЛЫ В СОЦИАЛЬНЫХ СЕТЯХ: МЕРЫ ЦЕНТРАЛЬНОСТИ И РОЛЬ В СЕТЕВЫХ ПРОЦЕССАХ\n",
    "\n",
    "Для каждой меры центральности выведите топ пользователей"
   ]
  },
  {
   "cell_type": "code",
   "execution_count": 71,
   "metadata": {},
   "outputs": [
    {
     "data": {
      "text/plain": [
       "[('Jeff Dasovich', 0.4318181818181818),\n",
       " ('richard.shapiro@enron.com', 0.06818181818181818),\n",
       " ('Kate Symes', 0.06818181818181818),\n",
       " ('Susan J Mara', 0.06818181818181818),\n",
       " ('Kay Mann', 0.045454545454545456),\n",
       " ('Davis, Pete', 0.045454545454545456),\n",
       " ('Steven J Kean', 0.045454545454545456),\n",
       " ('James D Steffes', 0.045454545454545456),\n",
       " ('SOblander@carrfut.com', 0.045454545454545456),\n",
       " ('Vince J Kaminski', 0.045454545454545456),\n",
       " ('Enron Announcements', 0.045454545454545456),\n",
       " ('Gray Barbara N.', 0.022727272727272728),\n",
       " ('Ginger Dernehl', 0.022727272727272728),\n",
       " ('Stephanie Piwetz', 0.022727272727272728),\n",
       " ('vkaminski@aol.com', 0.022727272727272728),\n",
       " ('Leslie.Hansen@enron.com', 0.022727272727272728),\n",
       " ('skean@enron.com', 0.022727272727272728),\n",
       " ('Eric Bass', 0.022727272727272728),\n",
       " ('Alan Comnes', 0.022727272727272728),\n",
       " ('Richard B Sanders', 0.022727272727272728)]"
      ]
     },
     "execution_count": 71,
     "metadata": {},
     "output_type": "execute_result"
    }
   ],
   "source": [
    "sorted(nx.degree_centrality(G).items(), key = lambda x: x[1], reverse = True)[:20]"
   ]
  },
  {
   "cell_type": "code",
   "execution_count": 72,
   "metadata": {},
   "outputs": [
    {
     "data": {
      "text/plain": [
       "[('Jeff Dasovich', 0.41761363636363635),\n",
       " ('richard.shapiro@enron.com', 0.256993006993007),\n",
       " ('Susan J Mara', 0.25056818181818186),\n",
       " ('James D Steffes', 0.23308668076109937),\n",
       " ('Ginger Dernehl', 0.22778925619834714),\n",
       " ('skean@enron.com', 0.22778925619834714),\n",
       " ('Alan Comnes', 0.22778925619834714),\n",
       " ('Richard B Sanders', 0.22778925619834714),\n",
       " ('Sarah Novosel', 0.22778925619834714),\n",
       " ('Vicki Sharp', 0.22778925619834714),\n",
       " ('mpalmer@enron.com', 0.22778925619834714),\n",
       " ('Janel Guerrero', 0.22778925619834714),\n",
       " ('James Wright', 0.22778925619834714),\n",
       " ('Joe Hartsoe', 0.22778925619834714),\n",
       " ('Belden Tim', 0.22778925619834714),\n",
       " ('Scott Stoness', 0.22778925619834714),\n",
       " ('Harry Kingerski', 0.22778925619834714),\n",
       " ('Paul Kaufman', 0.22778925619834714),\n",
       " ('Karen Denne', 0.22778925619834714),\n",
       " ('Sandra McCubbin', 0.22778925619834714)]"
      ]
     },
     "execution_count": 72,
     "metadata": {},
     "output_type": "execute_result"
    }
   ],
   "source": [
    "sorted(nx.closeness_centrality(G).items(), key = lambda x: x[1], reverse = True)[:20]"
   ]
  },
  {
   "cell_type": "code",
   "execution_count": 66,
   "metadata": {},
   "outputs": [
    {
     "data": {
      "text/plain": [
       "[('Jeff Dasovich', 0.21300211416490486),\n",
       " ('richard.shapiro@enron.com', 0.04016913319238901),\n",
       " ('Steven J Kean', 0.021141649048625793),\n",
       " ('Kate Symes', 0.0031712473572938693),\n",
       " ('Susan J Mara', 0.0015856236786469346),\n",
       " ('Kay Mann', 0.0010570824524312897),\n",
       " ('Vince J Kaminski', 0.0010570824524312897),\n",
       " ('Enron Announcements', 0.0010570824524312897),\n",
       " ('Gray Barbara N.', 0.0),\n",
       " ('Ginger Dernehl', 0.0),\n",
       " ('Stephanie Piwetz', 0.0),\n",
       " ('vkaminski@aol.com', 0.0),\n",
       " ('Leslie.Hansen@enron.com', 0.0),\n",
       " ('skean@enron.com', 0.0),\n",
       " ('Eric Bass', 0.0),\n",
       " ('Alan Comnes', 0.0),\n",
       " ('Richard B Sanders', 0.0),\n",
       " ('Crenshaw Shirley', 0.0),\n",
       " ('Sarah Novosel', 0.0),\n",
       " ('Davis, Pete', 0.0)]"
      ]
     },
     "execution_count": 66,
     "metadata": {},
     "output_type": "execute_result"
    }
   ],
   "source": [
    "sorted(nx.betweenness_centrality(G).items(), key = lambda x: x[1], reverse = True)[:20]"
   ]
  },
  {
   "cell_type": "code",
   "execution_count": 74,
   "metadata": {},
   "outputs": [
    {
     "data": {
      "text/plain": [
       "[('Jeff Dasovich', 0.68862971863586),\n",
       " ('Susan J Mara', 0.24657815988457),\n",
       " ('richard.shapiro@enron.com', 0.21826521038452923),\n",
       " ('James D Steffes', 0.20701878634886403),\n",
       " ('Ginger Dernehl', 0.1524352589202673),\n",
       " ('skean@enron.com', 0.1524352589202673),\n",
       " ('Alan Comnes', 0.1524352589202673),\n",
       " ('Richard B Sanders', 0.1524352589202673),\n",
       " ('Sarah Novosel', 0.1524352589202673),\n",
       " ('Vicki Sharp', 0.1524352589202673),\n",
       " ('mpalmer@enron.com', 0.1524352589202673),\n",
       " ('Janel Guerrero', 0.1524352589202673),\n",
       " ('James Wright', 0.1524352589202673),\n",
       " ('Joe Hartsoe', 0.1524352589202673),\n",
       " ('Belden Tim', 0.1524352589202673),\n",
       " ('Scott Stoness', 0.1524352589202673),\n",
       " ('Harry Kingerski', 0.1524352589202673),\n",
       " ('Paul Kaufman', 0.1524352589202673),\n",
       " ('Karen Denne', 0.1524352589202673),\n",
       " ('Sandra McCubbin', 0.1524352589202673)]"
      ]
     },
     "execution_count": 74,
     "metadata": {},
     "output_type": "execute_result"
    }
   ],
   "source": [
    "sorted(nx.eigenvector_centrality(G, max_iter=1000).items(), key = lambda x: x[1], reverse = True)[:20]"
   ]
  },
  {
   "cell_type": "markdown",
   "metadata": {},
   "source": [
    "**Бонусное задание (25 баллов)** \n",
    "\n",
    "Выделите темы, которые обсуждаются в письмах.\n",
    "\n",
    "Выберите одну из мер центральности и для топа пользователей по данной мере укажите, какие темы они обсуждают чаще всего и с кем."
   ]
  },
  {
   "cell_type": "code",
   "execution_count": 75,
   "metadata": {},
   "outputs": [
    {
     "name": "stderr",
     "output_type": "stream",
     "text": [
      "C:\\Program Files\\Anaconda3\\Lib\\site-packages\\gensim\\utils.py:860: UserWarning: detected Windows; aliasing chunkize to chunkize_serial\n",
      "  warnings.warn(\"detected Windows; aliasing chunkize to chunkize_serial\")\n",
      "Slow version of gensim.models.doc2vec is being used\n"
     ]
    }
   ],
   "source": [
    "from gensim import corpora, models"
   ]
  },
  {
   "cell_type": "code",
   "execution_count": 136,
   "metadata": {
    "collapsed": true
   },
   "outputs": [],
   "source": [
    "from nltk.corpus import stopwords\n",
    "eng_stop = stopwords.words('english')"
   ]
  },
  {
   "cell_type": "code",
   "execution_count": 137,
   "metadata": {
    "collapsed": true
   },
   "outputs": [],
   "source": [
    "mail_stop = ['http','com','enron','image','would', 'pm', 'www', 'sent', 'gif','e','cc', 'subject', 'date', 'thanks', 'id', 'forwarded', 'message','please','mail']\n",
    "eng_stop += mail_stop"
   ]
  },
  {
   "cell_type": "code",
   "execution_count": 126,
   "metadata": {},
   "outputs": [],
   "source": [
    "def preprocess(text_list):\n",
    "    preprocessed_texts = []\n",
    "    for text in tqdm(text_list):\n",
    "        tokens = re.findall(r'[a-z]+', text.lower())\n",
    "        preprocessed_texts.append(' '.join([token for token in tokens if token not in eng_stop]))\n",
    "    return preprocessed_texts"
   ]
  },
  {
   "cell_type": "code",
   "execution_count": 138,
   "metadata": {},
   "outputs": [
    {
     "name": "stderr",
     "output_type": "stream",
     "text": [
      "100%|█████████████████████████████████████| 9591/9591 [00:16<00:00, 573.11it/s]\n"
     ]
    }
   ],
   "source": [
    "preprocessed_mails = preprocess(emails_df.text)"
   ]
  },
  {
   "cell_type": "code",
   "execution_count": 139,
   "metadata": {
    "collapsed": true
   },
   "outputs": [],
   "source": [
    "emails_df['preprocessed'] = preprocessed_mails"
   ]
  },
  {
   "cell_type": "code",
   "execution_count": 140,
   "metadata": {
    "collapsed": true
   },
   "outputs": [],
   "source": [
    "corpus = []\n",
    "\n",
    "for text in emails_df.preprocessed:\n",
    "    corpus.extend(text.split())"
   ]
  },
  {
   "cell_type": "code",
   "execution_count": 141,
   "metadata": {
    "collapsed": true
   },
   "outputs": [],
   "source": [
    "dictionary = corpora.Dictionary([corpus])"
   ]
  },
  {
   "cell_type": "code",
   "execution_count": 143,
   "metadata": {},
   "outputs": [],
   "source": [
    "mails_bow = [dictionary.doc2bow(text.split()) for text in emails_df.preprocessed]"
   ]
  },
  {
   "cell_type": "code",
   "execution_count": 146,
   "metadata": {
    "scrolled": true
   },
   "outputs": [],
   "source": [
    "lda = models.ldamodel.LdaModel(corpus = mails_bow, id2word = dictionary, num_topics = 10, passes=1)"
   ]
  },
  {
   "cell_type": "code",
   "execution_count": 148,
   "metadata": {},
   "outputs": [
    {
     "data": {
      "text/plain": [
       "[(0,\n",
       "  '0.007*\"company\" + 0.007*\"energy\" + 0.005*\"market\" + 0.005*\"said\" + 0.005*\"new\" + 0.004*\"gas\" + 0.004*\"power\" + 0.004*\"business\" + 0.003*\"trading\" + 0.003*\"also\"'),\n",
       " (1,\n",
       "  '0.007*\"know\" + 0.005*\"time\" + 0.005*\"call\" + 0.005*\"let\" + 0.005*\"vince\" + 0.004*\"like\" + 0.004*\"meeting\" + 0.004*\"get\" + 0.004*\"work\" + 0.004*\"need\"'),\n",
       " (2,\n",
       "  '0.104*\"omni\" + 0.032*\"cn\" + 0.032*\"forney\" + 0.032*\"ou\" + 0.031*\"dect\" + 0.031*\"dhou\" + 0.031*\"djohn\" + 0.015*\"updatedby\" + 0.015*\"omniorgtable\" + 0.015*\"nopurge\"'),\n",
       " (3,\n",
       "  '0.009*\"email\" + 0.009*\"information\" + 0.006*\"click\" + 0.005*\"may\" + 0.004*\"use\" + 0.004*\"intended\" + 0.004*\"new\" + 0.004*\"time\" + 0.004*\"contact\" + 0.004*\"pdf\"'),\n",
       " (4,\n",
       "  '0.019*\"omni\" + 0.007*\"one\" + 0.007*\"et\" + 0.005*\"way\" + 0.005*\"new\" + 0.005*\"day\" + 0.004*\"get\" + 0.003*\"gas\" + 0.003*\"go\" + 0.003*\"us\"'),\n",
       " (5,\n",
       "  '0.097*\"ect\" + 0.038*\"hou\" + 0.009*\"corp\" + 0.005*\"deal\" + 0.005*\"enronxgate\" + 0.005*\"lon\" + 0.005*\"mark\" + 0.005*\"know\" + 0.004*\"na\" + 0.004*\"agreement\"'),\n",
       " (6,\n",
       "  '0.025*\"td\" + 0.015*\"font\" + 0.009*\"b\" + 0.009*\"final\" + 0.009*\"type\" + 0.007*\"schedule\" + 0.007*\"class\" + 0.006*\"trans\" + 0.006*\"data\" + 0.006*\"br\"'),\n",
       " (7,\n",
       "  '0.012*\"said\" + 0.010*\"power\" + 0.006*\"california\" + 0.006*\"state\" + 0.005*\"new\" + 0.005*\"company\" + 0.004*\"energy\" + 0.003*\"market\" + 0.003*\"prices\" + 0.003*\"president\"'),\n",
       " (8,\n",
       "  '0.026*\"hou\" + 0.026*\"ect\" + 0.022*\"ees\" + 0.015*\"corp\" + 0.010*\"na\" + 0.010*\"development\" + 0.005*\"original\" + 0.005*\"mark\" + 0.005*\"j\" + 0.004*\"communications\"'),\n",
       " (9,\n",
       "  '0.009*\"million\" + 0.006*\"company\" + 0.006*\"round\" + 0.005*\"net\" + 0.005*\"said\" + 0.004*\"firm\" + 0.004*\"capital\" + 0.004*\"partners\" + 0.004*\"new\" + 0.003*\"funding\"')]"
      ]
     },
     "execution_count": 148,
     "metadata": {},
     "output_type": "execute_result"
    }
   ],
   "source": [
    "lda.print_topics(10)"
   ]
  },
  {
   "cell_type": "markdown",
   "metadata": {},
   "source": [
    "С помощью LDA выделили 10 тем сообщений, некоторые из них интерпретируемы по тематическим словам: например, тема 9 связана с капиталом компании (million, firm, funding, capital), тема 7 - рынок в отрасли энергетики (power, energy, market, prices)."
   ]
  },
  {
   "cell_type": "code",
   "execution_count": null,
   "metadata": {
    "collapsed": true
   },
   "outputs": [],
   "source": []
  }
 ],
 "metadata": {
  "kernelspec": {
   "display_name": "Python 3",
   "language": "python",
   "name": "python3"
  },
  "language_info": {
   "codemirror_mode": {
    "name": "ipython",
    "version": 3
   },
   "file_extension": ".py",
   "mimetype": "text/x-python",
   "name": "python",
   "nbconvert_exporter": "python",
   "pygments_lexer": "ipython3",
   "version": "3.5.3"
  }
 },
 "nbformat": 4,
 "nbformat_minor": 2
}
