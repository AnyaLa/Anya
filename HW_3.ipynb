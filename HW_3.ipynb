{
 "cells": [
  {
   "cell_type": "markdown",
   "metadata": {},
   "source": [
    "## Домашняя работа 3"
   ]
  },
  {
   "cell_type": "markdown",
   "metadata": {},
   "source": [
    "### VK API"
   ]
  },
  {
   "cell_type": "code",
   "execution_count": 1,
   "metadata": {
    "collapsed": true
   },
   "outputs": [],
   "source": [
    "import sys\n",
    "sys.path.append('C:\\Program Files\\Anaconda3\\Lib\\site-packages')"
   ]
  },
  {
   "cell_type": "markdown",
   "metadata": {},
   "source": [
    "Установите библиотеку [vk](https://github.com/dimka665/vk) для работы с VK API в Python:\n",
    "\n",
    "** pip install vk **\n",
    "\n",
    "Импортируйте данную библиотеку: "
   ]
  },
  {
   "cell_type": "code",
   "execution_count": 2,
   "metadata": {
    "collapsed": true
   },
   "outputs": [],
   "source": [
    "import vk"
   ]
  },
  {
   "cell_type": "markdown",
   "metadata": {},
   "source": [
    "После установки модуля, необходимо [создать приложение на сайте VK](https://vk.com/dev/native_create)\n",
    "\n",
    "После регистрации приложения, понадобится только его **ID**. Его можно найти во вкладке **Настройки**.\n",
    "\n",
    "Теперь создайте файл credentials.py (подобно тому, которой мы создавали на семинаре 8), который должен выглядеть следующим образом:"
   ]
  },
  {
   "cell_type": "code",
   "execution_count": null,
   "metadata": {
    "collapsed": true
   },
   "outputs": [],
   "source": [
    "id_app = '... ID приложения ...'\n",
    "login = '... Ваш логин в вк ...'\n",
    "password = '... Ваш пароль в вк ...'"
   ]
  },
  {
   "cell_type": "markdown",
   "metadata": {},
   "source": [
    "Авторизуйтесь:"
   ]
  },
  {
   "cell_type": "code",
   "execution_count": 3,
   "metadata": {
    "collapsed": true
   },
   "outputs": [],
   "source": [
    "#авторизация с помощью service token\n",
    "session = vk.Session(access_token = '33e34c1b33e34c1b33e34c1b593382329c333e333e34c1b6976ada5b7947af10e0ee700')\n",
    "vk_api = vk.API(session)"
   ]
  },
  {
   "cell_type": "markdown",
   "metadata": {},
   "source": [
    "При такой авторизации нужно указывать не только логин, пароль и ID приложения, но и то, к чему мы хотим получить доступ. Для того чтобы данный код сработал корректно, при авторизации нужно указать дополнительно аргумент с названием scope и перечислить через запятую те методы, доступ к которым мы хотим получить. Например:"
   ]
  },
  {
   "cell_type": "code",
   "execution_count": 19,
   "metadata": {},
   "outputs": [
    {
     "name": "stdout",
     "output_type": "stream",
     "text": [
      "2018-03-01 03:17:57,395 vk    mixins:127 INFO: Getting permissions\n"
     ]
    }
   ],
   "source": [
    "#session = vk.AuthSession(id_app, login, password, scope='wall')\n",
    "#vk_api = vk.API(session)"
   ]
  },
  {
   "cell_type": "markdown",
   "metadata": {},
   "source": [
    "В данном примере я запрашиваю доступ к стене. Названия методов, к которым возможно получить доступ можно посмотреть на [этой странице документации](https://vk.com/dev/objects)."
   ]
  },
  {
   "cell_type": "markdown",
   "metadata": {},
   "source": [
    "**Задача 1. Формирование корпуса текстов** (10 баллов) \n",
    "\n",
    "Найдите две или более группы, которые публикуют достаточно содержательные посты (например, новости и т.п.). Тематика групп должна быть различной. \n",
    "\n",
    "С помощью [wall.get](https://vk.com/dev/wall.get) скачайте посты данных групп и сформируйте корпуса текстов, используя возможности [pandas](https://pythonspot.com/category/pandas/)."
   ]
  },
  {
   "cell_type": "code",
   "execution_count": 3,
   "metadata": {
    "collapsed": true
   },
   "outputs": [],
   "source": [
    "import pandas as pd"
   ]
  },
  {
   "cell_type": "code",
   "execution_count": 5,
   "metadata": {
    "collapsed": true
   },
   "outputs": [],
   "source": [
    "def get_group_posts(group_id, posts_count): #скачать posts_count*100 постов группы\n",
    "    \n",
    "    corpus = []\n",
    "    for k in range(posts_count):\n",
    "        response = vk_api.wall.get(owner_id = group_id, count = 100, filter = 'owner', v = '5.73', offset = 100*k)\n",
    "        corpus.extend([response['items'][i]['text'] for i in range(len(response['items'])) if response['items'][i]['text']])\n",
    "    return corpus\n",
    "   "
   ]
  },
  {
   "cell_type": "markdown",
   "metadata": {},
   "source": [
    "Были выбраны 4 группы ВКонтакте. Тематика групп:\n",
    "* искусство https://vk.com/arttraffic2\n",
    "* джаз https://vk.com/jazzcalendar\n",
    "* математика https://vk.com/matematura\n",
    "* эмиграция, обучение за рубежом https://vk.com/emigration_help"
   ]
  },
  {
   "cell_type": "code",
   "execution_count": 12,
   "metadata": {
    "collapsed": true
   },
   "outputs": [],
   "source": [
    "corpus_jazz = get_group_posts(-43416763, 10) #988"
   ]
  },
  {
   "cell_type": "code",
   "execution_count": 13,
   "metadata": {
    "collapsed": true,
    "scrolled": true
   },
   "outputs": [],
   "source": [
    "corpus_art = get_group_posts(-52526415, 10) #958"
   ]
  },
  {
   "cell_type": "code",
   "execution_count": 14,
   "metadata": {
    "collapsed": true
   },
   "outputs": [],
   "source": [
    "corpus_math = get_group_posts(-109232148, 10) #959"
   ]
  },
  {
   "cell_type": "code",
   "execution_count": 15,
   "metadata": {
    "collapsed": true
   },
   "outputs": [],
   "source": [
    "corpus_migrate = get_group_posts(-50560478, 12) #993"
   ]
  },
  {
   "cell_type": "code",
   "execution_count": 16,
   "metadata": {
    "collapsed": true
   },
   "outputs": [],
   "source": [
    "corpus = pd.DataFrame(columns = ['jazz', 'art', 'math', 'places'])"
   ]
  },
  {
   "cell_type": "code",
   "execution_count": 17,
   "metadata": {
    "collapsed": true
   },
   "outputs": [],
   "source": [
    "#из скачанных текстов взяты по 900 штук для общего датафрейма\n",
    "corpus['jazz'] = corpus_jazz[:900]\n",
    "corpus['art'] = corpus_art[:900]\n",
    "corpus['math'] = corpus_math[:900]\n",
    "corpus['places'] = corpus_migrate[:900]"
   ]
  },
  {
   "cell_type": "code",
   "execution_count": 18,
   "metadata": {},
   "outputs": [
    {
     "data": {
      "text/html": [
       "<div>\n",
       "<style>\n",
       "    .dataframe thead tr:only-child th {\n",
       "        text-align: right;\n",
       "    }\n",
       "\n",
       "    .dataframe thead th {\n",
       "        text-align: left;\n",
       "    }\n",
       "\n",
       "    .dataframe tbody tr th {\n",
       "        vertical-align: top;\n",
       "    }\n",
       "</style>\n",
       "<table border=\"1\" class=\"dataframe\">\n",
       "  <thead>\n",
       "    <tr style=\"text-align: right;\">\n",
       "      <th></th>\n",
       "      <th>jazz</th>\n",
       "      <th>art</th>\n",
       "      <th>math</th>\n",
       "      <th>places</th>\n",
       "    </tr>\n",
       "  </thead>\n",
       "  <tbody>\n",
       "    <tr>\n",
       "      <th>0</th>\n",
       "      <td>[club43416763|От серьёзного до популярного – т...</td>\n",
       "      <td>Психология сказки: Мария-Луиза фон Франц\\n \\nМ...</td>\n",
       "      <td>Все ближе экзамен, и в топ читательских предпо...</td>\n",
       "      <td>ВСЕ СПОСОБЫ ЛЕГАЛЬНО УЕХАТЬ В США НА ПМЖ\\n\\nСП...</td>\n",
       "    </tr>\n",
       "    <tr>\n",
       "      <th>1</th>\n",
       "      <td>[club43416763|Четыре золотые струны Банни Брюн...</td>\n",
       "      <td>Деревянные брошки по произведениям искусства о...</td>\n",
       "      <td>Что нас ждет в мартовском номере Квантика.\\n1)...</td>\n",
       "      <td>Куда уехать жить и работать: определяемся с вы...</td>\n",
       "    </tr>\n",
       "    <tr>\n",
       "      <th>2</th>\n",
       "      <td>[club43416763|Сделано в СССР!] \\n \\nДорогие др...</td>\n",
       "      <td>SQÜRL - EP #260 (2017)\\n\\nКосмическая музыка Д...</td>\n",
       "      <td>Метод рационализации в решении неравенств вовс...</td>\n",
       "      <td>Во сколько обходится в среднем ежемесячное про...</td>\n",
       "    </tr>\n",
       "    <tr>\n",
       "      <th>3</th>\n",
       "      <td>[club43416763|В это время всё оттаивает, да и ...</td>\n",
       "      <td>[club37196179|pulp art] — очень приятный пабли...</td>\n",
       "      <td>В систему Статград добавлены очередные номера ...</td>\n",
       "      <td>Аргентина,Патагония</td>\n",
       "    </tr>\n",
       "    <tr>\n",
       "      <th>4</th>\n",
       "      <td>Гитарист-виртуоз Илья ЛУШТАК (New York, USA) п...</td>\n",
       "      <td>Документальный фильм Джима Джармуша «Gimme Dan...</td>\n",
       "      <td>Калейдоскоп –– это детская игрушка: яркие кусо...</td>\n",
       "      <td>Последние данные о зарплате в Канаде по провин...</td>\n",
       "    </tr>\n",
       "  </tbody>\n",
       "</table>\n",
       "</div>"
      ],
      "text/plain": [
       "                                                jazz  \\\n",
       "0  [club43416763|От серьёзного до популярного – т...   \n",
       "1  [club43416763|Четыре золотые струны Банни Брюн...   \n",
       "2  [club43416763|Сделано в СССР!] \\n \\nДорогие др...   \n",
       "3  [club43416763|В это время всё оттаивает, да и ...   \n",
       "4  Гитарист-виртуоз Илья ЛУШТАК (New York, USA) п...   \n",
       "\n",
       "                                                 art  \\\n",
       "0  Психология сказки: Мария-Луиза фон Франц\\n \\nМ...   \n",
       "1  Деревянные брошки по произведениям искусства о...   \n",
       "2  SQÜRL - EP #260 (2017)\\n\\nКосмическая музыка Д...   \n",
       "3  [club37196179|pulp art] — очень приятный пабли...   \n",
       "4  Документальный фильм Джима Джармуша «Gimme Dan...   \n",
       "\n",
       "                                                math  \\\n",
       "0  Все ближе экзамен, и в топ читательских предпо...   \n",
       "1  Что нас ждет в мартовском номере Квантика.\\n1)...   \n",
       "2  Метод рационализации в решении неравенств вовс...   \n",
       "3  В систему Статград добавлены очередные номера ...   \n",
       "4  Калейдоскоп –– это детская игрушка: яркие кусо...   \n",
       "\n",
       "                                              places  \n",
       "0  ВСЕ СПОСОБЫ ЛЕГАЛЬНО УЕХАТЬ В США НА ПМЖ\\n\\nСП...  \n",
       "1  Куда уехать жить и работать: определяемся с вы...  \n",
       "2  Во сколько обходится в среднем ежемесячное про...  \n",
       "3                                Аргентина,Патагония  \n",
       "4  Последние данные о зарплате в Канаде по провин...  "
      ]
     },
     "execution_count": 18,
     "metadata": {},
     "output_type": "execute_result"
    }
   ],
   "source": [
    "corpus.head()"
   ]
  },
  {
   "cell_type": "code",
   "execution_count": 19,
   "metadata": {
    "collapsed": true
   },
   "outputs": [],
   "source": [
    "corpus.to_csv('raw_posts.csv', encoding = 'utf-8', index = 0) #сохраним датафрейм, чтобы не скачивать заново"
   ]
  },
  {
   "cell_type": "code",
   "execution_count": 51,
   "metadata": {
    "collapsed": true
   },
   "outputs": [],
   "source": [
    "corpus = pd.read_csv('raw_posts.csv', encoding = 'utf-8')"
   ]
  },
  {
   "cell_type": "markdown",
   "metadata": {},
   "source": [
    "**Задача 2. Предобработка ** (15 баллов)\n",
    "\n",
    "Предобработайте корпуса текстов: \n",
    "* Очистите тексты от мусора, используя [регулярные выражения](https://docs.python.org/2/library/re.html)\n",
    "* [Лемматизируйте текст](https://github.com/arinaaageeva/Lemmatization)\n",
    "* Удалите стоп-слова\n",
    "\n",
    "Список стоп-слов можно получить с помощью модуля [stop-words](https://pypi.python.org/pypi/stop-words)"
   ]
  },
  {
   "cell_type": "code",
   "execution_count": 53,
   "metadata": {
    "collapsed": true
   },
   "outputs": [],
   "source": [
    "import re"
   ]
  },
  {
   "cell_type": "code",
   "execution_count": 11,
   "metadata": {
    "collapsed": true
   },
   "outputs": [],
   "source": [
    "from stop_words import get_stop_words"
   ]
  },
  {
   "cell_type": "code",
   "execution_count": 12,
   "metadata": {
    "collapsed": true
   },
   "outputs": [],
   "source": [
    "stopwords = get_stop_words('russian')"
   ]
  },
  {
   "cell_type": "code",
   "execution_count": 56,
   "metadata": {},
   "outputs": [
    {
     "data": {
      "text/plain": [
       "421"
      ]
     },
     "execution_count": 56,
     "metadata": {},
     "output_type": "execute_result"
    }
   ],
   "source": [
    "len(stopwords)"
   ]
  },
  {
   "cell_type": "code",
   "execution_count": 57,
   "metadata": {
    "collapsed": true
   },
   "outputs": [],
   "source": [
    "import pymorphy2"
   ]
  },
  {
   "cell_type": "code",
   "execution_count": 58,
   "metadata": {
    "collapsed": true
   },
   "outputs": [],
   "source": [
    "morph = pymorphy2.MorphAnalyzer()"
   ]
  },
  {
   "cell_type": "code",
   "execution_count": 59,
   "metadata": {},
   "outputs": [
    {
     "data": {
      "text/plain": [
       "'фрейд'"
      ]
     },
     "execution_count": 59,
     "metadata": {},
     "output_type": "execute_result"
    }
   ],
   "source": [
    "morph.parse('фрейда')[0].normal_form"
   ]
  },
  {
   "cell_type": "markdown",
   "metadata": {},
   "source": [
    "Функция предобработки: выделяет слова, лемматизирует, удаляет стоп-слова"
   ]
  },
  {
   "cell_type": "code",
   "execution_count": 60,
   "metadata": {
    "collapsed": true
   },
   "outputs": [],
   "source": [
    "from tqdm import tqdm"
   ]
  },
  {
   "cell_type": "code",
   "execution_count": 61,
   "metadata": {
    "collapsed": true
   },
   "outputs": [],
   "source": [
    "def preprocess(texts, stopwords):\n",
    "    clean_texts = []\n",
    "    for text in tqdm(texts):\n",
    "        words = re.findall(r'[а-яё]+', text.lower())\n",
    "        lemmas = [morph.parse(word)[0].normal_form for word in words if word not in stopwords]\n",
    "        clean_texts.append(' '.join(lemmas))\n",
    "    return clean_texts"
   ]
  },
  {
   "cell_type": "code",
   "execution_count": 62,
   "metadata": {},
   "outputs": [
    {
     "name": "stderr",
     "output_type": "stream",
     "text": [
      "100%|████████████████████████████████████████████| 2/2 [00:00<00:00,  7.17it/s]\n"
     ]
    },
    {
     "data": {
      "text/plain": [
       "['близкий экзамен топ читательский предпочтение выбиться методический указание подготовка егэ наш издательство разный книга один базовый экзамен профильный пособие устроить одинаково задание сгруппировать диагностический работа тематический тренинг один тренинг каждый задача экзамен тренинг состоять задание подготовительный задание зачётный уровень сложность подготовительный задание увеличиваться задача задача последний задание достигать уровень сложность реальный задание экзамен уровень зачётный задание целое соответствовать уровень сложность реальный задание егэ подготовка решение задание краткий ответ следовать вначале решить один диагностический работа выявление проблемный зона знание навык решение задача повторить вызвать затруднение материал учебник решить соответствующий тренинг перейти следующий диагностический работа оценка успешность повторение закрепление навык решение задача часть краткий ответ аналогичный алгоритм рекомендовать подготовка решение задача развернуть решение необходимый наряду данные пособие использовать учебник специализировать класс учебник профильный уровень проверить время пособие поступать вуз выбор читатель',\n",
       " 'ждать мартовский номер квантик научный приключение ребята погожий зимний днём обнаружить удивительный явление мочь фотография понять происходить оглянуться заметить подобный изгибать многогранник трубочка геометрический построение свой рука парадокс паррондо играть заведомо проигрышный игра выигрывать дело получаться разбиение треугольник равнобедренный треугольник исследовать разный случай задачка головломка журнал группа вконтакте']"
      ]
     },
     "execution_count": 62,
     "metadata": {},
     "output_type": "execute_result"
    }
   ],
   "source": [
    "preprocess(corpus.math[:2], stopwords)"
   ]
  },
  {
   "cell_type": "code",
   "execution_count": 63,
   "metadata": {},
   "outputs": [
    {
     "name": "stderr",
     "output_type": "stream",
     "text": [
      "100%|████████████████████████████████████████| 900/900 [01:38<00:00,  9.18it/s]\n",
      "100%|████████████████████████████████████████| 900/900 [06:45<00:00,  2.22it/s]\n",
      "100%|████████████████████████████████████████| 900/900 [00:34<00:00, 26.26it/s]\n",
      "100%|████████████████████████████████████████| 900/900 [03:14<00:00,  4.63it/s]\n"
     ]
    }
   ],
   "source": [
    "corpus['jazz'] = preprocess(corpus.jazz, stopwords)\n",
    "corpus['art'] = preprocess(corpus.art, stopwords)\n",
    "corpus['math'] = preprocess(corpus.math, stopwords)\n",
    "corpus['places'] = preprocess(corpus.places, stopwords)"
   ]
  },
  {
   "cell_type": "code",
   "execution_count": 66,
   "metadata": {
    "collapsed": true
   },
   "outputs": [],
   "source": [
    "corpus.to_csv('vk_corpus.csv', encoding = 'utf-8', index = 0)"
   ]
  },
  {
   "cell_type": "code",
   "execution_count": 4,
   "metadata": {},
   "outputs": [],
   "source": [
    "corpus = pd.read_csv('vk_corpus.csv', encoding = 'utf-8')"
   ]
  },
  {
   "cell_type": "code",
   "execution_count": 5,
   "metadata": {},
   "outputs": [
    {
     "data": {
      "text/html": [
       "<div>\n",
       "<style>\n",
       "    .dataframe thead tr:only-child th {\n",
       "        text-align: right;\n",
       "    }\n",
       "\n",
       "    .dataframe thead th {\n",
       "        text-align: left;\n",
       "    }\n",
       "\n",
       "    .dataframe tbody tr th {\n",
       "        vertical-align: top;\n",
       "    }\n",
       "</style>\n",
       "<table border=\"1\" class=\"dataframe\">\n",
       "  <thead>\n",
       "    <tr style=\"text-align: right;\">\n",
       "      <th></th>\n",
       "      <th>jazz</th>\n",
       "      <th>art</th>\n",
       "      <th>math</th>\n",
       "      <th>places</th>\n",
       "    </tr>\n",
       "  </thead>\n",
       "  <tbody>\n",
       "    <tr>\n",
       "      <th>0</th>\n",
       "      <td>серьёзный популярный грош март германия дессау...</td>\n",
       "      <td>психология сказка мария луиз фон франц мария л...</td>\n",
       "      <td>близкий экзамен топ читательский предпочтение ...</td>\n",
       "      <td>способ легально уехать сша пмж способ лотерея ...</td>\n",
       "    </tr>\n",
       "    <tr>\n",
       "      <th>1</th>\n",
       "      <td>золотой струна банни брюнеть легендарный бас г...</td>\n",
       "      <td>деревянный брошка произведение искусство броше...</td>\n",
       "      <td>ждать мартовский номер квантик научный приключ...</td>\n",
       "      <td>уехать жить работать определяться выбор опреде...</td>\n",
       "    </tr>\n",
       "    <tr>\n",
       "      <th>2</th>\n",
       "      <td>сделать ссср дорогой друг март псков родиться ...</td>\n",
       "      <td>космический музыка джим джармуш противоречие м...</td>\n",
       "      <td>метод рационализация решение неравенство вовсе...</td>\n",
       "      <td>обходиться среднее ежемесячный проживание канада</td>\n",
       "    </tr>\n",
       "    <tr>\n",
       "      <th>3</th>\n",
       "      <td>оттаивать становиться мягкий весна похожий сим...</td>\n",
       "      <td>приятный паблик особа атмосфера вливаться</td>\n",
       "      <td>система статград добавить очередной номер журнал</td>\n",
       "      <td>аргентина патагония</td>\n",
       "    </tr>\n",
       "    <tr>\n",
       "      <th>4</th>\n",
       "      <td>гитарист виртуоз илья луштак приглашать рожден...</td>\n",
       "      <td>документальный фильм джим джармуш история игга...</td>\n",
       "      <td>калейдоскоп детский игрушка яркий кусочек стек...</td>\n",
       "      <td>последний дать зарплата канада провинция</td>\n",
       "    </tr>\n",
       "  </tbody>\n",
       "</table>\n",
       "</div>"
      ],
      "text/plain": [
       "                                                jazz  \\\n",
       "0  серьёзный популярный грош март германия дессау...   \n",
       "1  золотой струна банни брюнеть легендарный бас г...   \n",
       "2  сделать ссср дорогой друг март псков родиться ...   \n",
       "3  оттаивать становиться мягкий весна похожий сим...   \n",
       "4  гитарист виртуоз илья луштак приглашать рожден...   \n",
       "\n",
       "                                                 art  \\\n",
       "0  психология сказка мария луиз фон франц мария л...   \n",
       "1  деревянный брошка произведение искусство броше...   \n",
       "2  космический музыка джим джармуш противоречие м...   \n",
       "3          приятный паблик особа атмосфера вливаться   \n",
       "4  документальный фильм джим джармуш история игга...   \n",
       "\n",
       "                                                math  \\\n",
       "0  близкий экзамен топ читательский предпочтение ...   \n",
       "1  ждать мартовский номер квантик научный приключ...   \n",
       "2  метод рационализация решение неравенство вовсе...   \n",
       "3   система статград добавить очередной номер журнал   \n",
       "4  калейдоскоп детский игрушка яркий кусочек стек...   \n",
       "\n",
       "                                              places  \n",
       "0  способ легально уехать сша пмж способ лотерея ...  \n",
       "1  уехать жить работать определяться выбор опреде...  \n",
       "2   обходиться среднее ежемесячный проживание канада  \n",
       "3                                аргентина патагония  \n",
       "4           последний дать зарплата канада провинция  "
      ]
     },
     "execution_count": 5,
     "metadata": {},
     "output_type": "execute_result"
    }
   ],
   "source": [
    "corpus.head()"
   ]
  },
  {
   "cell_type": "code",
   "execution_count": 6,
   "metadata": {
    "collapsed": true,
    "scrolled": true
   },
   "outputs": [],
   "source": [
    "corpus = corpus.dropna(how = 'any') #удалим тексты, которые стали пустыми после предобработки (содержались только хэштеги)"
   ]
  },
  {
   "cell_type": "code",
   "execution_count": 7,
   "metadata": {},
   "outputs": [
    {
     "data": {
      "text/plain": [
       "(848, 4)"
      ]
     },
     "execution_count": 7,
     "metadata": {},
     "output_type": "execute_result"
    }
   ],
   "source": [
    "corpus.shape"
   ]
  },
  {
   "cell_type": "markdown",
   "metadata": {},
   "source": [
    "** Задача 3. Выделение признаков** (5 баллов)\n",
    "\n",
    "Воспользуйтесь [TfidfVectorizer](http://scikit-learn.org/stable/modules/generated/sklearn.feature_extraction.text.TfidfVectorizer.html) для векторизации текстов. \n",
    "\n",
    "Сначала нужно создать и обучить vectorizer:\n",
    "\n",
    "```\n",
    "\n",
    "from sklearn.feature_extraction.text import TfidfVectorizer\n",
    "\n",
    "vectorizer = TfidfVectorizer(stop_words=<сюда передайте список стоп слов>).fit(<сюда передайте весь корпус текстов>)\n",
    "```\n",
    "\n",
    "Что бы преообразовать тексты в векторное представление используйте метод transform:\n",
    "```\n",
    "tfidf_vectors = vectorizer.transform(<список текстов>)\n",
    "```\n",
    "Получение списка имён признаков:\n",
    "```\n",
    "features_names = vectorizer.get_features_name()\n",
    "```\n",
    "Для каждой группы получите список топ-токенов и выведите ."
   ]
  },
  {
   "cell_type": "code",
   "execution_count": 8,
   "metadata": {
    "collapsed": true
   },
   "outputs": [],
   "source": [
    "from sklearn.feature_extraction.text import TfidfVectorizer"
   ]
  },
  {
   "cell_type": "code",
   "execution_count": 17,
   "metadata": {
    "collapsed": true
   },
   "outputs": [],
   "source": [
    "import numpy as np"
   ]
  },
  {
   "cell_type": "code",
   "execution_count": 9,
   "metadata": {
    "collapsed": true
   },
   "outputs": [],
   "source": [
    "def get_top_tokens(tfidf_matrix, features_names, n):\n",
    "    mean_tfidf = tfidf_matrix.mean(axis = 0)\n",
    "    mean = np.transpose(mean_tfidf).tolist()\n",
    "    mean_tfidf_words = zip(features_names, mean)\n",
    "    sorted_tfidf = sorted(mean_tfidf_words, key = lambda column: column[1], reverse = True)\n",
    "    tokens, tfs = zip(*sorted_tfidf[:n])\n",
    "    return tokens\n",
    "    "
   ]
  },
  {
   "cell_type": "code",
   "execution_count": 15,
   "metadata": {},
   "outputs": [],
   "source": [
    "#векторизуем тексты про искусство\n",
    "vectorizer_art = TfidfVectorizer(stop_words = stopwords).fit(corpus.art)\n",
    "tfidf_vect_art = vectorizer_art.transform(corpus.art)\n",
    "features_names_art = vectorizer_art.get_feature_names()"
   ]
  },
  {
   "cell_type": "code",
   "execution_count": 18,
   "metadata": {
    "scrolled": true
   },
   "outputs": [
    {
     "data": {
      "text/plain": [
       "('фильм',\n",
       " 'искусство',\n",
       " 'книга',\n",
       " 'история',\n",
       " 'художник',\n",
       " 'фотография',\n",
       " 'кино',\n",
       " 'мир',\n",
       " 'век',\n",
       " 'роман',\n",
       " 'работа',\n",
       " 'музыка',\n",
       " 'режиссёр',\n",
       " 'автор',\n",
       " 'картина',\n",
       " 'культура',\n",
       " 'образ',\n",
       " 'современный',\n",
       " 'философия',\n",
       " 'самый')"
      ]
     },
     "execution_count": 18,
     "metadata": {},
     "output_type": "execute_result"
    }
   ],
   "source": [
    "#искусство - топ 20 токенов \n",
    "top_tokens_art = get_top_tokens(tfidf_vect_art, features_names_art, 20)\n",
    "top_tokens_art"
   ]
  },
  {
   "cell_type": "code",
   "execution_count": 19,
   "metadata": {
    "collapsed": true
   },
   "outputs": [],
   "source": [
    "vectorizer_jazz = TfidfVectorizer(stop_words = stopwords).fit(corpus.jazz)\n",
    "tfidf_vect_jazz = vectorizer_jazz.transform(corpus.jazz)\n",
    "features_names_jazz = vectorizer_jazz.get_feature_names()"
   ]
  },
  {
   "cell_type": "code",
   "execution_count": 20,
   "metadata": {},
   "outputs": [
    {
     "data": {
      "text/plain": [
       "('альбом',\n",
       " 'музыкант',\n",
       " 'трек',\n",
       " 'джазовый',\n",
       " 'играть',\n",
       " 'музыка',\n",
       " 'джаз',\n",
       " 'композиция',\n",
       " 'запись',\n",
       " 'оркестр',\n",
       " 'саксофон',\n",
       " 'группа',\n",
       " 'записать',\n",
       " 'свой',\n",
       " 'музыкальный',\n",
       " 'тенор',\n",
       " 'фортепиано',\n",
       " 'друг',\n",
       " 'пианист',\n",
       " 'лейбл')"
      ]
     },
     "execution_count": 20,
     "metadata": {},
     "output_type": "execute_result"
    }
   ],
   "source": [
    "#джаз -  топ 20 токенов \n",
    "top_tokens_jazz = get_top_tokens(tfidf_vect_jazz, features_names_jazz, 20)\n",
    "top_tokens_jazz"
   ]
  },
  {
   "cell_type": "code",
   "execution_count": 21,
   "metadata": {
    "collapsed": true
   },
   "outputs": [],
   "source": [
    "vectorizer_math = TfidfVectorizer(stop_words = stopwords).fit(corpus.math)\n",
    "tfidf_vect_math = vectorizer_math.transform(corpus.math)\n",
    "features_names_math = vectorizer_math.get_feature_names()"
   ]
  },
  {
   "cell_type": "code",
   "execution_count": 22,
   "metadata": {},
   "outputs": [
    {
     "data": {
      "text/plain": [
       "('задача',\n",
       " 'математика',\n",
       " 'книга',\n",
       " 'задачка',\n",
       " 'число',\n",
       " 'теория',\n",
       " 'математический',\n",
       " 'геометрия',\n",
       " 'решение',\n",
       " 'субботний',\n",
       " 'видео',\n",
       " 'журнал',\n",
       " 'наука',\n",
       " 'треугольник',\n",
       " 'точка',\n",
       " 'олимпиада',\n",
       " 'школьник',\n",
       " 'автор',\n",
       " 'номер',\n",
       " 'воскресный')"
      ]
     },
     "execution_count": 22,
     "metadata": {},
     "output_type": "execute_result"
    }
   ],
   "source": [
    "#математика -  топ 20 токенов \n",
    "top_tokens_math = get_top_tokens(tfidf_vect_math, features_names_math, 20)\n",
    "top_tokens_math"
   ]
  },
  {
   "cell_type": "code",
   "execution_count": 23,
   "metadata": {
    "collapsed": true
   },
   "outputs": [],
   "source": [
    "vectorizer_places = TfidfVectorizer(stop_words = stopwords).fit(corpus.places)\n",
    "tfidf_vect_places = vectorizer_places.transform(corpus.places)\n",
    "features_names_places = vectorizer_places.get_feature_names()"
   ]
  },
  {
   "cell_type": "code",
   "execution_count": 24,
   "metadata": {},
   "outputs": [
    {
     "data": {
      "text/plain": [
       "('страна',\n",
       " 'город',\n",
       " 'работа',\n",
       " 'нью',\n",
       " 'йорк',\n",
       " 'язык',\n",
       " 'сша',\n",
       " 'виза',\n",
       " 'канада',\n",
       " 'самый',\n",
       " 'образование',\n",
       " 'евро',\n",
       " 'подписаться',\n",
       " 'студент',\n",
       " 'дом',\n",
       " 'получить',\n",
       " 'программа',\n",
       " 'германия',\n",
       " 'английский',\n",
       " 'университет')"
      ]
     },
     "execution_count": 24,
     "metadata": {},
     "output_type": "execute_result"
    }
   ],
   "source": [
    "#эмиграция -  топ 20 токенов \n",
    "top_tokens_places = get_top_tokens(tfidf_vect_places, features_names_places, 20)\n",
    "top_tokens_places"
   ]
  },
  {
   "cell_type": "markdown",
   "metadata": {},
   "source": [
    "**Задача 4. Визуализация** (5 баллов)\n",
    "\n",
    "Визуализируйте токены для каждого сообщества с помощью [WORDCLOUD](https://python-graph-gallery.com/wordcloud/)"
   ]
  },
  {
   "cell_type": "code",
   "execution_count": 27,
   "metadata": {
    "collapsed": true
   },
   "outputs": [],
   "source": [
    "from wordcloud import WordCloud\n",
    "import matplotlib.pyplot as plt"
   ]
  },
  {
   "cell_type": "markdown",
   "metadata": {},
   "source": [
    "Искусство"
   ]
  },
  {
   "cell_type": "code",
   "execution_count": 35,
   "metadata": {},
   "outputs": [],
   "source": [
    "wordcloud_art = \\\n",
    "    WordCloud(width=480, height=480, max_words = 20, background_color = 'white').generate(' '.join(corpus.art.values))"
   ]
  },
  {
   "cell_type": "code",
   "execution_count": 37,
   "metadata": {
    "scrolled": true
   },
   "outputs": [
    {
     "data": {
      "image/png": "[encoded data removed]",
      "text/plain": [
       "<matplotlib.figure.Figure at 0xca95978>"
      ]
     },
     "metadata": {},
     "output_type": "display_data"
    }
   ],
   "source": [
    "plt.imshow(wordcloud_art, interpolation='bilinear')\n",
    "plt.axis(\"off\")\n",
    "plt.margins(x=0, y=0)\n",
    "plt.show()\n"
   ]
  },
  {
   "cell_type": "markdown",
   "metadata": {},
   "source": [
    "Джаз"
   ]
  },
  {
   "cell_type": "code",
   "execution_count": 40,
   "metadata": {},
   "outputs": [
    {
     "data": {
      "image/png": "[encoded data removed]",
      "text/plain": [
       "<matplotlib.figure.Figure at 0xcd82080>"
      ]
     },
     "metadata": {},
     "output_type": "display_data"
    }
   ],
   "source": [
    "wordcloud_jazz = \\\n",
    "    WordCloud(width=480, height=480, max_words = 20, background_color = 'white').generate(' '.join(corpus.jazz.values))\n",
    "plt.imshow(wordcloud_jazz, interpolation='bilinear')\n",
    "plt.axis(\"off\")\n",
    "plt.margins(x=0, y=0)\n",
    "plt.show()"
   ]
  },
  {
   "cell_type": "markdown",
   "metadata": {},
   "source": [
    "Математика"
   ]
  },
  {
   "cell_type": "code",
   "execution_count": 41,
   "metadata": {
    "scrolled": true
   },
   "outputs": [
    {
     "data": {
      "image/png": "[encoded data removed]",
      "text/plain": [
       "<matplotlib.figure.Figure at 0xfbfa358>"
      ]
     },
     "metadata": {},
     "output_type": "display_data"
    }
   ],
   "source": [
    "wordcloud_math = \\\n",
    "    WordCloud(width=480, height=480, max_words = 20, background_color = 'white').generate(' '.join(corpus.math.values))\n",
    "plt.imshow(wordcloud_math, interpolation='bilinear')\n",
    "plt.axis(\"off\")\n",
    "plt.margins(x=0, y=0)\n",
    "plt.show()"
   ]
  },
  {
   "cell_type": "markdown",
   "metadata": {},
   "source": [
    "Эмиграция"
   ]
  },
  {
   "cell_type": "code",
   "execution_count": 42,
   "metadata": {},
   "outputs": [
    {
     "data": {
      "image/png": "[encoded data removed]",
      "text/plain": [
       "<matplotlib.figure.Figure at 0x14631c88>"
      ]
     },
     "metadata": {},
     "output_type": "display_data"
    }
   ],
   "source": [
    "wordcloud_places = \\\n",
    "    WordCloud(width=480, height=480, max_words = 20, background_color = 'white').generate(' '.join(corpus.places.values))\n",
    "plt.imshow(wordcloud_places, interpolation='bilinear')\n",
    "plt.axis(\"off\")\n",
    "plt.margins(x=0, y=0)\n",
    "plt.show()"
   ]
  },
  {
   "cell_type": "markdown",
   "metadata": {},
   "source": [
    "**Задача 5. Поиск коллокаций** (15 баллов)\n",
    "\n",
    "Для каждого сообщества найдите статистические значиммые коллокации с помощью PMI"
   ]
  },
  {
   "cell_type": "code",
   "execution_count": 53,
   "metadata": {
    "collapsed": true
   },
   "outputs": [],
   "source": [
    "#составление вероятностного словаря слов \n",
    "def vocab(texts_list):\n",
    "    lemmas = []\n",
    "    for text in texts_list:\n",
    "        lemmas.extend([word for word in text.split()])\n",
    "    dictionary = {}\n",
    "    n = len(lemmas)\n",
    "    #print(n)\n",
    "    for lemma in lemmas:\n",
    "        dictionary.setdefault(lemma, 0)\n",
    "        dictionary[lemma] += 1/n\n",
    "    return dictionary"
   ]
  },
  {
   "cell_type": "code",
   "execution_count": 65,
   "metadata": {
    "collapsed": true
   },
   "outputs": [],
   "source": [
    "#вероятностный словарь биграмм\n",
    "def bigram_vocab(text_list):\n",
    "    bigrams = []\n",
    "    for text in text_list:\n",
    "        word_list = text.split()\n",
    "        bigrams.extend([w1 + ' ' + w2 for w1, w2 in zip(word_list[:-1], word_list[1:])])\n",
    "    dictionary = {}\n",
    "    n = len(bigrams)\n",
    "    #print(n)\n",
    "    for bigram in bigrams:\n",
    "        dictionary.setdefault(bigram, 0)\n",
    "        dictionary[bigram] += 1/n\n",
    "    return dictionary"
   ]
  },
  {
   "cell_type": "code",
   "execution_count": 127,
   "metadata": {
    "collapsed": true
   },
   "outputs": [],
   "source": [
    "#вычисление PMI для биграммы\n",
    "def pmi(p_1w, p_2w, p_bigram):\n",
    "    return np.log(p_bigram/(p_1w * p_2w))"
   ]
  },
  {
   "cell_type": "code",
   "execution_count": 135,
   "metadata": {},
   "outputs": [],
   "source": [
    "#словарь биграмм с PMI\n",
    "def pmi_vocab(text_list):\n",
    "    word_dictionary = vocab(text_list)\n",
    "    bigram_dictionary = bigram_vocab(text_list)\n",
    "    for key, value in bigram_dictionary.items():\n",
    "        w1, w2 = key.split()\n",
    "        p1 = word_dictionary[w1]\n",
    "        p2 = word_dictionary[w2]\n",
    "\n",
    "        bigram_dictionary[key] = pmi(p1, p2, value)\n",
    "    return bigram_dictionary\n",
    "        \n",
    "        "
   ]
  },
  {
   "cell_type": "code",
   "execution_count": 139,
   "metadata": {
    "collapsed": true
   },
   "outputs": [],
   "source": [
    "pmi_dict_art = pmi_vocab(corpus.art)"
   ]
  },
  {
   "cell_type": "code",
   "execution_count": 141,
   "metadata": {},
   "outputs": [
    {
     "data": {
      "text/plain": [
       "('лось откачивать',\n",
       " 'петушок тулеев',\n",
       " 'ниппур датироваться',\n",
       " 'клингера кавалли',\n",
       " 'луисвилльский торчок',\n",
       " 'макото такато',\n",
       " 'хорасанец нимый',\n",
       " 'махасангхик санкхие',\n",
       " 'окислить шуруп',\n",
       " 'сдоба добрить',\n",
       " 'мирло ладерман',\n",
       " 'восколебаться иссохнуть',\n",
       " 'салдан нэтан',\n",
       " 'охранный грамота',\n",
       " 'микробиос космоантропос',\n",
       " 'антимиметичный антиреальный',\n",
       " 'дост вшесться',\n",
       " 'предательница обьектом',\n",
       " 'профинансировать недешевый',\n",
       " 'рейнолдс стабс')"
      ]
     },
     "execution_count": 141,
     "metadata": {},
     "output_type": "execute_result"
    }
   ],
   "source": [
    "pmi_top_art = sorted(pmi_dict_art.items(), key = lambda item:item[1], reverse = True)[:20]\n",
    "collocations_art, pmi_art = zip(*pmi_top_art)\n",
    "collocations_art"
   ]
  },
  {
   "cell_type": "code",
   "execution_count": 143,
   "metadata": {
    "collapsed": true
   },
   "outputs": [],
   "source": [
    "pmi_dict_jazz = pmi_vocab(corpus.jazz)"
   ]
  },
  {
   "cell_type": "code",
   "execution_count": 144,
   "metadata": {},
   "outputs": [
    {
     "data": {
      "text/plain": [
       "('вымереть моллюск',\n",
       " 'мэнни дайса',\n",
       " 'многоклеточный ископаемое',\n",
       " 'полис миннесый',\n",
       " 'неуплата алименты',\n",
       " 'розарио джулиани',\n",
       " 'щенок безумствовать',\n",
       " 'покатиться откос',\n",
       " 'туура косок',\n",
       " 'борщев пояс',\n",
       " 'огород лачуга',\n",
       " 'шаблон актуализировать',\n",
       " 'гастон буэно',\n",
       " 'брукм йер',\n",
       " 'новиков злоязычный',\n",
       " 'бьюфорд джастис',\n",
       " 'пениться вопить',\n",
       " 'фредрик льюнгквист',\n",
       " 'битловский нега',\n",
       " 'задолженность общественно')"
      ]
     },
     "execution_count": 144,
     "metadata": {},
     "output_type": "execute_result"
    }
   ],
   "source": [
    "pmi_top_jazz = sorted(pmi_dict_jazz.items(), key = lambda item:item[1], reverse = True)[:20]\n",
    "collocations_jazz, pmi_jazz = zip(*pmi_top_jazz)\n",
    "collocations_jazz"
   ]
  },
  {
   "cell_type": "code",
   "execution_count": 145,
   "metadata": {
    "collapsed": true
   },
   "outputs": [],
   "source": [
    "pmi_dict_math = pmi_vocab(corpus.math)"
   ]
  },
  {
   "cell_type": "code",
   "execution_count": 146,
   "metadata": {},
   "outputs": [
    {
     "data": {
      "text/plain": [
       "('подружка сострить',\n",
       " 'монпелье оцифровать',\n",
       " 'интенсивно развивающийся',\n",
       " 'отвращение приверженность',\n",
       " 'повстречаться очаровательный',\n",
       " 'провозглашать оптимистичный',\n",
       " 'кислый молоко',\n",
       " 'полусфера верхушка',\n",
       " 'салим руслан',\n",
       " 'выверяться досконально',\n",
       " 'берендеев поляна',\n",
       " 'сигма тау',\n",
       " 'полтавский бородинский',\n",
       " 'савчук шейпак',\n",
       " 'дальность сокращаться',\n",
       " 'ожерелие соображеняй',\n",
       " 'убелить седина',\n",
       " 'всемирный тяготение',\n",
       " 'непохожесть эквивалентный',\n",
       " 'хирцебруха присуждение')"
      ]
     },
     "execution_count": 146,
     "metadata": {},
     "output_type": "execute_result"
    }
   ],
   "source": [
    "pmi_top_math = sorted(pmi_dict_math.items(), key = lambda item:item[1], reverse = True)[:20]\n",
    "collocations_math, pmi_math = zip(*pmi_top_math)\n",
    "collocations_math"
   ]
  },
  {
   "cell_type": "code",
   "execution_count": 147,
   "metadata": {
    "collapsed": true
   },
   "outputs": [],
   "source": [
    "pmi_dict_places = pmi_vocab(corpus.places)"
   ]
  },
  {
   "cell_type": "code",
   "execution_count": 148,
   "metadata": {},
   "outputs": [
    {
     "data": {
      "text/plain": [
       "('фрукторианство веганство',\n",
       " 'добротный прилизать',\n",
       " 'гассо платтнера',\n",
       " 'программировать материя',\n",
       " 'патология дефектология',\n",
       " 'поплавковый клапан',\n",
       " 'покряхтеть нехотя',\n",
       " 'ипатьев сикорский',\n",
       " 'сток дождев',\n",
       " 'транссибирский магистраль',\n",
       " 'мотороллер помчаться',\n",
       " 'пелёнка памперс',\n",
       " 'круглогодичный экстрим',\n",
       " 'бобо образный',\n",
       " 'навальный припоминать',\n",
       " 'бдение окошечко',\n",
       " 'бунт растрата',\n",
       " 'шестьсот семьсот',\n",
       " 'осветитель хореограф',\n",
       " 'розетка подзарядка')"
      ]
     },
     "execution_count": 148,
     "metadata": {},
     "output_type": "execute_result"
    }
   ],
   "source": [
    "pmi_top_places = sorted(pmi_dict_places.items(), key = lambda item:item[1], reverse = True)[:20]\n",
    "collocations_places, pmi_places = zip(*pmi_top_places)\n",
    "collocations_places"
   ]
  },
  {
   "cell_type": "code",
   "execution_count": null,
   "metadata": {
    "collapsed": true
   },
   "outputs": [],
   "source": []
  }
 ],
 "metadata": {
  "kernelspec": {
   "display_name": "Python 3",
   "language": "python",
   "name": "python3"
  },
  "language_info": {
   "codemirror_mode": {
    "name": "ipython",
    "version": 3
   },
   "file_extension": ".py",
   "mimetype": "text/x-python",
   "name": "python",
   "nbconvert_exporter": "python",
   "pygments_lexer": "ipython3",
   "version": "3.5.3"
  }
 },
 "nbformat": 4,
 "nbformat_minor": 2
}
