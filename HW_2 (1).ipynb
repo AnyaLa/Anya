{
 "cells": [
  {
   "cell_type": "markdown",
   "metadata": {},
   "source": [
    "## Spam vs. Ham"
   ]
  },
  {
   "cell_type": "markdown",
   "metadata": {},
   "source": [
    "Целью данного задания является научится отличать письма со спамом "
   ]
  },
  {
   "cell_type": "markdown",
   "metadata": {},
   "source": [
    "**Задача 1 (2 балла). Чтение данных ** \n",
    "\n",
    "Прочитайте данные из файла spam.csv используя средства модуля [pandas](https://pandas.pydata.org/). В первом столбце пометка о роде письма (spam/ham). Будем считать, что все письма с пометкой spam лежать в первом классе, а остальные в нулевом. Во второй колонке текст сообщения. Отобразите таблицу в следующем виде\n",
    "![example](table_example.png)"
   ]
  },
  {
   "cell_type": "code",
   "execution_count": 1,
   "metadata": {
    "collapsed": true
   },
   "outputs": [],
   "source": [
    "import pandas as pd\n",
    "import re"
   ]
  },
  {
   "cell_type": "code",
   "execution_count": 2,
   "metadata": {},
   "outputs": [
    {
     "data": {
      "text/html": [
       "<div>\n",
       "<style>\n",
       "    .dataframe thead tr:only-child th {\n",
       "        text-align: right;\n",
       "    }\n",
       "\n",
       "    .dataframe thead th {\n",
       "        text-align: left;\n",
       "    }\n",
       "\n",
       "    .dataframe tbody tr th {\n",
       "        vertical-align: top;\n",
       "    }\n",
       "</style>\n",
       "<table border=\"1\" class=\"dataframe\">\n",
       "  <thead>\n",
       "    <tr style=\"text-align: right;\">\n",
       "      <th></th>\n",
       "      <th>v1</th>\n",
       "      <th>v2</th>\n",
       "    </tr>\n",
       "  </thead>\n",
       "  <tbody>\n",
       "    <tr>\n",
       "      <th>0</th>\n",
       "      <td>ham</td>\n",
       "      <td>Go until jurong point, crazy.. Available only ...</td>\n",
       "    </tr>\n",
       "    <tr>\n",
       "      <th>1</th>\n",
       "      <td>ham</td>\n",
       "      <td>Ok lar... Joking wif u oni...</td>\n",
       "    </tr>\n",
       "    <tr>\n",
       "      <th>2</th>\n",
       "      <td>spam</td>\n",
       "      <td>Free entry in 2 a wkly comp to win FA Cup fina...</td>\n",
       "    </tr>\n",
       "    <tr>\n",
       "      <th>3</th>\n",
       "      <td>ham</td>\n",
       "      <td>U dun say so early hor... U c already then say...</td>\n",
       "    </tr>\n",
       "    <tr>\n",
       "      <th>4</th>\n",
       "      <td>ham</td>\n",
       "      <td>Nah I don't think he goes to usf, he lives aro...</td>\n",
       "    </tr>\n",
       "  </tbody>\n",
       "</table>\n",
       "</div>"
      ],
      "text/plain": [
       "     v1                                                 v2\n",
       "0   ham  Go until jurong point, crazy.. Available only ...\n",
       "1   ham                      Ok lar... Joking wif u oni...\n",
       "2  spam  Free entry in 2 a wkly comp to win FA Cup fina...\n",
       "3   ham  U dun say so early hor... U c already then say...\n",
       "4   ham  Nah I don't think he goes to usf, he lives aro..."
      ]
     },
     "execution_count": 2,
     "metadata": {},
     "output_type": "execute_result"
    }
   ],
   "source": [
    "df = pd.read_csv('spam.csv', encoding = 'latin-1')\n",
    "[df.pop(x) for x in ('Unnamed: 2', 'Unnamed: 3', 'Unnamed: 4')]\n",
    "df.head()"
   ]
  },
  {
   "cell_type": "code",
   "execution_count": 4,
   "metadata": {
    "collapsed": true
   },
   "outputs": [],
   "source": [
    "df['class'] = (df['v1'] == 'spam') #true/false values for class\n",
    "df['class'] = df['class'].astype(int) #1/0 values\n",
    "df.pop('v1')\n",
    "df.columns = ['text','class']"
   ]
  },
  {
   "cell_type": "code",
   "execution_count": 5,
   "metadata": {},
   "outputs": [
    {
     "data": {
      "text/html": [
       "<div>\n",
       "<style>\n",
       "    .dataframe thead tr:only-child th {\n",
       "        text-align: right;\n",
       "    }\n",
       "\n",
       "    .dataframe thead th {\n",
       "        text-align: left;\n",
       "    }\n",
       "\n",
       "    .dataframe tbody tr th {\n",
       "        vertical-align: top;\n",
       "    }\n",
       "</style>\n",
       "<table border=\"1\" class=\"dataframe\">\n",
       "  <thead>\n",
       "    <tr style=\"text-align: right;\">\n",
       "      <th></th>\n",
       "      <th>text</th>\n",
       "      <th>class</th>\n",
       "    </tr>\n",
       "  </thead>\n",
       "  <tbody>\n",
       "    <tr>\n",
       "      <th>0</th>\n",
       "      <td>Go until jurong point, crazy.. Available only ...</td>\n",
       "      <td>0</td>\n",
       "    </tr>\n",
       "    <tr>\n",
       "      <th>1</th>\n",
       "      <td>Ok lar... Joking wif u oni...</td>\n",
       "      <td>0</td>\n",
       "    </tr>\n",
       "    <tr>\n",
       "      <th>2</th>\n",
       "      <td>Free entry in 2 a wkly comp to win FA Cup fina...</td>\n",
       "      <td>1</td>\n",
       "    </tr>\n",
       "    <tr>\n",
       "      <th>3</th>\n",
       "      <td>U dun say so early hor... U c already then say...</td>\n",
       "      <td>0</td>\n",
       "    </tr>\n",
       "    <tr>\n",
       "      <th>4</th>\n",
       "      <td>Nah I don't think he goes to usf, he lives aro...</td>\n",
       "      <td>0</td>\n",
       "    </tr>\n",
       "  </tbody>\n",
       "</table>\n",
       "</div>"
      ],
      "text/plain": [
       "                                                text  class\n",
       "0  Go until jurong point, crazy.. Available only ...      0\n",
       "1                      Ok lar... Joking wif u oni...      0\n",
       "2  Free entry in 2 a wkly comp to win FA Cup fina...      1\n",
       "3  U dun say so early hor... U c already then say...      0\n",
       "4  Nah I don't think he goes to usf, he lives aro...      0"
      ]
     },
     "execution_count": 5,
     "metadata": {},
     "output_type": "execute_result"
    }
   ],
   "source": [
    "df.head() #итоговая таблица с текстами и классами писем"
   ]
  },
  {
   "cell_type": "markdown",
   "metadata": {
    "collapsed": true
   },
   "source": [
    "**Задача 2 (3 балла). Предобработка ** \n",
    "\n",
    "Перевидите все буквы в нижний регистр. \n",
    "\n",
    "С помошью [регулярных выражений](https://docs.python.org/2/library/re.html) почистите текст отставляя только слова (удалите знаки припенания, а также все числа можно заменить на N и т.п.). \n",
    "\n",
    "Оформите это в виде функции, которая принимает на вход некоторый список текстов и возвращает, соответственно, предобработанный список текстов. \n",
    "\n",
    "Преобразуйте таблицу с данными, так чтобы в ней содержались предобработанные тексты (далее мы будем работать только с ними)."
   ]
  },
  {
   "cell_type": "code",
   "execution_count": 6,
   "metadata": {
    "collapsed": true
   },
   "outputs": [],
   "source": [
    "def preprocess(text_list):\n",
    "    clean_texts = []\n",
    "    for text in text_list:\n",
    "        no_numbers = re.sub(r'[0-9]+', ' N ', text.lower()) #приводим к нижнему регистру, заменяем числа на N\n",
    "        tokens = ' '.join(re.findall(r'[a-zN]+', no_numbers)) #оставляем только слова и N\n",
    "        clean_texts.append(tokens) #предобработанный список\n",
    "    return clean_texts"
   ]
  },
  {
   "cell_type": "code",
   "execution_count": 7,
   "metadata": {
    "collapsed": true
   },
   "outputs": [],
   "source": [
    "df.text = preprocess(df.text)"
   ]
  },
  {
   "cell_type": "code",
   "execution_count": 8,
   "metadata": {},
   "outputs": [
    {
     "data": {
      "text/html": [
       "<div>\n",
       "<style>\n",
       "    .dataframe thead tr:only-child th {\n",
       "        text-align: right;\n",
       "    }\n",
       "\n",
       "    .dataframe thead th {\n",
       "        text-align: left;\n",
       "    }\n",
       "\n",
       "    .dataframe tbody tr th {\n",
       "        vertical-align: top;\n",
       "    }\n",
       "</style>\n",
       "<table border=\"1\" class=\"dataframe\">\n",
       "  <thead>\n",
       "    <tr style=\"text-align: right;\">\n",
       "      <th></th>\n",
       "      <th>text</th>\n",
       "      <th>class</th>\n",
       "    </tr>\n",
       "  </thead>\n",
       "  <tbody>\n",
       "    <tr>\n",
       "      <th>0</th>\n",
       "      <td>go until jurong point crazy available only in ...</td>\n",
       "      <td>0</td>\n",
       "    </tr>\n",
       "    <tr>\n",
       "      <th>1</th>\n",
       "      <td>ok lar joking wif u oni</td>\n",
       "      <td>0</td>\n",
       "    </tr>\n",
       "    <tr>\n",
       "      <th>2</th>\n",
       "      <td>free entry in N a wkly comp to win fa cup fina...</td>\n",
       "      <td>1</td>\n",
       "    </tr>\n",
       "    <tr>\n",
       "      <th>3</th>\n",
       "      <td>u dun say so early hor u c already then say</td>\n",
       "      <td>0</td>\n",
       "    </tr>\n",
       "    <tr>\n",
       "      <th>4</th>\n",
       "      <td>nah i don t think he goes to usf he lives arou...</td>\n",
       "      <td>0</td>\n",
       "    </tr>\n",
       "  </tbody>\n",
       "</table>\n",
       "</div>"
      ],
      "text/plain": [
       "                                                text  class\n",
       "0  go until jurong point crazy available only in ...      0\n",
       "1                            ok lar joking wif u oni      0\n",
       "2  free entry in N a wkly comp to win fa cup fina...      1\n",
       "3        u dun say so early hor u c already then say      0\n",
       "4  nah i don t think he goes to usf he lives arou...      0"
      ]
     },
     "execution_count": 8,
     "metadata": {},
     "output_type": "execute_result"
    }
   ],
   "source": [
    "df.head()"
   ]
  },
  {
   "cell_type": "markdown",
   "metadata": {},
   "source": [
    "**Задача 3 (3 балла). Формирование словаря** \n",
    "\n",
    "Сформируйте словарь, ключами которого являются слова встречающееся в тексте, а значениями -- колличество раз, которое они встретились в корпусе текста. \n",
    "\n",
    "Оформите это в виде функции, которая принимает на вход список текстов и возвращает словарь. \n",
    "\n",
    "Какой размер словаря вы получили?"
   ]
  },
  {
   "cell_type": "code",
   "execution_count": 9,
   "metadata": {
    "collapsed": true
   },
   "outputs": [],
   "source": [
    "def make_dict(text_list):\n",
    "    dictionary = {}\n",
    "    for text in text_list:\n",
    "        token_list = text.split(' ')\n",
    "        for token in token_list:\n",
    "            if token!='':\n",
    "                dictionary.setdefault(token, 0)\n",
    "                dictionary[token] += 1\n",
    "    return dictionary"
   ]
  },
  {
   "cell_type": "code",
   "execution_count": 10,
   "metadata": {
    "collapsed": true
   },
   "outputs": [],
   "source": [
    "dictionary = make_dict(df.text) "
   ]
  },
  {
   "cell_type": "code",
   "execution_count": 11,
   "metadata": {},
   "outputs": [
    {
     "data": {
      "text/plain": [
       "7709"
      ]
     },
     "execution_count": 11,
     "metadata": {},
     "output_type": "execute_result"
    }
   ],
   "source": [
    "len(dictionary) #размер словаря"
   ]
  },
  {
   "cell_type": "markdown",
   "metadata": {},
   "source": [
    " **Задача 4 (2 балла). Удаление стоп-слов** \n",
    "\n",
    "Отсортируйте слова по убыванию частоты их встречаемости в текстах. \n",
    "\n",
    "С помощью модуля [matplotlib.pyplot](https://matplotlib.org/api/pyplot_api.html) постройте график частот встречаемости слов в тексте. \n",
    "\n",
    "Распечатайте топ-10 слов и их частоты. \n",
    "\n",
    "Какие слова чаще всего встречаются в тексте? Значимые ли это слова? "
   ]
  },
  {
   "cell_type": "code",
   "execution_count": 12,
   "metadata": {
    "collapsed": true
   },
   "outputs": [],
   "source": [
    "dict = sorted(dictionary.items(), key = lambda item:item[1], reverse = True) #сортировка слов по убыванию частоты"
   ]
  },
  {
   "cell_type": "code",
   "execution_count": 13,
   "metadata": {
    "collapsed": true
   },
   "outputs": [],
   "source": [
    "import matplotlib.pyplot as plt"
   ]
  },
  {
   "cell_type": "code",
   "execution_count": 14,
   "metadata": {
    "scrolled": true
   },
   "outputs": [
    {
     "data": {
      "text/plain": [
       "[('N', 4554),\n",
       " ('i', 3018),\n",
       " ('you', 2243),\n",
       " ('to', 2242),\n",
       " ('a', 1451),\n",
       " ('the', 1332),\n",
       " ('u', 1212),\n",
       " ('and', 979),\n",
       " ('in', 902),\n",
       " ('is', 890),\n",
       " ('me', 803),\n",
       " ('my', 762),\n",
       " ('it', 747),\n",
       " ('for', 705),\n",
       " ('your', 681),\n",
       " ('of', 622),\n",
       " ('call', 606),\n",
       " ('s', 589),\n",
       " ('that', 584),\n",
       " ('have', 575)]"
      ]
     },
     "execution_count": 14,
     "metadata": {},
     "output_type": "execute_result"
    }
   ],
   "source": [
    "dict_small = dict[:20]\n",
    "dict_small"
   ]
  },
  {
   "cell_type": "code",
   "execution_count": 15,
   "metadata": {
    "collapsed": true,
    "scrolled": true
   },
   "outputs": [],
   "source": [
    "key, value = zip(*dict_small)"
   ]
  },
  {
   "cell_type": "code",
   "execution_count": 16,
   "metadata": {},
   "outputs": [
    {
     "data": {
      "image/png": "[encoded data removed]",
      "text/plain": [
       "<matplotlib.figure.Figure at 0x9852b70>"
      ]
     },
     "metadata": {},
     "output_type": "display_data"
    }
   ],
   "source": [
    "plt.bar(range(len(dict_small)),value) #график частотности первых 20 слов словаря \n",
    "plt.xticks(range(len(dict_small)), key)\n",
    "plt.show()"
   ]
  },
  {
   "cell_type": "code",
   "execution_count": 17,
   "metadata": {},
   "outputs": [
    {
     "data": {
      "text/plain": [
       "[('N', 4554),\n",
       " ('i', 3018),\n",
       " ('you', 2243),\n",
       " ('to', 2242),\n",
       " ('a', 1451),\n",
       " ('the', 1332),\n",
       " ('u', 1212),\n",
       " ('and', 979),\n",
       " ('in', 902),\n",
       " ('is', 890)]"
      ]
     },
     "execution_count": 17,
     "metadata": {},
     "output_type": "execute_result"
    }
   ],
   "source": [
    "dict[:10] #топ-10 слов по встречаемости - малозначимые слова (артикли, предлоги, местоимения и числа N)"
   ]
  },
  {
   "cell_type": "markdown",
   "metadata": {},
   "source": [
    "**Задача 5 (5 баллов). Функциия предобработки и удаление стоп-слов. ** \n",
    "\n",
    "Для удаления стоп-слов можно использовать модуль [nltk](http://www.nltk.org/). Импортируйте stopwords из nltk.corpus, далее чтобы получить список английских стоп-слов нужно сделать stopwords.words('english').\n",
    "\n",
    "Перепишите функцию предобрабитки так, чтобы она на вход принимала список текстов и список стоп-слов, чистела текст (в том числе удаляла стоп-слова), возвращала список предобработанных текстов.  \n",
    "\n",
    "Преобразуйте таблицу с данными, так чтобы в ней содержались новые предобработанные тексты (далее мы будем работать только с ними). \n",
    "\n",
    "Сформируйте словарь. \n",
    "\n",
    "Постройте график частот встречаемости слов в тексте. \n",
    "\n",
    "Распечатайте топ-10 слов и их частоты. \n",
    "\n",
    "Какой размер словаря вы получили теперь? Остались ли ещё высокочастотные неинформативные слова? Что это за слова? Добавте их в список стоп-слов и повторите процедуру."
   ]
  },
  {
   "cell_type": "code",
   "execution_count": 18,
   "metadata": {
    "collapsed": true
   },
   "outputs": [],
   "source": [
    "from nltk.corpus import stopwords\n",
    "stopwords_eng = stopwords.words('english')"
   ]
  },
  {
   "cell_type": "code",
   "execution_count": 19,
   "metadata": {
    "collapsed": true
   },
   "outputs": [],
   "source": [
    "def preprocess2(text_list, stopwords):\n",
    "    clean_texts = []\n",
    "    for text in text_list:\n",
    "        words = re.findall(r'[a-z]+', text.lower()) #приводим к нижнему регистру, извлекаем слова в список\n",
    "        no_stopwords = []\n",
    "        [no_stopwords.append(word) for word in words if word not in stopwords] #удаляем стоп-слова            \n",
    "        tokens = ' '.join(no_stopwords) \n",
    "        clean_texts.append(tokens) #предобработанный список\n",
    "    return clean_texts"
   ]
  },
  {
   "cell_type": "code",
   "execution_count": 20,
   "metadata": {},
   "outputs": [
    {
     "data": {
      "text/html": [
       "<div>\n",
       "<style>\n",
       "    .dataframe thead tr:only-child th {\n",
       "        text-align: right;\n",
       "    }\n",
       "\n",
       "    .dataframe thead th {\n",
       "        text-align: left;\n",
       "    }\n",
       "\n",
       "    .dataframe tbody tr th {\n",
       "        vertical-align: top;\n",
       "    }\n",
       "</style>\n",
       "<table border=\"1\" class=\"dataframe\">\n",
       "  <thead>\n",
       "    <tr style=\"text-align: right;\">\n",
       "      <th></th>\n",
       "      <th>text</th>\n",
       "      <th>class</th>\n",
       "    </tr>\n",
       "  </thead>\n",
       "  <tbody>\n",
       "    <tr>\n",
       "      <th>0</th>\n",
       "      <td>Go until jurong point, crazy.. Available only ...</td>\n",
       "      <td>0</td>\n",
       "    </tr>\n",
       "    <tr>\n",
       "      <th>1</th>\n",
       "      <td>Ok lar... Joking wif u oni...</td>\n",
       "      <td>0</td>\n",
       "    </tr>\n",
       "    <tr>\n",
       "      <th>2</th>\n",
       "      <td>Free entry in 2 a wkly comp to win FA Cup fina...</td>\n",
       "      <td>1</td>\n",
       "    </tr>\n",
       "    <tr>\n",
       "      <th>3</th>\n",
       "      <td>U dun say so early hor... U c already then say...</td>\n",
       "      <td>0</td>\n",
       "    </tr>\n",
       "    <tr>\n",
       "      <th>4</th>\n",
       "      <td>Nah I don't think he goes to usf, he lives aro...</td>\n",
       "      <td>0</td>\n",
       "    </tr>\n",
       "  </tbody>\n",
       "</table>\n",
       "</div>"
      ],
      "text/plain": [
       "                                                text  class\n",
       "0  Go until jurong point, crazy.. Available only ...      0\n",
       "1                      Ok lar... Joking wif u oni...      0\n",
       "2  Free entry in 2 a wkly comp to win FA Cup fina...      1\n",
       "3  U dun say so early hor... U c already then say...      0\n",
       "4  Nah I don't think he goes to usf, he lives aro...      0"
      ]
     },
     "execution_count": 20,
     "metadata": {},
     "output_type": "execute_result"
    }
   ],
   "source": [
    "emails = pd.read_csv('spam.csv', encoding = 'latin-1')\n",
    "[emails.pop(x) for x in ('Unnamed: 2', 'Unnamed: 3', 'Unnamed: 4')]\n",
    "emails['class'] = (emails['v1'] == 'spam').astype(int) #true/false -> 1/0 values for class\n",
    "emails.pop('v1')\n",
    "emails.columns = ['text','class']\n",
    "emails.head()"
   ]
  },
  {
   "cell_type": "code",
   "execution_count": 21,
   "metadata": {
    "collapsed": true
   },
   "outputs": [],
   "source": [
    "emails.text = preprocess2(emails.text, stopwords_eng)"
   ]
  },
  {
   "cell_type": "code",
   "execution_count": 22,
   "metadata": {},
   "outputs": [
    {
     "data": {
      "text/html": [
       "<div>\n",
       "<style>\n",
       "    .dataframe thead tr:only-child th {\n",
       "        text-align: right;\n",
       "    }\n",
       "\n",
       "    .dataframe thead th {\n",
       "        text-align: left;\n",
       "    }\n",
       "\n",
       "    .dataframe tbody tr th {\n",
       "        vertical-align: top;\n",
       "    }\n",
       "</style>\n",
       "<table border=\"1\" class=\"dataframe\">\n",
       "  <thead>\n",
       "    <tr style=\"text-align: right;\">\n",
       "      <th></th>\n",
       "      <th>text</th>\n",
       "      <th>class</th>\n",
       "    </tr>\n",
       "  </thead>\n",
       "  <tbody>\n",
       "    <tr>\n",
       "      <th>0</th>\n",
       "      <td>go jurong point crazy available bugis n great ...</td>\n",
       "      <td>0</td>\n",
       "    </tr>\n",
       "    <tr>\n",
       "      <th>1</th>\n",
       "      <td>ok lar joking wif u oni</td>\n",
       "      <td>0</td>\n",
       "    </tr>\n",
       "    <tr>\n",
       "      <th>2</th>\n",
       "      <td>free entry wkly comp win fa cup final tkts st ...</td>\n",
       "      <td>1</td>\n",
       "    </tr>\n",
       "    <tr>\n",
       "      <th>3</th>\n",
       "      <td>u dun say early hor u c already say</td>\n",
       "      <td>0</td>\n",
       "    </tr>\n",
       "    <tr>\n",
       "      <th>4</th>\n",
       "      <td>nah think goes usf lives around though</td>\n",
       "      <td>0</td>\n",
       "    </tr>\n",
       "  </tbody>\n",
       "</table>\n",
       "</div>"
      ],
      "text/plain": [
       "                                                text  class\n",
       "0  go jurong point crazy available bugis n great ...      0\n",
       "1                            ok lar joking wif u oni      0\n",
       "2  free entry wkly comp win fa cup final tkts st ...      1\n",
       "3                u dun say early hor u c already say      0\n",
       "4             nah think goes usf lives around though      0"
      ]
     },
     "execution_count": 22,
     "metadata": {},
     "output_type": "execute_result"
    }
   ],
   "source": [
    "emails.head()"
   ]
  },
  {
   "cell_type": "code",
   "execution_count": 23,
   "metadata": {},
   "outputs": [
    {
     "data": {
      "text/plain": [
       "7564"
      ]
     },
     "execution_count": 23,
     "metadata": {},
     "output_type": "execute_result"
    }
   ],
   "source": [
    "email_dict = make_dict(emails.text)\n",
    "len(email_dict) #новый словарь сократился примерно на 150 слов после удаления стоп-слов"
   ]
  },
  {
   "cell_type": "code",
   "execution_count": 24,
   "metadata": {},
   "outputs": [
    {
     "data": {
      "image/png": "[encoded data removed]",
      "text/plain": [
       "<matplotlib.figure.Figure at 0xc7a2c18>"
      ]
     },
     "metadata": {},
     "output_type": "display_data"
    }
   ],
   "source": [
    "email_dict = sorted(email_dict.items(), key = lambda item:item[1], reverse = True)\n",
    "email_dict_small = email_dict[:20]\n",
    "key, value = zip(*email_dict_small)\n",
    "plt.bar(range(len(email_dict_small)),value) #график частотности первых 20 слов словаря \n",
    "plt.xticks(range(len(email_dict_small)), key)\n",
    "plt.show()"
   ]
  },
  {
   "cell_type": "code",
   "execution_count": 25,
   "metadata": {
    "scrolled": true
   },
   "outputs": [
    {
     "data": {
      "text/plain": [
       "[('u', 1212),\n",
       " ('call', 606),\n",
       " ('get', 397),\n",
       " ('ur', 385),\n",
       " ('gt', 318),\n",
       " ('lt', 316),\n",
       " ('ok', 292),\n",
       " ('free', 288),\n",
       " ('go', 286),\n",
       " ('know', 261)]"
      ]
     },
     "execution_count": 25,
     "metadata": {},
     "output_type": "execute_result"
    }
   ],
   "source": [
    "email_dict[:10] #топ-10 слов по частотности в новом словаре"
   ]
  },
  {
   "cell_type": "markdown",
   "metadata": {},
   "source": [
    "После удаления стоп-слов результат стал значительно лучше: среди наиболее частотных слов остались смысловые глаголы и некоторые лишние слова: удалим местоимения (u, ur) и оставшиеся от спецсимволов <> lt, gt."
   ]
  },
  {
   "cell_type": "code",
   "execution_count": 26,
   "metadata": {
    "collapsed": true
   },
   "outputs": [],
   "source": [
    "stopwords_eng.append('u')\n",
    "stopwords_eng.append('ur')\n",
    "stopwords_eng.append('lt')\n",
    "stopwords_eng.append('gt')"
   ]
  },
  {
   "cell_type": "code",
   "execution_count": 27,
   "metadata": {},
   "outputs": [
    {
     "data": {
      "text/html": [
       "<div>\n",
       "<style>\n",
       "    .dataframe thead tr:only-child th {\n",
       "        text-align: right;\n",
       "    }\n",
       "\n",
       "    .dataframe thead th {\n",
       "        text-align: left;\n",
       "    }\n",
       "\n",
       "    .dataframe tbody tr th {\n",
       "        vertical-align: top;\n",
       "    }\n",
       "</style>\n",
       "<table border=\"1\" class=\"dataframe\">\n",
       "  <thead>\n",
       "    <tr style=\"text-align: right;\">\n",
       "      <th></th>\n",
       "      <th>text</th>\n",
       "      <th>class</th>\n",
       "    </tr>\n",
       "  </thead>\n",
       "  <tbody>\n",
       "    <tr>\n",
       "      <th>0</th>\n",
       "      <td>go jurong point crazy available bugis n great ...</td>\n",
       "      <td>0</td>\n",
       "    </tr>\n",
       "    <tr>\n",
       "      <th>1</th>\n",
       "      <td>ok lar joking wif oni</td>\n",
       "      <td>0</td>\n",
       "    </tr>\n",
       "    <tr>\n",
       "      <th>2</th>\n",
       "      <td>free entry wkly comp win fa cup final tkts st ...</td>\n",
       "      <td>1</td>\n",
       "    </tr>\n",
       "    <tr>\n",
       "      <th>3</th>\n",
       "      <td>dun say early hor c already say</td>\n",
       "      <td>0</td>\n",
       "    </tr>\n",
       "    <tr>\n",
       "      <th>4</th>\n",
       "      <td>nah think goes usf lives around though</td>\n",
       "      <td>0</td>\n",
       "    </tr>\n",
       "  </tbody>\n",
       "</table>\n",
       "</div>"
      ],
      "text/plain": [
       "                                                text  class\n",
       "0  go jurong point crazy available bugis n great ...      0\n",
       "1                              ok lar joking wif oni      0\n",
       "2  free entry wkly comp win fa cup final tkts st ...      1\n",
       "3                    dun say early hor c already say      0\n",
       "4             nah think goes usf lives around though      0"
      ]
     },
     "execution_count": 27,
     "metadata": {},
     "output_type": "execute_result"
    }
   ],
   "source": [
    "emails.text = preprocess2(emails.text, stopwords_eng)\n",
    "emails.head()"
   ]
  },
  {
   "cell_type": "code",
   "execution_count": 28,
   "metadata": {},
   "outputs": [
    {
     "data": {
      "text/plain": [
       "7560"
      ]
     },
     "execution_count": 28,
     "metadata": {},
     "output_type": "execute_result"
    }
   ],
   "source": [
    "email_dict = make_dict(emails.text)\n",
    "len(email_dict)"
   ]
  },
  {
   "cell_type": "code",
   "execution_count": 29,
   "metadata": {},
   "outputs": [
    {
     "data": {
      "text/plain": [
       "[('call', 606),\n",
       " ('get', 397),\n",
       " ('ok', 292),\n",
       " ('free', 288),\n",
       " ('go', 286),\n",
       " ('know', 261),\n",
       " ('like', 245),\n",
       " ('good', 245),\n",
       " ('day', 242),\n",
       " ('got', 240)]"
      ]
     },
     "execution_count": 29,
     "metadata": {},
     "output_type": "execute_result"
    }
   ],
   "source": [
    "email_dict_sort = sorted(email_dict.items(), key = lambda item:item[1], reverse = True)\n",
    "email_dict_sort[:10] #топ-10 слов по частотности в новом словаре - остались только значимые слова "
   ]
  },
  {
   "cell_type": "markdown",
   "metadata": {},
   "source": [
    "**Задача 6 (5 баллов). Удаление низко частотных слов** \n",
    "\n",
    "По сформированому на предыдущем шаге словарю, посмотрите какой процент слов встречается больше одного раза. Нужны ли нам слова которые встретились только один раз? \n",
    "\n",
    "Преобразуйте функцию предобработки таким образом, что бы в ней, кроме всего прочего, формировался словарь и удалялись слишком редкие слова. \n",
    "\n",
    "Преобразуйте таблицу с данными, так чтобы в ней содержались новые предобработанные тексты (далее мы будем работать только с ними). \n",
    "\n",
    "Сформируйте словарь. Каков размер словаря теперь?"
   ]
  },
  {
   "cell_type": "code",
   "execution_count": 30,
   "metadata": {},
   "outputs": [
    {
     "name": "stdout",
     "output_type": "stream",
     "text": [
      "0.5017195767195767\n"
     ]
    }
   ],
   "source": [
    "k = 0\n",
    "for key, value in email_dict.items():\n",
    "    if value == 1:\n",
    "        k += 1\n",
    "print(k/len(email_dict)) #доля слов, которые встретились в словаре 1 раз"
   ]
  },
  {
   "cell_type": "code",
   "execution_count": 31,
   "metadata": {
    "collapsed": true
   },
   "outputs": [],
   "source": [
    "def preprocess3(text_list, stopwords):\n",
    "    no_stop_texts = []\n",
    "    clean_texts = []\n",
    "    for text in text_list:\n",
    "        words = re.findall(r'[a-z]+', text.lower()) #приводим к нижнему регистру, извлекаем слова в список\n",
    "        no_stopwords = []\n",
    "        [no_stopwords.append(word) for word in words if word not in stopwords] #удаляем стоп-слова \n",
    "        no_stop_texts.append(no_stopwords)\n",
    "    dictionary = {}\n",
    "    for text in no_stop_texts: #создаем словарь из списка без стоп-слов\n",
    "        for token in text:\n",
    "            dictionary.setdefault(token, 0)\n",
    "            dictionary[token] += 1\n",
    "    #print('dictionary ', len(dictionary))\n",
    "    exclude = [] \n",
    "    for key, value in dictionary.items(): #создаем список исключений (слов, которые 1 раз встречаются в словаре)\n",
    "        if value == 1:\n",
    "            exclude.append(key)\n",
    "    #print('exclude ', len(exclude))\n",
    "    for text in no_stop_texts:\n",
    "        tokens = ' '.join(word for word in text if word not in exclude) \n",
    "        clean_texts.append(tokens) #предобработанный список  \n",
    "    return clean_texts"
   ]
  },
  {
   "cell_type": "code",
   "execution_count": 32,
   "metadata": {
    "collapsed": true
   },
   "outputs": [],
   "source": [
    "emails.text = preprocess3(emails.text, stopwords_eng)"
   ]
  },
  {
   "cell_type": "code",
   "execution_count": 33,
   "metadata": {},
   "outputs": [
    {
     "data": {
      "text/html": [
       "<div>\n",
       "<style>\n",
       "    .dataframe thead tr:only-child th {\n",
       "        text-align: right;\n",
       "    }\n",
       "\n",
       "    .dataframe thead th {\n",
       "        text-align: left;\n",
       "    }\n",
       "\n",
       "    .dataframe tbody tr th {\n",
       "        vertical-align: top;\n",
       "    }\n",
       "</style>\n",
       "<table border=\"1\" class=\"dataframe\">\n",
       "  <thead>\n",
       "    <tr style=\"text-align: right;\">\n",
       "      <th></th>\n",
       "      <th>text</th>\n",
       "      <th>class</th>\n",
       "    </tr>\n",
       "  </thead>\n",
       "  <tbody>\n",
       "    <tr>\n",
       "      <th>0</th>\n",
       "      <td>go point crazy available bugis n great world l...</td>\n",
       "      <td>0</td>\n",
       "    </tr>\n",
       "    <tr>\n",
       "      <th>1</th>\n",
       "      <td>ok lar joking wif oni</td>\n",
       "      <td>0</td>\n",
       "    </tr>\n",
       "    <tr>\n",
       "      <th>2</th>\n",
       "      <td>free entry wkly comp win fa cup final tkts st ...</td>\n",
       "      <td>1</td>\n",
       "    </tr>\n",
       "    <tr>\n",
       "      <th>3</th>\n",
       "      <td>dun say early hor c already say</td>\n",
       "      <td>0</td>\n",
       "    </tr>\n",
       "    <tr>\n",
       "      <th>4</th>\n",
       "      <td>nah think goes usf lives around though</td>\n",
       "      <td>0</td>\n",
       "    </tr>\n",
       "  </tbody>\n",
       "</table>\n",
       "</div>"
      ],
      "text/plain": [
       "                                                text  class\n",
       "0  go point crazy available bugis n great world l...      0\n",
       "1                              ok lar joking wif oni      0\n",
       "2  free entry wkly comp win fa cup final tkts st ...      1\n",
       "3                    dun say early hor c already say      0\n",
       "4             nah think goes usf lives around though      0"
      ]
     },
     "execution_count": 33,
     "metadata": {},
     "output_type": "execute_result"
    }
   ],
   "source": [
    "emails.head()"
   ]
  },
  {
   "cell_type": "code",
   "execution_count": 34,
   "metadata": {},
   "outputs": [
    {
     "data": {
      "text/plain": [
       "3767"
      ]
     },
     "execution_count": 34,
     "metadata": {},
     "output_type": "execute_result"
    }
   ],
   "source": [
    "email_dict = make_dict(emails.text)\n",
    "len(email_dict) #размер нового словаря после удаления низкочастотных слов"
   ]
  },
  {
   "cell_type": "markdown",
   "metadata": {},
   "source": [
    "**Задача 7 (5 баллов). Представление в виде мешка слов** \n",
    "\n",
    "Реализуйте свою функцию, которая по списку текстов строит представление в виде мешка слов. На вход подаётся список текстов, а возвращает список имен признаков (т.е. слова по которым мы строим представление -- их порядок должен быть зафексирован) и numpy.array, который содержит вектора, каждая позиция которого -- число вхождений данного признака (слова) в текст.\n",
    "\n",
    "Сейчас мы реализовываем данную функцию в учебных целях, а вообще велосипед изобретать не стоит! Если вам нужно такое представление, то задействуйте модуль [sklearn.feature_extraction.text](http://scikit-learn.org/stable/modules/classes.html#module-sklearn.feature_extraction.text). Импортируйте из него класс [CountVectorizer](http://scikit-learn.org/stable/modules/generated/sklearn.feature_extraction.text.CountVectorizer.html). Создайте экземпляр класса с параметрами по умолчанию, а далее примените метод fit_transform для извлечения векторного представления текста. Чтобы получить список имён призков нужно воспользоваться методом get_feature_names. Проверте что ваша функция работает также (с точностью до перестановки признаков). \n",
    "\n",
    "Измерте скорость работы вашей и метода fit_transform. Для этого можно воспользоваться функцией time из модуля time. Постарайтесь максимально оптимизировать вашу функцию (время работы функции не должно привышать 10 с., за привышения лимита будут сняты баллы)."
   ]
  },
  {
   "cell_type": "code",
   "execution_count": 35,
   "metadata": {
    "collapsed": true
   },
   "outputs": [],
   "source": [
    "import numpy as np"
   ]
  },
  {
   "cell_type": "code",
   "execution_count": 36,
   "metadata": {
    "collapsed": true
   },
   "outputs": [],
   "source": [
    "import time\n",
    "from sklearn.feature_extraction.text import CountVectorizer, TfidfVectorizer\n"
   ]
  },
  {
   "cell_type": "code",
   "execution_count": 37,
   "metadata": {
    "collapsed": true
   },
   "outputs": [],
   "source": [
    "from collections import Counter"
   ]
  },
  {
   "cell_type": "code",
   "execution_count": 39,
   "metadata": {
    "collapsed": true
   },
   "outputs": [],
   "source": [
    "def count_vectorizer(texts):\n",
    "    \n",
    "    dictionary = make_dict(texts)    \n",
    "    features_names = list(dictionary.keys())\n",
    "    \n",
    "    #count_features = np.zeros((len(texts), len(features_names)))\n",
    "    count_features = []\n",
    "    for text in texts:\n",
    "        #vect = np.zeros(len(features_names))\n",
    "        vect = []\n",
    "        c = Counter(text.split(' '))\n",
    "        for feature in features_names:\n",
    "            vect.append(c[feature])\n",
    "            #vect[i] = c[feature]\n",
    "        count_features.append(vect)\n",
    "        c.clear()\n",
    "    return features_names, np.array(count_features)\n"
   ]
  },
  {
   "cell_type": "code",
   "execution_count": 40,
   "metadata": {},
   "outputs": [
    {
     "name": "stdout",
     "output_type": "stream",
     "text": [
      "Execution time with my count-vectorizer function -  20.087418794631958\n"
     ]
    }
   ],
   "source": [
    "begin = time.time()\n",
    "features, count_features = count_vectorizer(emails.text)\n",
    "end = time.time()\n",
    "print('Execution time with my count-vectorizer function - ', (end - begin))\n"
   ]
  },
  {
   "cell_type": "code",
   "execution_count": 41,
   "metadata": {},
   "outputs": [
    {
     "name": "stdout",
     "output_type": "stream",
     "text": [
      "(5572, 3767)\n"
     ]
    }
   ],
   "source": [
    "print(count_features.shape)"
   ]
  },
  {
   "cell_type": "code",
   "execution_count": 42,
   "metadata": {},
   "outputs": [
    {
     "name": "stdout",
     "output_type": "stream",
     "text": [
      "Execution time with CountVectorizer -  0.14600849151611328\n"
     ]
    }
   ],
   "source": [
    "begin = time.time()\n",
    "vect = CountVectorizer()\n",
    "vectorized = vect.fit_transform(emails.text)\n",
    "feature_names = vect.get_feature_names()\n",
    "end = time.time()\n",
    "print('Execution time with CountVectorizer - ', (end - begin))"
   ]
  },
  {
   "cell_type": "code",
   "execution_count": 43,
   "metadata": {},
   "outputs": [
    {
     "name": "stdout",
     "output_type": "stream",
     "text": [
      "['aah', 'aathi', 'abi', 'ability', 'abiola', 'abj', 'able', 'absolutly', 'abt', 'abta', 'aburo', 'ac', 'academic', 'acc', 'accept', 'access', 'accident', 'accidentally', 'accordingly', 'account', 'accounts', 'ache', 'acl', 'aco', 'across', 'acted', 'action', 'activate', 'active', 'activities', 'actor', 'actual', 'actually', 'ad', 'adam', 'add', 'addamsfa', 'added', 'addicted', 'addie', 'address', 'admin', 'administrator', 'admirer', 'admit', 'adore', 'adoring', 'ads', 'adult', 'advance', 'adventure', 'advice', 'advise', 'ae', 'aeronautics', 'aeroplane', 'affair', 'affairs', 'affection', 'afraid', 'aft', 'afternoon', 'aftr', 'ag', 'agalla', 'age', 'ages', 'ago', 'agree', 'ah', 'aha', 'ahead', 'ahmad', 'aight', 'aint', 'air', 'airport', 'airtel', 'aiya', 'aiyah', 'aiyar', 'aiyo', 'aj', 'aka', 'al', 'alaipayuthe', 'album', 'alcohol', 'alert', 'alex', 'alfie', 'algarve', 'ali', 'alive', 'allah', 'allow', 'allowed', 'almost', 'alone', 'along', 'already', 'alright', 'alrite', 'also', 'although', 'always', 'alwys', 'amazing', 'american', 'among', 'amongst', 'amount', 'amp', 'amt', 'amused', 'amy', 'andros', 'angry', 'anna', 'annie', 'anniversary', 'announcement', 'annoying', 'anot', 'another', 'ans', 'ansr', 'answer', 'answered', 'answering', 'answers', 'anthony', 'anti', 'anybody', 'anymore', 'anyone', 'anythin', 'anything', 'anytime', 'anyway', 'anyways', 'anywhere', 'aom', 'apart', 'apartment', 'apo', 'apologise', 'app', 'apparently', 'applebees', 'application', 'apply', 'appointment', 'appreciate', 'appreciated', 'approx', 'apps', 'appt', 'april', 'aproach', 'ar', 'arcade', 'ard', 'area', 'arent', 'argh', 'argue', 'argument', 'arm', 'armand', 'arms', 'arng', 'around', 'arrange', 'arrested', 'arrive', 'arsenal', 'art', 'arts', 'arun', 'asap', 'ashley', 'ask', 'askd', 'asked', 'askin', 'asking', 'asks', 'asleep', 'asp', 'ass', 'assume', 'ate', 'atlanta', 'atlast', 'atm', 'attached', 'attempt', 'attend', 'auction', 'audition', 'audrey', 'august', 'aunt', 'aunts', 'aunty', 'auto', 'av', 'available', 'avatar', 'ave', 'avent', 'avoid', 'avoiding', 'await', 'awaiting', 'awake', 'award', 'awarded', 'away', 'awesome', 'aww', 'ayn', 'ba', 'babe', 'babes', 'babies', 'baby', 'back', 'bad', 'bag', 'bags', 'bahamas', 'bak', 'balance', 'ball', 'bang', 'bank', 'banks', 'bar', 'barely', 'base', 'basic', 'basically', 'bat', 'batch', 'bath', 'bathe', 'bathing', 'battery', 'bay', 'bb', 'bbd', 'bc', 'bck', 'bcm', 'bcoz', 'bcums', 'bday', 'bear', 'bears', 'beautiful', 'beauty', 'bec', 'become', 'becomes', 'becoz', 'bed', 'bedrm', 'bedroom', 'beer', 'befor', 'beg', 'begging', 'begin', 'behave', 'behind', 'bein', 'believe', 'belive', 'bell', 'belly', 'belovd', 'beloved', 'ben', 'beneath', 'beneficiary', 'benefits', 'best', 'bet', 'better', 'beware', 'beyond', 'bf', 'bhaji', 'bid', 'bids', 'big', 'bigger', 'biggest', 'bill', 'billed', 'billion', 'bills', 'bin', 'biola', 'bird', 'birds', 'birla', 'birth', 'birthdate', 'birthday', 'bishan', 'bit', 'bitch', 'bite', 'biz', 'black', 'blackberry', 'blah', 'blake', 'blame', 'blank', 'bleh', 'bless', 'blessed', 'blessing', 'blessings', 'blind', 'block', 'bloke', 'blonde', 'bloo', 'blood', 'bloody', 'bloomberg', 'blow', 'blu', 'blue', 'bluetooth', 'bluff', 'blur', 'bmw', 'boat', 'body', 'bold', 'bone', 'bonus', 'boo', 'book', 'booked', 'booking', 'books', 'boost', 'booty', 'bootydelious', 'bored', 'borin', 'boring', 'born', 'borrow', 'boss', 'boston', 'bother', 'bottle', 'bottom', 'bought', 'bout', 'bowl', 'box', 'boy', 'boye', 'boyfriend', 'boys', 'boytoy', 'bp', 'brah', 'brain', 'brand', 'brandy', 'bray', 'bread', 'break', 'breath', 'breathe', 'brief', 'bright', 'brilliant', 'bring', 'bringing', 'brings', 'bristol', 'british', 'britney', 'bro', 'broad', 'broke', 'broken', 'bros', 'brothas', 'brother', 'brought', 'bruce', 'bruv', 'bslvyl', 'bstfrnd', 'bt', 'btw', 'bucks', 'bud', 'budget', 'buff', 'buffet', 'bugis', 'build', 'building', 'bulbs', 'buns', 'burger', 'burning', 'burns', 'bus', 'buses', 'business', 'busy', 'butt', 'buy', 'buying', 'buzy', 'buzz', 'bx', 'bye', 'cabin', 'cafe', 'cake', 'cal', 'calculation', 'cali', 'calicut', 'california', 'call', 'callback', 'callcost', 'calld', 'called', 'caller', 'callers', 'callertune', 'callfreefone', 'callin', 'calling', 'calls', 'calm', 'cam', 'camcorder', 'came', 'camera', 'campus', 'canada', 'canal', 'canary', 'cancel', 'cancelled', 'cancer', 'cann', 'cannot', 'cant', 'capital', 'cappuccino', 'captain', 'car', 'card', 'cardiff', 'care', 'cared', 'career', 'careers', 'careful', 'carefully', 'cares', 'caring', 'carlos', 'caroline', 'carry', 'cars', 'cartoon', 'case', 'cash', 'cashbin', 'cashto', 'castor', 'cat', 'catch', 'catching', 'caught', 'cause', 'causing', 'cbe', 'cc', 'cd', 'cdgt', 'cds', 'celeb', 'celebrate', 'celebration', 'cell', 'center', 'centre', 'certainly', 'ch', 'cha', 'chain', 'challenge', 'chance', 'chances', 'change', 'changed', 'changes', 'channel', 'character', 'charge', 'charged', 'charges', 'charity', 'charles', 'chart', 'chase', 'chasing', 'chat', 'chatting', 'cheap', 'cheaper', 'cheat', 'cheating', 'chechi', 'check', 'checked', 'checking', 'cheer', 'cheers', 'cheese', 'chennai', 'cherish', 'chest', 'chicken', 'chikku', 'child', 'childish', 'children', 'chill', 'chillin', 'china', 'chinese', 'chip', 'chocolate', 'choice', 'choose', 'chosen', 'christ', 'christmas', 'church', 'cine', 'cinema', 'citizen', 'city', 'claim', 'claims', 'claire', 'clark', 'class', 'classes', 'cld', 'clean', 'cleaning', 'clear', 'cleared', 'clearing', 'clearly', 'clever', 'click', 'clock', 'clos', 'close', 'closed', 'closer', 'closes', 'clothes', 'club', 'cm', 'cme', 'cn', 'cnn', 'co', 'coast', 'coat', 'cochin', 'cock', 'code', 'coffee', 'coin', 'coins', 'cold', 'colleagues', 'collect', 'collected', 'collecting', 'collection', 'college', 'color', 'colour', 'colours', 'com', 'combine', 'come', 'comedy', 'comes', 'comin', 'coming', 'commercial', 'common', 'community', 'comp', 'company', 'compare', 'competition', 'complaint', 'complete', 'completed', 'completely', 'complimentary', 'computer', 'comuk', 'concentrate', 'concert', 'condition', 'conditions', 'conducts', 'confidence', 'confirm', 'confirmd', 'confirmed', 'conform', 'confused', 'confuses', 'congrats', 'congratulations', 'connect', 'connection', 'connections', 'consider', 'considering', 'console', 'constant', 'constantly', 'contact', 'contacted', 'contacts', 'content', 'contents', 'continue', 'contract', 'control', 'convey', 'convinced', 'convincing', 'cook', 'cooked', 'cookies', 'cooking', 'cool', 'coping', 'copy', 'cornwall', 'correct', 'correction', 'cos', 'cost', 'costa', 'costing', 'costs', 'could', 'count', 'countin', 'country', 'couple', 'courage', 'course', 'cousin', 'cover', 'covers', 'coz', 'cr', 'crab', 'crack', 'cramps', 'crap', 'crash', 'crave', 'craziest', 'crazy', 'cream', 'created', 'credit', 'credited', 'credits', 'creep', 'creepy', 'cricketer', 'crisis', 'crore', 'cross', 'croydon', 'cruise', 'cry', 'cs', 'csbcm', 'csh', 'ctxt', 'cud', 'cuddle', 'cuddling', 'cum', 'cup', 'curious', 'current', 'currently', 'curry', 'cust', 'custcare', 'custom', 'customer', 'customers', 'cut', 'cute', 'cutefrnd', 'cutting', 'cuz', 'cw', 'da', 'dad', 'daddy', 'dai', 'daily', 'damn', 'dan', 'dance', 'dancing', 'dare', 'dark', 'darlin', 'darling', 'darlings', 'darren', 'dat', 'date', 'datebox', 'dates', 'dating', 'dave', 'day', 'days', 'dbuk', 'de', 'dead', 'deal', 'dealer', 'dealing', 'dear', 'dearer', 'dearly', 'death', 'december', 'decide', 'decided', 'deciding', 'decimal', 'decision', 'decisions', 'dedicate', 'dedicated', 'deep', 'deepak', 'deeraj', 'def', 'defeat', 'definite', 'definitely', 'del', 'delay', 'delete', 'deleted', 'delhi', 'deliver', 'delivered', 'deliveredtomorrow', 'delivery', 'dem', 'demand', 'den', 'denis', 'department', 'depends', 'depressed', 'derek', 'desert', 'desires', 'desparate', 'desperate', 'despite', 'details', 'detroit', 'deus', 'develop', 'devouring', 'dey', 'dhina', 'dhoni', 'di', 'dial', 'diamonds', 'dick', 'dictionary', 'didnt', 'die', 'died', 'diet', 'diff', 'differ', 'difference', 'different', 'difficult', 'difficulties', 'dificult', 'digital', 'dignity', 'dime', 'din', 'ding', 'dining', 'dinner', 'dint', 'dippeditinadew', 'direct', 'directly', 'dirty', 'dis', 'disclose', 'disconnect', 'discount', 'discreet', 'discuss', 'discussed', 'dislikes', 'display', 'distance', 'distract', 'disturb', 'disturbing', 'division', 'divorce', 'diwali', 'dload', 'dnt', 'dobby', 'doc', 'docs', 'doctor', 'doesnt', 'dog', 'dogging', 'doggy', 'doin', 'dokey', 'dollar', 'dollars', 'donate', 'done', 'donno', 'dont', 'door', 'doors', 'dorm', 'dot', 'double', 'doubt', 'dough', 'download', 'downloaded', 'downloads', 'dr', 'dracula', 'draw', 'dream', 'dreams', 'dress', 'dressed', 'dresser', 'drink', 'drinkin', 'drinking', 'drinks', 'drive', 'driver', 'drivin', 'driving', 'drms', 'drop', 'dropped', 'drove', 'drpd', 'drug', 'drugs', 'drunk', 'drunken', 'dry', 'dsn', 'dt', 'dubsack', 'duchess', 'dude', 'due', 'dumb', 'dun', 'dunno', 'durban', 'dvd', 'dx', 'ear', 'earlier', 'early', 'earn', 'earth', 'easier', 'easily', 'east', 'eastenders', 'easter', 'easy', 'eat', 'eaten', 'eatin', 'eating', 'ebay', 'ec', 'edge', 'edison', 'edu', 'educational', 'ee', 'eek', 'eerie', 'effect', 'effects', 'eg', 'egg', 'eggs', 'eh', 'eight', 'eighth', 'eire', 'either', 'ela', 'elaine', 'electricity', 'else', 'elsewhere', 'em', 'email', 'embarassed', 'empty', 'en', 'end', 'ended', 'ending', 'ends', 'enemy', 'energy', 'eng', 'engin', 'england', 'english', 'enjoy', 'enjoyed', 'enough', 'enter', 'entered', 'entitled', 'entry', 'enuff', 'envelope', 'environment', 'epsilon', 'er', 'ericsson', 'erm', 'error', 'escape', 'ese', 'especially', 'esplanade', 'essential', 'essexcm', 'eta', 'etc', 'euro', 'eurodisinc', 'europe', 'eva', 'eve', 'eveb', 'even', 'evening', 'evenings', 'event', 'ever', 'every', 'everybody', 'everyday', 'everyone', 'everything', 'everywhere', 'evn', 'evng', 'evr', 'evrey', 'evry', 'evrydy', 'ex', 'exact', 'exactly', 'exam', 'exams', 'excellent', 'except', 'exciting', 'excuse', 'excuses', 'exe', 'executive', 'exeter', 'exhaust', 'exhausted', 'exmpel', 'exorcist', 'expect', 'expecting', 'expensive', 'experience', 'expired', 'expires', 'explain', 'explicit', 'explosive', 'express', 'expression', 'expressoffer', 'extra', 'ey', 'eye', 'eyes', 'fa', 'fab', 'face', 'facebook', 'fact', 'faggy', 'failed', 'fails', 'fair', 'faith', 'fake', 'fall', 'falling', 'falls', 'family', 'fan', 'fancies', 'fancy', 'fantasies', 'fantastic', 'fantasy', 'far', 'farm', 'fast', 'faster', 'fastest', 'fat', 'father', 'fathima', 'fault', 'fav', 'fave', 'favor', 'favorite', 'favour', 'favourite', 'fb', 'fear', 'feb', 'february', 'feel', 'feelin', 'feeling', 'feels', 'fees', 'feet', 'fell', 'felt', 'female', 'fetch', 'fever', 'field', 'fifteen', 'fight', 'fighting', 'fightng', 'fights', 'figure', 'figures', 'fil', 'file', 'files', 'fill', 'filled', 'filling', 'fills', 'film', 'films', 'filthy', 'final', 'finally', 'finance', 'find', 'fine', 'fingers', 'finish', 'finished', 'finishes', 'finishing', 'fire', 'first', 'fish', 'fit', 'five', 'fix', 'fixed', 'fixedline', 'fl', 'flag', 'flaked', 'flaky', 'flame', 'flash', 'flat', 'flies', 'flight', 'flights', 'flip', 'flirt', 'flirting', 'floor', 'flower', 'flowing', 'fly', 'fml', 'fo', 'foley', 'follow', 'followed', 'following', 'fone', 'food', 'fool', 'foot', 'football', 'footprints', 'force', 'foreign', 'forever', 'forevr', 'forget', 'forgets', 'forgiven', 'forgot', 'forgotten', 'form', 'format', 'forms', 'forum', 'forums', 'forward', 'forwarded', 'found', 'four', 'fr', 'fran', 'frauds', 'freak', 'free', 'freedom', 'freefone', 'freemsg', 'freephone', 'freezing', 'fren', 'frens', 'fret', 'fri', 'friday', 'friend', 'friends', 'friendship', 'fringe', 'frm', 'frnd', 'frnds', 'frndship', 'frog', 'fromm', 'front', 'frying', 'fuck', 'fucked', 'fuckin', 'fucking', 'fujitsu', 'ful', 'full', 'fullonsms', 'fun', 'funeral', 'funk', 'funky', 'funny', 'furniture', 'future', 'fwd', 'fyi', 'ga', 'gain', 'gal', 'galileo', 'gals', 'game', 'games', 'gamestar', 'ganesh', 'gang', 'gap', 'gaps', 'garage', 'garbage', 'garden', 'gardener', 'gary', 'gas', 'gastroenteritis', 'gautham', 'gave', 'gay', 'gaytextbuddy', 'gb', 'gbp', 'gd', 'ge', 'gee', 'geeee', 'geeeee', 'gender', 'generally', 'genius', 'gent', 'gentle', 'gentleman', 'gently', 'genuine', 'george', 'germany', 'get', 'gets', 'getstop', 'gettin', 'getting', 'getzed', 'geva', 'gf', 'ghost', 'gibbs', 'gift', 'gifted', 'gimme', 'gin', 'girl', 'girlfrnd', 'girls', 'gist', 'giv', 'give', 'given', 'gives', 'giving', 'glad', 'gm', 'gn', 'go', 'goal', 'goals', 'god', 'gods', 'goes', 'goin', 'going', 'gold', 'goldviking', 'gona', 'gone', 'gonna', 'good', 'goodfriend', 'goodmorning', 'goodnight', 'goodnite', 'goodnoon', 'goodo', 'google', 'gorgeous', 'gossip', 'got', 'goto', 'gotta', 'gotten', 'govt', 'gpu', 'gr', 'grace', 'grahmbell', 'gram', 'grand', 'granite', 'grave', 'gravity', 'great', 'greatest', 'green', 'greet', 'greetings', 'grins', 'grl', 'ground', 'group', 'grow', 'growing', 'gthr', 'guaranteed', 'gud', 'gudnite', 'guess', 'guessing', 'guide', 'guilty', 'guy', 'guys', 'gv', 'gving', 'gym', 'ha', 'habit', 'haf', 'haha', 'hahaha', 'hai', 'hair', 'haiz', 'half', 'hallaq', 'halloween', 'ham', 'hamster', 'hand', 'handed', 'handle', 'hands', 'handset', 'hang', 'hanging', 'happen', 'happend', 'happened', 'happening', 'happens', 'happily', 'happiness', 'happy', 'hard', 'hardcore', 'hardly', 'harry', 'hate', 'hav', 'havent', 'havin', 'havnt', 'hb', 'head', 'headache', 'headin', 'heading', 'heads', 'hear', 'heard', 'heart', 'hearts', 'heater', 'heavy', 'hee', 'height', 'held', 'helen', 'hell', 'hella', 'hello', 'helloooo', 'help', 'helpline', 'hence', 'henry', 'hes', 'hex', 'hey', 'hg', 'hi', 'hide', 'high', 'hill', 'hint', 'hip', 'history', 'hit', 'hiya', 'hl', 'hlp', 'hm', 'hmm', 'hmmm', 'hmv', 'ho', 'hockey', 'hol', 'hold', 'holder', 'holding', 'holiday', 'holla', 'hols', 'holy', 'home', 'homeowners', 'hon', 'honey', 'honeybee', 'hook', 'hop', 'hope', 'hoped', 'hopefully', 'hoping', 'hor', 'horny', 'horo', 'horrible', 'hospital', 'hospitals', 'hostel', 'hot', 'hotel', 'hotels', 'hour', 'hours', 'house', 'housewives', 'howard', 'however', 'hows', 'howz', 'hp', 'hppnss', 'hr', 'hrishi', 'hrs', 'hsbc', 'http', 'hubby', 'hug', 'huge', 'hugs', 'huh', 'hun', 'hundred', 'hungry', 'hunny', 'hurried', 'hurry', 'hurt', 'hurting', 'hurts', 'husband', 'hv', 'hw', 'hyde', 'iam', 'ias', 'ibh', 'ibhltd', 'ibiza', 'ibn', 'ic', 'ice', 'icicibank', 'id', 'idea', 'ideal', 'ideas', 'identifier', 'idew', 'idiot', 'idk', 'ignore', 'ikea', 'il', 'ill', 'illness', 'im', 'imagine', 'imma', 'immediately', 'imp', 'impatient', 'important', 'impossible', 'improve', 'improved', 'inc', 'inch', 'inches', 'incident', 'include', 'including', 'inclusive', 'inconsiderate', 'incredible', 'increments', 'indeed', 'index', 'india', 'indian', 'indians', 'indicate', 'individual', 'indyarocks', 'infections', 'infernal', 'info', 'inform', 'information', 'informed', 'infront', 'ing', 'innings', 'innocent', 'inr', 'insha', 'inshah', 'inside', 'installing', 'instantly', 'instead', 'instituitions', 'instructions', 'insurance', 'intelligent', 'interest', 'interested', 'interesting', 'interflora', 'internet', 'interview', 'intro', 'invaders', 'invest', 'invite', 'invited', 'inviting', 'invnted', 'iouri', 'ip', 'ipad', 'ipod', 'iq', 'irritates', 'irritating', 'iscoming', 'ish', 'island', 'islands', 'isnt', 'issue', 'issues', 'italian', 'itcould', 'items', 'itwhichturnedinto', 'itz', 'ive', 'iz', 'izzit', 'ja', 'jacket', 'jackpot', 'jada', 'james', 'jamster', 'jan', 'jane', 'january', 'japanese', 'jas', 'jason', 'java', 'jay', 'jaya', 'jazz', 'jd', 'jealous', 'jeans', 'jen', 'jenny', 'jerry', 'jess', 'jesus', 'jhl', 'jia', 'jiayin', 'jiu', 'jo', 'joanna', 'job', 'jobs', 'jogging', 'john', 'join', 'joined', 'joining', 'joke', 'jokes', 'jokin', 'joking', 'jolly', 'jolt', 'jordan', 'journey', 'joy', 'jsco', 'jst', 'jstfrnd', 'jsut', 'juan', 'juicy', 'july', 'june', 'jus', 'juz', 'kadeem', 'kaiez', 'kallis', 'kano', 'kappa', 'karaoke', 'kate', 'kavalan', 'kay', 'kb', 'ke', 'keep', 'keeping', 'keeps', 'kegger', 'kent', 'kept', 'kerala', 'keralacircle', 'kettoda', 'key', 'keys', 'kg', 'kick', 'kickoff', 'kicks', 'kid', 'kidding', 'kids', 'kidz', 'killed', 'killing', 'kills', 'kind', 'kinda', 'kindly', 'king', 'kiosk', 'kiss', 'kisses', 'kl', 'knackered', 'knew', 'knock', 'know', 'knowing', 'knows', 'knw', 'konw', 'kothi', 'kr', 'kudi', 'kusruthi', 'kz', 'la', 'lab', 'lacs', 'ladies', 'lady', 'lag', 'laid', 'land', 'landline', 'landlines', 'lands', 'lane', 'langport', 'language', 'laptop', 'lar', 'largest', 'last', 'late', 'lately', 'later', 'latest', 'latr', 'laugh', 'laughed', 'laughing', 'laundry', 'law', 'lays', 'lazy', 'lccltd', 'ldew', 'ldn', 'ldnw', 'le', 'lead', 'learn', 'least', 'leave', 'leaves', 'leaving', 'lect', 'lecture', 'left', 'legal', 'legs', 'leh', 'lei', 'lemme', 'leona', 'less', 'lesson', 'lessons', 'let', 'lets', 'letter', 'letters', 'lf', 'liao', 'lib', 'library', 'lick', 'licks', 'lido', 'lie', 'lies', 'life', 'lifetime', 'lifpartnr', 'lift', 'light', 'lik', 'like', 'liked', 'likely', 'likes', 'lil', 'lily', 'limiting', 'line', 'linerental', 'lines', 'link', 'lion', 'lionm', 'lionp', 'lions', 'lip', 'list', 'listen', 'listening', 'literally', 'little', 'live', 'lived', 'liverpool', 'lives', 'living', 'lk', 'lmao', 'lo', 'loads', 'loan', 'loans', 'local', 'location', 'locations', 'lock', 'log', 'login', 'logo', 'logos', 'lol', 'london', 'lonely', 'long', 'longer', 'look', 'lookatme', 'looked', 'lookin', 'looking', 'looks', 'loose', 'lor', 'lose', 'loses', 'losing', 'loss', 'lost', 'lot', 'lotr', 'lots', 'lotta', 'lou', 'loud', 'lounge', 'lousy', 'lov', 'lovable', 'love', 'loved', 'lovely', 'loveme', 'lover', 'loverboy', 'lovers', 'loves', 'loving', 'lovingly', 'low', 'lower', 'loxahatchee', 'loyal', 'loyalty', 'lp', 'ls', 'lst', 'ltd', 'lttrs', 'luck', 'lucky', 'lucozade', 'lucy', 'lunch', 'lush', 'luv', 'luvs', 'lux', 'luxury', 'lv', 'lvblefrnd', 'lyf', 'lyfu', 'lyk', 'maangalyam', 'mac', 'machan', 'macho', 'mad', 'madam', 'made', 'mag', 'maga', 'magical', 'mah', 'mahal', 'maid', 'mail', 'mailbox', 'mails', 'main', 'maintain', 'major', 'make', 'makes', 'makin', 'making', 'malaria', 'male', 'mall', 'man', 'manage', 'managed', 'management', 'manda', 'mandan', 'maneesha', 'many', 'map', 'march', 'margaret', 'mark', 'market', 'marriage', 'married', 'marrow', 'marry', 'mas', 'massive', 'masters', 'match', 'matches', 'mate', 'mates', 'math', 'mathematics', 'matrix', 'matter', 'matured', 'maturity', 'max', 'maximize', 'may', 'mayb', 'maybe', 'mb', 'mca', 'mcat', 'meal', 'mean', 'meaning', 'means', 'meant', 'meanwhile', 'measure', 'med', 'medical', 'medicine', 'meds', 'meet', 'meetin', 'meeting', 'meets', 'mega', 'meh', 'mei', 'mel', 'melle', 'melt', 'member', 'members', 'membership', 'men', 'mental', 'menu', 'meow', 'merry', 'mesages', 'mess', 'message', 'messaged', 'messages', 'messaging', 'messenger', 'messy', 'met', 'mid', 'middle', 'midnight', 'mids', 'might', 'mila', 'miles', 'milk', 'million', 'min', 'mind', 'mine', 'mini', 'minimum', 'minmobsmorelkpobox', 'minmoremobsemspobox', 'minnaminunginte', 'minor', 'mins', 'minute', 'minutes', 'minuts', 'miracle', 'mis', 'misbehaved', 'miserable', 'miss', 'missed', 'missin', 'missing', 'mistake', 'mistakes', 'mite', 'mitsake', 'mix', 'mm', 'mmm', 'mmmm', 'mmmmm', 'mmmmmm', 'mnth', 'mnths', 'mo', 'moan', 'mob', 'mobile', 'mobiles', 'mobilesdirect', 'mobilesvary', 'mobileupd', 'mobno', 'moby', 'mode', 'model', 'module', 'modules', 'moji', 'mojibiola', 'mokka', 'mom', 'moment', 'moments', 'moms', 'mon', 'monday', 'money', 'monkeys', 'mono', 'month', 'monthly', 'months', 'mood', 'moon', 'moral', 'morefrmmob', 'morn', 'morning', 'moro', 'morow', 'morphine', 'morro', 'morrow', 'mostly', 'mother', 'motorola', 'mouth', 'move', 'moved', 'moves', 'movie', 'movies', 'movietrivia', 'moving', 'mp', 'mr', 'mrng', 'mrt', 'mrw', 'ms', 'msg', 'msging', 'msgrcvd', 'msgrcvdhg', 'msgs', 'msn', 'mt', 'mtalk', 'mth', 'mths', 'mtmsg', 'mtmsgrcvd', 'mu', 'muah', 'much', 'mum', 'mummy', 'mumtaz', 'munsters', 'murder', 'murdered', 'murderer', 'music', 'must', 'musthu', 'muz', 'mystery', 'na', 'nag', 'nagar', 'nah', 'nahi', 'naked', 'nalla', 'name', 'named', 'names', 'nan', 'nap', 'nasdaq', 'nasty', 'nat', 'natalie', 'natalja', 'national', 'natural', 'nature', 'naughty', 'nb', 'nd', 'ne', 'near', 'nearly', 'necessarily', 'necessary', 'neck', 'necklace', 'ned', 'need', 'needed', 'needs', 'neft', 'neighbour', 'neither', 'nervous', 'net', 'netcollex', 'network', 'networking', 'networks', 'neva', 'never', 'new', 'newest', 'news', 'next', 'ni', 'nic', 'nice', 'nichols', 'nigeria', 'night', 'nights', 'nimya', 'nit', 'nite', 'nitros', 'nobody', 'noe', 'nok', 'nokia', 'nokias', 'noline', 'none', 'noon', 'nope', 'norm', 'normal', 'normally', 'northampton', 'nos', 'note', 'nothin', 'nothing', 'notice', 'notxt', 'noun', 'nowadays', 'nt', 'ntt', 'ntwk', 'num', 'number', 'numbers', 'nurungu', 'nus', 'nuther', 'nvm', 'nw', 'nxt', 'ny', 'nyc', 'nydc', 'nyt', 'obviously', 'occupy', 'odi', 'offer', 'offers', 'office', 'official', 'officially', 'ofice', 'often', 'oh', 'oi', 'oic', 'oil', 'ok', 'okay', 'okey', 'okie', 'ola', 'old', 'omg', 'omw', 'one', 'ones', 'oni', 'onion', 'online', 'onto', 'onwards', 'oooh', 'oops', 'open', 'opening', 'operator', 'opinion', 'opinions', 'opportunity', 'opt', 'option', 'optout', 'orange', 'oranges', 'orchard', 'order', 'ordered', 'oredi', 'oreo', 'orig', 'original', 'oru', 'os', 'oso', 'others', 'otherwise', 'otside', 'outside', 'outstanding', 'outta', 'ovulation', 'ow', 'owns', 'oz', 'pa', 'pack', 'package', 'packs', 'page', 'pages', 'paid', 'pain', 'painful', 'painting', 'pale', 'pan', 'pandy', 'panic', 'pap', 'paper', 'papers', 'paperwork', 'paragon', 'parco', 'parent', 'parents', 'paris', 'park', 'parked', 'parking', 'part', 'partner', 'partnership', 'party', 'pass', 'passed', 'passionate', 'password', 'passwords', 'past', 'pattern', 'patty', 'pay', 'payee', 'paying', 'payment', 'payoh', 'pc', 'peace', 'peaceful', 'peak', 'pee', 'pen', 'pence', 'pending', 'penis', 'people', 'per', 'percent', 'perfect', 'perhaps', 'period', 'person', 'personal', 'personality', 'persons', 'perwksub', 'pete', 'petey', 'petrol', 'pg', 'ph', 'philosophy', 'phne', 'phoenix', 'phone', 'phoned', 'phones', 'photo', 'photos', 'php', 'pic', 'pick', 'picked', 'picking', 'pickle', 'pics', 'picsfree', 'picture', 'pictures', 'pie', 'piece', 'pieces', 'pig', 'pilates', 'pimples', 'pin', 'pink', 'piss', 'pissed', 'pix', 'pizza', 'place', 'placement', 'places', 'plan', 'plane', 'planet', 'planned', 'planning', 'plans', 'play', 'played', 'player', 'players', 'playing', 'plaza', 'please', 'pleased', 'pleasure', 'plenty', 'plm', 'pls', 'plus', 'plz', 'pm', 'po', 'pobox', 'pocketbabe', 'pod', 'poem', 'point', 'points', 'poker', 'pole', 'police', 'politicians', 'polo', 'poly', 'polyh', 'polyph', 'polyphonic', 'polys', 'pongal', 'pool', 'poop', 'poor', 'pop', 'popcorn', 'popped', 'porn', 'position', 'possession', 'possible', 'post', 'postcard', 'postcode', 'posted', 'posts', 'potato', 'potential', 'potter', 'pouch', 'pound', 'pounds', 'pours', 'pouts', 'power', 'pp', 'ppermesssubscription', 'ppl', 'pple', 'ppm', 'ppmx', 'prabha', 'practical', 'practice', 'practicing', 'pray', 'praying', 'pre', 'prefer', 'preferably', 'prem', 'premier', 'premium', 'prepaid', 'prepare', 'prepared', 'prepayment', 'prescription', 'present', 'press', 'pretty', 'previous', 'previously', 'prey', 'price', 'pride', 'prince', 'princess', 'print', 'printed', 'priscilla', 'privacy', 'private', 'prize', 'prizes', 'prob', 'probably', 'problem', 'problems', 'probs', 'process', 'processed', 'prof', 'professors', 'profit', 'program', 'project', 'prolly', 'promise', 'promises', 'promo', 'prompts', 'proof', 'properly', 'property', 'propose', 'propsd', 'prospects', 'protect', 'proverb', 'provided', 'ps', 'pt', 'ptbo', 'pub', 'public', 'pull', 'purchase', 'purity', 'purpose', 'purse', 'push', 'pushes', 'pussy', 'put', 'puttin', 'putting', 'pw', 'px', 'qatar', 'qp', 'qu', 'quality', 'queen', 'ques', 'question', 'questioned', 'questions', 'quick', 'quickly', 'quiet', 'quit', 'quite', 'quiz', 'quote', 'quoting', 'qxj', 'racing', 'radio', 'raed', 'rael', 'railway', 'rain', 'raining', 'raise', 'raj', 'raji', 'rakhesh', 'rally', 'ran', 'random', 'randomly', 'randy', 'rang', 'range', 'ranjith', 'rate', 'rates', 'rather', 'rays', 'rcv', 'rcvd', 'rd', 'reach', 'reached', 'reaching', 'reaction', 'read', 'readers', 'reading', 'ready', 'real', 'realise', 'reality', 'realize', 'realized', 'really', 'realy', 'reason', 'reasonable', 'reasons', 'reboot', 'rec', 'recd', 'receipt', 'receipts', 'receive', 'receivea', 'received', 'receiving', 'recent', 'recently', 'recession', 'recharge', 'reckon', 'recognise', 'record', 'records', 'recovery', 'red', 'redeemed', 'reduce', 'ref', 'reference', 'refilled', 'refused', 'reg', 'regarding', 'regards', 'register', 'registered', 'regret', 'regular', 'relation', 'relatives', 'relax', 'released', 'rem', 'remain', 'remains', 'remember', 'remembered', 'remembr', 'remind', 'reminder', 'reminding', 'removal', 'remove', 'removed', 'renewal', 'rent', 'rental', 'rentl', 'rents', 'repair', 'repeat', 'replace', 'replacement', 'replied', 'reply', 'replying', 'report', 'representative', 'request', 'requests', 'research', 'respect', 'respectful', 'responce', 'respond', 'responding', 'response', 'responsibility', 'rest', 'restaurant', 'result', 'results', 'resume', 'retrieve', 'return', 'returned', 'returns', 'reveal', 'revealed', 'reverse', 'review', 'revision', 'reward', 'rewarding', 'rg', 'rgds', 'rhythm', 'rice', 'rich', 'ride', 'right', 'rightly', 'rights', 'ring', 'ringtone', 'ringtoneking', 'ringtones', 'rite', 'river', 'road', 'roads', 'roast', 'rock', 'rocks', 'rofl', 'roger', 'role', 'romantic', 'ron', 'room', 'roommate', 'roommates', 'rooms', 'rose', 'round', 'row', 'royal', 'rply', 'rr', 'rs', 'rstm', 'ru', 'rub', 'rude', 'ruin', 'ruining', 'rule', 'rum', 'rumour', 'run', 'running', 'runs', 'rush', 'rw', 'ryan', 'sac', 'sachin', 'sacrifice', 'sad', 'sae', 'safe', 'said', 'sake', 'salam', 'salary', 'sale', 'sales', 'salon', 'sam', 'santa', 'sar', 'sarasota', 'sarcasm', 'sarcastic', 'sary', 'sat', 'sathya', 'satisfied', 'satisfy', 'saturday', 'saucy', 'savamob', 'save', 'saved', 'saw', 'say', 'saying', 'says', 'scared', 'scary', 'sch', 'schedule', 'school', 'schools', 'science', 'scold', 'score', 'scores', 'scoring', 'scotch', 'scotland', 'scotsman', 'scream', 'screamed', 'screaming', 'screen', 'scrounge', 'se', 'sea', 'search', 'searching', 'season', 'seat', 'sec', 'second', 'seconds', 'secret', 'secretary', 'secretly', 'secs', 'sed', 'see', 'seeds', 'seeing', 'seem', 'seemed', 'seems', 'seen', 'select', 'selected', 'selection', 'self', 'selfish', 'sell', 'selling', 'sells', 'sem', 'semester', 'sen', 'send', 'sender', 'sending', 'sends', 'sense', 'sensitive', 'sent', 'sentence', 'senthil', 'sept', 'series', 'serious', 'seriously', 'service', 'services', 'serving', 'set', 'setting', 'settings', 'settle', 'settled', 'seven', 'several', 'sex', 'sexy', 'sh', 'sha', 'shagged', 'shahjahan', 'shall', 'shame', 'shampain', 'share', 'sharing', 'shd', 'sheets', 'sheffield', 'shelf', 'shesil', 'shijas', 'shining', 'ship', 'shipped', 'shipping', 'shirt', 'shirts', 'shit', 'shitload', 'shld', 'shock', 'shocking', 'shoes', 'shoot', 'shop', 'shoppin', 'shopping', 'shore', 'short', 'shortage', 'shorter', 'shortly', 'shot', 'shouted', 'shoving', 'show', 'shower', 'showing', 'shows', 'shracomorsglsuplt', 'shu', 'shuhui', 'shut', 'shy', 'si', 'sian', 'sib', 'sick', 'side', 'sigh', 'sighs', 'sight', 'sign', 'signing', 'silence', 'silent', 'silently', 'silver', 'sim', 'simple', 'simpler', 'simply', 'since', 'sinco', 'sing', 'singing', 'single', 'singles', 'sipix', 'sir', 'sis', 'sister', 'sit', 'site', 'sitll', 'sitting', 'situation', 'siva', 'six', 'size', 'sk', 'skilgme', 'skillgame', 'skip', 'sky', 'skype', 'skyped', 'slap', 'slave', 'sleep', 'sleepin', 'sleeping', 'sleepwell', 'sleepy', 'slept', 'slice', 'slide', 'slightly', 'slip', 'slippers', 'slo', 'slots', 'slow', 'slowly', 'slp', 'small', 'smart', 'smashed', 'smeone', 'smile', 'smiles', 'smiling', 'smith', 'smoke', 'smokes', 'smoking', 'sms', 'smsco', 'smth', 'sn', 'snake', 'snogs', 'snow', 'snowman', 'social', 'sofa', 'soft', 'software', 'soiree', 'sol', 'solve', 'solved', 'somebody', 'someone', 'somethin', 'something', 'sometime', 'sometimes', 'somewhere', 'somtimes', 'song', 'songs', 'sony', 'sonyericsson', 'soo', 'soon', 'sooner', 'sooooo', 'sore', 'sorrow', 'sorry', 'sort', 'sorted', 'sorting', 'sory', 'soryda', 'soul', 'sound', 'sounds', 'soup', 'source', 'south', 'sp', 'space', 'spanish', 'spare', 'speak', 'speaking', 'special', 'specially', 'specific', 'speechless', 'speed', 'speedchat', 'speeding', 'spell', 'spend', 'spending', 'spent', 'spider', 'spile', 'spk', 'spl', 'splleing', 'spoiled', 'spoke', 'spoken', 'spook', 'sport', 'sports', 'spree', 'spring', 'sptv', 'sry', 'ss', 'st', 'staff', 'stamped', 'stamps', 'stand', 'standard', 'standing', 'star', 'staring', 'stars', 'start', 'started', 'starting', 'starts', 'starwars', 'statement', 'station', 'status', 'stay', 'stayed', 'stayin', 'staying', 'stays', 'std', 'steam', 'step', 'steve', 'stick', 'sticky', 'still', 'stock', 'stockport', 'stomach', 'stomps', 'stone', 'stones', 'stop', 'stopped', 'stops', 'stopsms', 'stoptxt', 'store', 'stores', 'storming', 'story', 'str', 'straight', 'strange', 'stranger', 'street', 'stress', 'stretch', 'strike', 'strong', 'stuck', 'student', 'students', 'study', 'studying', 'stuff', 'stupid', 'style', 'stylish', 'sub', 'subpoly', 'subs', 'subscribe', 'subscribed', 'subscriber', 'subscription', 'success', 'successful', 'successfully', 'sucks', 'sue', 'sufficient', 'sugar', 'suggest', 'suite', 'suits', 'sum', 'summer', 'sumthin', 'sun', 'sunday', 'sunlight', 'sunny', 'sunshine', 'suntec', 'sup', 'super', 'superb', 'superior', 'supervisor', 'supply', 'support', 'suppose', 'supposed', 'suprman', 'sura', 'sure', 'surely', 'surfing', 'surprise', 'surprised', 'survey', 'sux', 'suzy', 'sw', 'swatch', 'sweet', 'sweetest', 'sweetheart', 'sweetie', 'sweets', 'swimming', 'swing', 'swiss', 'switch', 'swoop', 'swt', 'swtheart', 'symbol', 'system', 'ta', 'table', 'tablets', 'tacos', 'tahan', 'take', 'taken', 'takes', 'takin', 'taking', 'talent', 'talk', 'talking', 'talks', 'tampa', 'tank', 'tap', 'tape', 'tariffs', 'taste', 'tat', 'taunton', 'taxi', 'taylor', 'tayseer', 'tb', 'tc', 'tcr', 'tcs', 'tea', 'teach', 'teacher', 'teaches', 'teaching', 'team', 'tear', 'tease', 'teasing', 'tech', 'technical', 'tee', 'teeth', 'tel', 'telephone', 'tell', 'telling', 'tells', 'telly', 'telphone', 'telugu', 'temp', 'temple', 'ten', 'tenants', 'tenerife', 'tension', 'term', 'terms', 'terrible', 'terrific', 'terrorist', 'tessy', 'test', 'testing', 'tests', 'text', 'textbuddy', 'textcomp', 'texted', 'texting', 'textoperator', 'textpod', 'texts', 'tf', 'tg', 'th', 'thangam', 'thank', 'thanks', 'thanksgiving', 'thanx', 'thats', 'theatre', 'themob', 'theory', 'theres', 'thesis', 'thgt', 'thing', 'things', 'think', 'thinkin', 'thinking', 'thinks', 'thk', 'thm', 'thnk', 'tho', 'thot', 'though', 'thought', 'thoughts', 'thousands', 'thread', 'threats', 'three', 'threw', 'throat', 'throw', 'thru', 'ths', 'tht', 'thts', 'thurs', 'thursday', 'thx', 'thy', 'tick', 'ticket', 'tickets', 'tight', 'tihs', 'til', 'till', 'time', 'times', 'timing', 'tired', 'tirunelvali', 'tirupur', 'tis', 'tissco', 'title', 'titles', 'tiwary', 'tkts', 'tlk', 'tlp', 'tm', 'tmr', 'tmrw', 'tms', 'tnc', 'tncs', 'toa', 'toclaim', 'today', 'todays', 'tog', 'together', 'tok', 'told', 'toll', 'tom', 'tomarrow', 'tomeandsaid', 'tomo', 'tomorro', 'tomorrow', 'tone', 'tones', 'tonight', 'tonights', 'tonite', 'tons', 'took', 'tool', 'tooo', 'toot', 'tooth', 'top', 'topic', 'torch', 'tortilla', 'toshiba', 'tot', 'total', 'totally', 'touch', 'touched', 'tough', 'tour', 'towards', 'town', 'track', 'trade', 'traffic', 'train', 'training', 'trains', 'transaction', 'transfer', 'transfered', 'transfr', 'transport', 'trav', 'travel', 'treat', 'treated', 'tree', 'tried', 'trip', 'trips', 'trouble', 'truck', 'true', 'truffles', 'truly', 'trust', 'truth', 'try', 'trying', 'ts', 'tsandcs', 'tscs', 'tsunamis', 'tt', 'ttyl', 'tues', 'tuesday', 'tuition', 'tulip', 'turn', 'turning', 'turns', 'tv', 'twelve', 'twenty', 'twice', 'twilight', 'two', 'txt', 'txtauction', 'txtin', 'txting', 'txtno', 'txts', 'txtstop', 'txttowin', 'tyler', 'type', 'tyrone', 'ubi', 'ugh', 'uh', 'uk', 'uks', 'ultimatum', 'umma', 'ummmmmaah', 'un', 'unable', 'unbelievable', 'unbreakable', 'uncle', 'uncles', 'understand', 'understanding', 'understood', 'underwear', 'unemployed', 'unfortunately', 'uni', 'unique', 'university', 'unkempt', 'unknown', 'unless', 'unlimited', 'unnecessarily', 'unredeemed', 'unsold', 'unsub', 'unsubscribe', 'untamed', 'upd', 'update', 'upgrade', 'upload', 'upset', 'upstairs', 'upto', 'urawinner', 'ure', 'urgent', 'urgently', 'urgnt', 'url', 'urn', 'urself', 'us', 'usb', 'usc', 'use', 'used', 'useful', 'user', 'usf', 'usher', 'using', 'usual', 'usually', 'utter', 'uz', 'vaazhthukkal', 'vale', 'valentine', 'valentines', 'valid', 'valuable', 'value', 'valued', 'various', 'vary', 'vava', 'vday', 'vegas', 'vegetables', 'verified', 'verify', 'version', 'vettam', 'vewy', 'via', 'vid', 'video', 'videochat', 'videophones', 'vijay', 'vikky', 'village', 'violated', 'violence', 'violet', 'vip', 'virgin', 'visionsms', 'visit', 'viva', 'vivek', 'vl', 'voda', 'vodafone', 'vodka', 'voice', 'voicemail', 'vomit', 'vomiting', 'vote', 'voucher', 'vouchers', 'vry', 'vth', 'vu', 'wa', 'wah', 'waheed', 'waht', 'wait', 'waited', 'waitin', 'waiting', 'wake', 'waking', 'wales', 'walk', 'walked', 'walking', 'wallpaper', 'walls', 'walmart', 'wan', 'wana', 'wanna', 'want', 'wanted', 'wanting', 'wants', 'wap', 'warm', 'warner', 'warning', 'warranty', 'waste', 'wasted', 'wat', 'watch', 'watching', 'water', 'wating', 'wats', 'wave', 'waves', 'waxsto', 'way', 'wb', 'wc', 'weak', 'wear', 'wearing', 'weather', 'web', 'website', 'wed', 'wedding', 'wednesday', 'wee', 'weed', 'week', 'weekend', 'weekends', 'weekly', 'weeks', 'weigh', 'weight', 'weird', 'weirdest', 'welcome', 'welcomes', 'well', 'welp', 'wen', 'went', 'wer', 'west', 'westlife', 'wet', 'whatever', 'whats', 'whatsup', 'whenever', 'whenevr', 'wherever', 'whether', 'white', 'whn', 'whole', 'whos', 'whose', 'whr', 'wicklow', 'wid', 'widelive', 'wif', 'wife', 'wifi', 'wihtuot', 'wil', 'willing', 'win', 'winaweek', 'winawk', 'wind', 'window', 'windows', 'wine', 'winner', 'winning', 'wins', 'wipro', 'wisdom', 'wise', 'wish', 'wishes', 'wishin', 'wishing', 'wiskey', 'wit', 'within', 'without', 'wiv', 'wk', 'wkend', 'wkent', 'wkg', 'wkly', 'wks', 'wld', 'wml', 'wn', 'wnt', 'wo', 'woke', 'woken', 'woman', 'women', 'wonder', 'wonderful', 'wondering', 'wonders', 'wont', 'woot', 'word', 'words', 'work', 'workin', 'working', 'works', 'world', 'worlds', 'worried', 'worries', 'worry', 'worse', 'worst', 'worth', 'wot', 'would', 'woulda', 'wow', 'wp', 'wq', 'wrc', 'write', 'wrk', 'wrnog', 'wrong', 'wrote', 'ws', 'wt', 'wtf', 'wu', 'wud', 'wuld', 'wun', 'www', 'wx', 'wylie', 'xam', 'xavier', 'xchat', 'xh', 'xin', 'xmas', 'xn', 'xuhui', 'xx', 'xxx', 'xxxmobilemovieclub', 'xxxx', 'xxxxx', 'xxxxxx', 'xxxxxxx', 'xxxxxxxxx', 'xy', 'ya', 'yahoo', 'yan', 'yar', 'yarasu', 'yay', 'yck', 'yeah', 'year', 'years', 'yeh', 'yelling', 'yellow', 'yep', 'yer', 'yes', 'yest', 'yesterday', 'yet', 'yetunde', 'yf', 'yijue', 'ym', 'yo', 'yoga', 'yogasana', 'yor', 'youre', 'yr', 'yrs', 'yummy', 'yun', 'yunny', 'yuo', 'yup', 'zed', 'zindgi', 'zoe']\n"
     ]
    }
   ],
   "source": [
    "print(sorted(feature_names))"
   ]
  },
  {
   "cell_type": "code",
   "execution_count": 44,
   "metadata": {},
   "outputs": [
    {
     "name": "stdout",
     "output_type": "stream",
     "text": [
      "['aah', 'aathi', 'abi', 'ability', 'abiola', 'abj', 'able', 'absolutly', 'abt', 'abta', 'aburo', 'ac', 'academic', 'acc', 'accept', 'access', 'accident', 'accidentally', 'accordingly', 'account', 'accounts', 'ache', 'acl', 'aco', 'across', 'acted', 'action', 'activate', 'active', 'activities', 'actor', 'actual', 'actually', 'ad', 'adam', 'add', 'addamsfa', 'added', 'addicted', 'addie', 'address', 'admin', 'administrator', 'admirer', 'admit', 'adore', 'adoring', 'ads', 'adult', 'advance', 'adventure', 'advice', 'advise', 'ae', 'aeronautics', 'aeroplane', 'affair', 'affairs', 'affection', 'afraid', 'aft', 'afternoon', 'aftr', 'ag', 'agalla', 'age', 'ages', 'ago', 'agree', 'ah', 'aha', 'ahead', 'ahmad', 'aight', 'aint', 'air', 'airport', 'airtel', 'aiya', 'aiyah', 'aiyar', 'aiyo', 'aj', 'aka', 'al', 'alaipayuthe', 'album', 'alcohol', 'alert', 'alex', 'alfie', 'algarve', 'ali', 'alive', 'allah', 'allow', 'allowed', 'almost', 'alone', 'along', 'already', 'alright', 'alrite', 'also', 'although', 'always', 'alwys', 'amazing', 'american', 'among', 'amongst', 'amount', 'amp', 'amt', 'amused', 'amy', 'andros', 'angry', 'anna', 'annie', 'anniversary', 'announcement', 'annoying', 'anot', 'another', 'ans', 'ansr', 'answer', 'answered', 'answering', 'answers', 'anthony', 'anti', 'anybody', 'anymore', 'anyone', 'anythin', 'anything', 'anytime', 'anyway', 'anyways', 'anywhere', 'aom', 'apart', 'apartment', 'apo', 'apologise', 'app', 'apparently', 'applebees', 'application', 'apply', 'appointment', 'appreciate', 'appreciated', 'approx', 'apps', 'appt', 'april', 'aproach', 'ar', 'arcade', 'ard', 'area', 'arent', 'argh', 'argue', 'argument', 'arm', 'armand', 'arms', 'arng', 'around', 'arrange', 'arrested', 'arrive', 'arsenal', 'art', 'arts', 'arun', 'asap', 'ashley', 'ask', 'askd', 'asked', 'askin', 'asking', 'asks', 'asleep', 'asp', 'ass', 'assume', 'ate', 'atlanta', 'atlast', 'atm', 'attached', 'attempt', 'attend', 'auction', 'audition', 'audrey', 'august', 'aunt', 'aunts', 'aunty', 'auto', 'av', 'available', 'avatar', 'ave', 'avent', 'avoid', 'avoiding', 'await', 'awaiting', 'awake', 'award', 'awarded', 'away', 'awesome', 'aww', 'ayn', 'b', 'ba', 'babe', 'babes', 'babies', 'baby', 'back', 'bad', 'bag', 'bags', 'bahamas', 'bak', 'balance', 'ball', 'bang', 'bank', 'banks', 'bar', 'barely', 'base', 'basic', 'basically', 'bat', 'batch', 'bath', 'bathe', 'bathing', 'battery', 'bay', 'bb', 'bbd', 'bc', 'bck', 'bcm', 'bcoz', 'bcums', 'bday', 'bear', 'bears', 'beautiful', 'beauty', 'bec', 'become', 'becomes', 'becoz', 'bed', 'bedrm', 'bedroom', 'beer', 'befor', 'beg', 'begging', 'begin', 'behave', 'behind', 'bein', 'believe', 'belive', 'bell', 'belly', 'belovd', 'beloved', 'ben', 'beneath', 'beneficiary', 'benefits', 'best', 'bet', 'better', 'beware', 'beyond', 'bf', 'bhaji', 'bid', 'bids', 'big', 'bigger', 'biggest', 'bill', 'billed', 'billion', 'bills', 'bin', 'biola', 'bird', 'birds', 'birla', 'birth', 'birthdate', 'birthday', 'bishan', 'bit', 'bitch', 'bite', 'biz', 'black', 'blackberry', 'blah', 'blake', 'blame', 'blank', 'bleh', 'bless', 'blessed', 'blessing', 'blessings', 'blind', 'block', 'bloke', 'blonde', 'bloo', 'blood', 'bloody', 'bloomberg', 'blow', 'blu', 'blue', 'bluetooth', 'bluff', 'blur', 'bmw', 'boat', 'body', 'bold', 'bone', 'bonus', 'boo', 'book', 'booked', 'booking', 'books', 'boost', 'booty', 'bootydelious', 'bored', 'borin', 'boring', 'born', 'borrow', 'boss', 'boston', 'bother', 'bottle', 'bottom', 'bought', 'bout', 'bowl', 'box', 'boy', 'boye', 'boyfriend', 'boys', 'boytoy', 'bp', 'brah', 'brain', 'brand', 'brandy', 'bray', 'bread', 'break', 'breath', 'breathe', 'brief', 'bright', 'brilliant', 'bring', 'bringing', 'brings', 'bristol', 'british', 'britney', 'bro', 'broad', 'broke', 'broken', 'bros', 'brothas', 'brother', 'brought', 'bruce', 'bruv', 'bslvyl', 'bstfrnd', 'bt', 'btw', 'bucks', 'bud', 'budget', 'buff', 'buffet', 'bugis', 'build', 'building', 'bulbs', 'buns', 'burger', 'burning', 'burns', 'bus', 'buses', 'business', 'busy', 'butt', 'buy', 'buying', 'buzy', 'buzz', 'bx', 'bye', 'c', 'cabin', 'cafe', 'cake', 'cal', 'calculation', 'cali', 'calicut', 'california', 'call', 'callback', 'callcost', 'calld', 'called', 'caller', 'callers', 'callertune', 'callfreefone', 'callin', 'calling', 'calls', 'calm', 'cam', 'camcorder', 'came', 'camera', 'campus', 'canada', 'canal', 'canary', 'cancel', 'cancelled', 'cancer', 'cann', 'cannot', 'cant', 'capital', 'cappuccino', 'captain', 'car', 'card', 'cardiff', 'care', 'cared', 'career', 'careers', 'careful', 'carefully', 'cares', 'caring', 'carlos', 'caroline', 'carry', 'cars', 'cartoon', 'case', 'cash', 'cashbin', 'cashto', 'castor', 'cat', 'catch', 'catching', 'caught', 'cause', 'causing', 'cbe', 'cc', 'cd', 'cdgt', 'cds', 'celeb', 'celebrate', 'celebration', 'cell', 'center', 'centre', 'certainly', 'ch', 'cha', 'chain', 'challenge', 'chance', 'chances', 'change', 'changed', 'changes', 'channel', 'character', 'charge', 'charged', 'charges', 'charity', 'charles', 'chart', 'chase', 'chasing', 'chat', 'chatting', 'cheap', 'cheaper', 'cheat', 'cheating', 'chechi', 'check', 'checked', 'checking', 'cheer', 'cheers', 'cheese', 'chennai', 'cherish', 'chest', 'chicken', 'chikku', 'child', 'childish', 'children', 'chill', 'chillin', 'china', 'chinese', 'chip', 'chocolate', 'choice', 'choose', 'chosen', 'christ', 'christmas', 'church', 'cine', 'cinema', 'citizen', 'city', 'claim', 'claims', 'claire', 'clark', 'class', 'classes', 'cld', 'clean', 'cleaning', 'clear', 'cleared', 'clearing', 'clearly', 'clever', 'click', 'clock', 'clos', 'close', 'closed', 'closer', 'closes', 'clothes', 'club', 'cm', 'cme', 'cn', 'cnn', 'co', 'coast', 'coat', 'cochin', 'cock', 'code', 'coffee', 'coin', 'coins', 'cold', 'colleagues', 'collect', 'collected', 'collecting', 'collection', 'college', 'color', 'colour', 'colours', 'com', 'combine', 'come', 'comedy', 'comes', 'comin', 'coming', 'commercial', 'common', 'community', 'comp', 'company', 'compare', 'competition', 'complaint', 'complete', 'completed', 'completely', 'complimentary', 'computer', 'comuk', 'concentrate', 'concert', 'condition', 'conditions', 'conducts', 'confidence', 'confirm', 'confirmd', 'confirmed', 'conform', 'confused', 'confuses', 'congrats', 'congratulations', 'connect', 'connection', 'connections', 'consider', 'considering', 'console', 'constant', 'constantly', 'contact', 'contacted', 'contacts', 'content', 'contents', 'continue', 'contract', 'control', 'convey', 'convinced', 'convincing', 'cook', 'cooked', 'cookies', 'cooking', 'cool', 'coping', 'copy', 'cornwall', 'correct', 'correction', 'cos', 'cost', 'costa', 'costing', 'costs', 'could', 'count', 'countin', 'country', 'couple', 'courage', 'course', 'cousin', 'cover', 'covers', 'coz', 'cr', 'crab', 'crack', 'cramps', 'crap', 'crash', 'crave', 'craziest', 'crazy', 'cream', 'created', 'credit', 'credited', 'credits', 'creep', 'creepy', 'cricketer', 'crisis', 'crore', 'cross', 'croydon', 'cruise', 'cry', 'cs', 'csbcm', 'csh', 'ctxt', 'cud', 'cuddle', 'cuddling', 'cum', 'cup', 'curious', 'current', 'currently', 'curry', 'cust', 'custcare', 'custom', 'customer', 'customers', 'cut', 'cute', 'cutefrnd', 'cutting', 'cuz', 'cw', 'da', 'dad', 'daddy', 'dai', 'daily', 'damn', 'dan', 'dance', 'dancing', 'dare', 'dark', 'darlin', 'darling', 'darlings', 'darren', 'dat', 'date', 'datebox', 'dates', 'dating', 'dave', 'day', 'days', 'dbuk', 'de', 'dead', 'deal', 'dealer', 'dealing', 'dear', 'dearer', 'dearly', 'death', 'december', 'decide', 'decided', 'deciding', 'decimal', 'decision', 'decisions', 'dedicate', 'dedicated', 'deep', 'deepak', 'deeraj', 'def', 'defeat', 'definite', 'definitely', 'del', 'delay', 'delete', 'deleted', 'delhi', 'deliver', 'delivered', 'deliveredtomorrow', 'delivery', 'dem', 'demand', 'den', 'denis', 'department', 'depends', 'depressed', 'derek', 'desert', 'desires', 'desparate', 'desperate', 'despite', 'details', 'detroit', 'deus', 'develop', 'devouring', 'dey', 'dhina', 'dhoni', 'di', 'dial', 'diamonds', 'dick', 'dictionary', 'didnt', 'die', 'died', 'diet', 'diff', 'differ', 'difference', 'different', 'difficult', 'difficulties', 'dificult', 'digital', 'dignity', 'dime', 'din', 'ding', 'dining', 'dinner', 'dint', 'dippeditinadew', 'direct', 'directly', 'dirty', 'dis', 'disclose', 'disconnect', 'discount', 'discreet', 'discuss', 'discussed', 'dislikes', 'display', 'distance', 'distract', 'disturb', 'disturbing', 'division', 'divorce', 'diwali', 'dload', 'dnt', 'dobby', 'doc', 'docs', 'doctor', 'doesnt', 'dog', 'dogging', 'doggy', 'doin', 'dokey', 'dollar', 'dollars', 'donate', 'done', 'donno', 'dont', 'door', 'doors', 'dorm', 'dot', 'double', 'doubt', 'dough', 'download', 'downloaded', 'downloads', 'dr', 'dracula', 'draw', 'dream', 'dreams', 'dress', 'dressed', 'dresser', 'drink', 'drinkin', 'drinking', 'drinks', 'drive', 'driver', 'drivin', 'driving', 'drms', 'drop', 'dropped', 'drove', 'drpd', 'drug', 'drugs', 'drunk', 'drunken', 'dry', 'dsn', 'dt', 'dubsack', 'duchess', 'dude', 'due', 'dumb', 'dun', 'dunno', 'durban', 'dvd', 'dx', 'e', 'ear', 'earlier', 'early', 'earn', 'earth', 'easier', 'easily', 'east', 'eastenders', 'easter', 'easy', 'eat', 'eaten', 'eatin', 'eating', 'ebay', 'ec', 'edge', 'edison', 'edu', 'educational', 'ee', 'eek', 'eerie', 'effect', 'effects', 'eg', 'egg', 'eggs', 'eh', 'eight', 'eighth', 'eire', 'either', 'ela', 'elaine', 'electricity', 'else', 'elsewhere', 'em', 'email', 'embarassed', 'empty', 'en', 'end', 'ended', 'ending', 'ends', 'enemy', 'energy', 'eng', 'engin', 'england', 'english', 'enjoy', 'enjoyed', 'enough', 'enter', 'entered', 'entitled', 'entry', 'enuff', 'envelope', 'environment', 'epsilon', 'er', 'ericsson', 'erm', 'error', 'escape', 'ese', 'especially', 'esplanade', 'essential', 'essexcm', 'eta', 'etc', 'euro', 'eurodisinc', 'europe', 'eva', 'eve', 'eveb', 'even', 'evening', 'evenings', 'event', 'ever', 'every', 'everybody', 'everyday', 'everyone', 'everything', 'everywhere', 'evn', 'evng', 'evr', 'evrey', 'evry', 'evrydy', 'ex', 'exact', 'exactly', 'exam', 'exams', 'excellent', 'except', 'exciting', 'excuse', 'excuses', 'exe', 'executive', 'exeter', 'exhaust', 'exhausted', 'exmpel', 'exorcist', 'expect', 'expecting', 'expensive', 'experience', 'expired', 'expires', 'explain', 'explicit', 'explosive', 'express', 'expression', 'expressoffer', 'extra', 'ey', 'eye', 'eyes', 'f', 'fa', 'fab', 'face', 'facebook', 'fact', 'faggy', 'failed', 'fails', 'fair', 'faith', 'fake', 'fall', 'falling', 'falls', 'family', 'fan', 'fancies', 'fancy', 'fantasies', 'fantastic', 'fantasy', 'far', 'farm', 'fast', 'faster', 'fastest', 'fat', 'father', 'fathima', 'fault', 'fav', 'fave', 'favor', 'favorite', 'favour', 'favourite', 'fb', 'fear', 'feb', 'february', 'feel', 'feelin', 'feeling', 'feels', 'fees', 'feet', 'fell', 'felt', 'female', 'fetch', 'fever', 'field', 'fifteen', 'fight', 'fighting', 'fightng', 'fights', 'figure', 'figures', 'fil', 'file', 'files', 'fill', 'filled', 'filling', 'fills', 'film', 'films', 'filthy', 'final', 'finally', 'finance', 'find', 'fine', 'fingers', 'finish', 'finished', 'finishes', 'finishing', 'fire', 'first', 'fish', 'fit', 'five', 'fix', 'fixed', 'fixedline', 'fl', 'flag', 'flaked', 'flaky', 'flame', 'flash', 'flat', 'flies', 'flight', 'flights', 'flip', 'flirt', 'flirting', 'floor', 'flower', 'flowing', 'fly', 'fml', 'fo', 'foley', 'follow', 'followed', 'following', 'fone', 'food', 'fool', 'foot', 'football', 'footprints', 'force', 'foreign', 'forever', 'forevr', 'forget', 'forgets', 'forgiven', 'forgot', 'forgotten', 'form', 'format', 'forms', 'forum', 'forums', 'forward', 'forwarded', 'found', 'four', 'fr', 'fran', 'frauds', 'freak', 'free', 'freedom', 'freefone', 'freemsg', 'freephone', 'freezing', 'fren', 'frens', 'fret', 'fri', 'friday', 'friend', 'friends', 'friendship', 'fringe', 'frm', 'frnd', 'frnds', 'frndship', 'frog', 'fromm', 'front', 'frying', 'fuck', 'fucked', 'fuckin', 'fucking', 'fujitsu', 'ful', 'full', 'fullonsms', 'fun', 'funeral', 'funk', 'funky', 'funny', 'furniture', 'future', 'fwd', 'fyi', 'g', 'ga', 'gain', 'gal', 'galileo', 'gals', 'game', 'games', 'gamestar', 'ganesh', 'gang', 'gap', 'gaps', 'garage', 'garbage', 'garden', 'gardener', 'gary', 'gas', 'gastroenteritis', 'gautham', 'gave', 'gay', 'gaytextbuddy', 'gb', 'gbp', 'gd', 'ge', 'gee', 'geeee', 'geeeee', 'gender', 'generally', 'genius', 'gent', 'gentle', 'gentleman', 'gently', 'genuine', 'george', 'germany', 'get', 'gets', 'getstop', 'gettin', 'getting', 'getzed', 'geva', 'gf', 'ghost', 'gibbs', 'gift', 'gifted', 'gimme', 'gin', 'girl', 'girlfrnd', 'girls', 'gist', 'giv', 'give', 'given', 'gives', 'giving', 'glad', 'gm', 'gn', 'go', 'goal', 'goals', 'god', 'gods', 'goes', 'goin', 'going', 'gold', 'goldviking', 'gona', 'gone', 'gonna', 'good', 'goodfriend', 'goodmorning', 'goodnight', 'goodnite', 'goodnoon', 'goodo', 'google', 'gorgeous', 'gossip', 'got', 'goto', 'gotta', 'gotten', 'govt', 'gpu', 'gr', 'grace', 'grahmbell', 'gram', 'grand', 'granite', 'grave', 'gravity', 'great', 'greatest', 'green', 'greet', 'greetings', 'grins', 'grl', 'ground', 'group', 'grow', 'growing', 'gthr', 'guaranteed', 'gud', 'gudnite', 'guess', 'guessing', 'guide', 'guilty', 'guy', 'guys', 'gv', 'gving', 'gym', 'h', 'ha', 'habit', 'haf', 'haha', 'hahaha', 'hai', 'hair', 'haiz', 'half', 'hallaq', 'halloween', 'ham', 'hamster', 'hand', 'handed', 'handle', 'hands', 'handset', 'hang', 'hanging', 'happen', 'happend', 'happened', 'happening', 'happens', 'happily', 'happiness', 'happy', 'hard', 'hardcore', 'hardly', 'harry', 'hate', 'hav', 'havent', 'havin', 'havnt', 'hb', 'head', 'headache', 'headin', 'heading', 'heads', 'hear', 'heard', 'heart', 'hearts', 'heater', 'heavy', 'hee', 'height', 'held', 'helen', 'hell', 'hella', 'hello', 'helloooo', 'help', 'helpline', 'hence', 'henry', 'hes', 'hex', 'hey', 'hg', 'hi', 'hide', 'high', 'hill', 'hint', 'hip', 'history', 'hit', 'hiya', 'hl', 'hlp', 'hm', 'hmm', 'hmmm', 'hmv', 'ho', 'hockey', 'hol', 'hold', 'holder', 'holding', 'holiday', 'holla', 'hols', 'holy', 'home', 'homeowners', 'hon', 'honey', 'honeybee', 'hook', 'hop', 'hope', 'hoped', 'hopefully', 'hoping', 'hor', 'horny', 'horo', 'horrible', 'hospital', 'hospitals', 'hostel', 'hot', 'hotel', 'hotels', 'hour', 'hours', 'house', 'housewives', 'howard', 'however', 'hows', 'howz', 'hp', 'hppnss', 'hr', 'hrishi', 'hrs', 'hsbc', 'http', 'hubby', 'hug', 'huge', 'hugs', 'huh', 'hun', 'hundred', 'hungry', 'hunny', 'hurried', 'hurry', 'hurt', 'hurting', 'hurts', 'husband', 'hv', 'hw', 'hyde', 'iam', 'ias', 'ibh', 'ibhltd', 'ibiza', 'ibn', 'ic', 'ice', 'icicibank', 'id', 'idea', 'ideal', 'ideas', 'identifier', 'idew', 'idiot', 'idk', 'ignore', 'ikea', 'il', 'ill', 'illness', 'im', 'imagine', 'imma', 'immediately', 'imp', 'impatient', 'important', 'impossible', 'improve', 'improved', 'inc', 'inch', 'inches', 'incident', 'include', 'including', 'inclusive', 'inconsiderate', 'incredible', 'increments', 'indeed', 'index', 'india', 'indian', 'indians', 'indicate', 'individual', 'indyarocks', 'infections', 'infernal', 'info', 'inform', 'information', 'informed', 'infront', 'ing', 'innings', 'innocent', 'inr', 'insha', 'inshah', 'inside', 'installing', 'instantly', 'instead', 'instituitions', 'instructions', 'insurance', 'intelligent', 'interest', 'interested', 'interesting', 'interflora', 'internet', 'interview', 'intro', 'invaders', 'invest', 'invite', 'invited', 'inviting', 'invnted', 'iouri', 'ip', 'ipad', 'ipod', 'iq', 'irritates', 'irritating', 'iscoming', 'ish', 'island', 'islands', 'isnt', 'issue', 'issues', 'italian', 'itcould', 'items', 'itwhichturnedinto', 'itz', 'ive', 'iz', 'izzit', 'j', 'ja', 'jacket', 'jackpot', 'jada', 'james', 'jamster', 'jan', 'jane', 'january', 'japanese', 'jas', 'jason', 'java', 'jay', 'jaya', 'jazz', 'jd', 'jealous', 'jeans', 'jen', 'jenny', 'jerry', 'jess', 'jesus', 'jhl', 'jia', 'jiayin', 'jiu', 'jo', 'joanna', 'job', 'jobs', 'jogging', 'john', 'join', 'joined', 'joining', 'joke', 'jokes', 'jokin', 'joking', 'jolly', 'jolt', 'jordan', 'journey', 'joy', 'jsco', 'jst', 'jstfrnd', 'jsut', 'juan', 'juicy', 'july', 'june', 'jus', 'juz', 'k', 'kadeem', 'kaiez', 'kallis', 'kano', 'kappa', 'karaoke', 'kate', 'kavalan', 'kay', 'kb', 'ke', 'keep', 'keeping', 'keeps', 'kegger', 'kent', 'kept', 'kerala', 'keralacircle', 'kettoda', 'key', 'keys', 'kg', 'kick', 'kickoff', 'kicks', 'kid', 'kidding', 'kids', 'kidz', 'killed', 'killing', 'kills', 'kind', 'kinda', 'kindly', 'king', 'kiosk', 'kiss', 'kisses', 'kl', 'knackered', 'knew', 'knock', 'know', 'knowing', 'knows', 'knw', 'konw', 'kothi', 'kr', 'kudi', 'kusruthi', 'kz', 'l', 'la', 'lab', 'lacs', 'ladies', 'lady', 'lag', 'laid', 'land', 'landline', 'landlines', 'lands', 'lane', 'langport', 'language', 'laptop', 'lar', 'largest', 'last', 'late', 'lately', 'later', 'latest', 'latr', 'laugh', 'laughed', 'laughing', 'laundry', 'law', 'lays', 'lazy', 'lccltd', 'ldew', 'ldn', 'ldnw', 'le', 'lead', 'learn', 'least', 'leave', 'leaves', 'leaving', 'lect', 'lecture', 'left', 'legal', 'legs', 'leh', 'lei', 'lemme', 'leona', 'less', 'lesson', 'lessons', 'let', 'lets', 'letter', 'letters', 'lf', 'liao', 'lib', 'library', 'lick', 'licks', 'lido', 'lie', 'lies', 'life', 'lifetime', 'lifpartnr', 'lift', 'light', 'lik', 'like', 'liked', 'likely', 'likes', 'lil', 'lily', 'limiting', 'line', 'linerental', 'lines', 'link', 'lion', 'lionm', 'lionp', 'lions', 'lip', 'list', 'listen', 'listening', 'literally', 'little', 'live', 'lived', 'liverpool', 'lives', 'living', 'lk', 'lmao', 'lo', 'loads', 'loan', 'loans', 'local', 'location', 'locations', 'lock', 'log', 'login', 'logo', 'logos', 'lol', 'london', 'lonely', 'long', 'longer', 'look', 'lookatme', 'looked', 'lookin', 'looking', 'looks', 'loose', 'lor', 'lose', 'loses', 'losing', 'loss', 'lost', 'lot', 'lotr', 'lots', 'lotta', 'lou', 'loud', 'lounge', 'lousy', 'lov', 'lovable', 'love', 'loved', 'lovely', 'loveme', 'lover', 'loverboy', 'lovers', 'loves', 'loving', 'lovingly', 'low', 'lower', 'loxahatchee', 'loyal', 'loyalty', 'lp', 'ls', 'lst', 'ltd', 'lttrs', 'luck', 'lucky', 'lucozade', 'lucy', 'lunch', 'lush', 'luv', 'luvs', 'lux', 'luxury', 'lv', 'lvblefrnd', 'lyf', 'lyfu', 'lyk', 'maangalyam', 'mac', 'machan', 'macho', 'mad', 'madam', 'made', 'mag', 'maga', 'magical', 'mah', 'mahal', 'maid', 'mail', 'mailbox', 'mails', 'main', 'maintain', 'major', 'make', 'makes', 'makin', 'making', 'malaria', 'male', 'mall', 'man', 'manage', 'managed', 'management', 'manda', 'mandan', 'maneesha', 'many', 'map', 'march', 'margaret', 'mark', 'market', 'marriage', 'married', 'marrow', 'marry', 'mas', 'massive', 'masters', 'match', 'matches', 'mate', 'mates', 'math', 'mathematics', 'matrix', 'matter', 'matured', 'maturity', 'max', 'maximize', 'may', 'mayb', 'maybe', 'mb', 'mca', 'mcat', 'meal', 'mean', 'meaning', 'means', 'meant', 'meanwhile', 'measure', 'med', 'medical', 'medicine', 'meds', 'meet', 'meetin', 'meeting', 'meets', 'mega', 'meh', 'mei', 'mel', 'melle', 'melt', 'member', 'members', 'membership', 'men', 'mental', 'menu', 'meow', 'merry', 'mesages', 'mess', 'message', 'messaged', 'messages', 'messaging', 'messenger', 'messy', 'met', 'mid', 'middle', 'midnight', 'mids', 'might', 'mila', 'miles', 'milk', 'million', 'min', 'mind', 'mine', 'mini', 'minimum', 'minmobsmorelkpobox', 'minmoremobsemspobox', 'minnaminunginte', 'minor', 'mins', 'minute', 'minutes', 'minuts', 'miracle', 'mis', 'misbehaved', 'miserable', 'miss', 'missed', 'missin', 'missing', 'mistake', 'mistakes', 'mite', 'mitsake', 'mix', 'mm', 'mmm', 'mmmm', 'mmmmm', 'mmmmmm', 'mnth', 'mnths', 'mo', 'moan', 'mob', 'mobile', 'mobiles', 'mobilesdirect', 'mobilesvary', 'mobileupd', 'mobno', 'moby', 'mode', 'model', 'module', 'modules', 'moji', 'mojibiola', 'mokka', 'mom', 'moment', 'moments', 'moms', 'mon', 'monday', 'money', 'monkeys', 'mono', 'month', 'monthly', 'months', 'mood', 'moon', 'moral', 'morefrmmob', 'morn', 'morning', 'moro', 'morow', 'morphine', 'morro', 'morrow', 'mostly', 'mother', 'motorola', 'mouth', 'move', 'moved', 'moves', 'movie', 'movies', 'movietrivia', 'moving', 'mp', 'mr', 'mrng', 'mrt', 'mrw', 'ms', 'msg', 'msging', 'msgrcvd', 'msgrcvdhg', 'msgs', 'msn', 'mt', 'mtalk', 'mth', 'mths', 'mtmsg', 'mtmsgrcvd', 'mu', 'muah', 'much', 'mum', 'mummy', 'mumtaz', 'munsters', 'murder', 'murdered', 'murderer', 'music', 'must', 'musthu', 'muz', 'mystery', 'n', 'na', 'nag', 'nagar', 'nah', 'nahi', 'naked', 'nalla', 'name', 'named', 'names', 'nan', 'nap', 'nasdaq', 'nasty', 'nat', 'natalie', 'natalja', 'national', 'natural', 'nature', 'naughty', 'nb', 'nd', 'ne', 'near', 'nearly', 'necessarily', 'necessary', 'neck', 'necklace', 'ned', 'need', 'needed', 'needs', 'neft', 'neighbour', 'neither', 'nervous', 'net', 'netcollex', 'network', 'networking', 'networks', 'neva', 'never', 'new', 'newest', 'news', 'next', 'ni', 'nic', 'nice', 'nichols', 'nigeria', 'night', 'nights', 'nimya', 'nit', 'nite', 'nitros', 'nobody', 'noe', 'nok', 'nokia', 'nokias', 'noline', 'none', 'noon', 'nope', 'norm', 'normal', 'normally', 'northampton', 'nos', 'note', 'nothin', 'nothing', 'notice', 'notxt', 'noun', 'nowadays', 'nt', 'ntt', 'ntwk', 'num', 'number', 'numbers', 'nurungu', 'nus', 'nuther', 'nvm', 'nw', 'nxt', 'ny', 'nyc', 'nydc', 'nyt', 'obviously', 'occupy', 'odi', 'offer', 'offers', 'office', 'official', 'officially', 'ofice', 'often', 'oh', 'oi', 'oic', 'oil', 'ok', 'okay', 'okey', 'okie', 'ola', 'old', 'omg', 'omw', 'one', 'ones', 'oni', 'onion', 'online', 'onto', 'onwards', 'oooh', 'oops', 'open', 'opening', 'operator', 'opinion', 'opinions', 'opportunity', 'opt', 'option', 'optout', 'orange', 'oranges', 'orchard', 'order', 'ordered', 'oredi', 'oreo', 'orig', 'original', 'oru', 'os', 'oso', 'others', 'otherwise', 'otside', 'outside', 'outstanding', 'outta', 'ovulation', 'ow', 'owns', 'oz', 'p', 'pa', 'pack', 'package', 'packs', 'page', 'pages', 'paid', 'pain', 'painful', 'painting', 'pale', 'pan', 'pandy', 'panic', 'pap', 'paper', 'papers', 'paperwork', 'paragon', 'parco', 'parent', 'parents', 'paris', 'park', 'parked', 'parking', 'part', 'partner', 'partnership', 'party', 'pass', 'passed', 'passionate', 'password', 'passwords', 'past', 'pattern', 'patty', 'pay', 'payee', 'paying', 'payment', 'payoh', 'pc', 'peace', 'peaceful', 'peak', 'pee', 'pen', 'pence', 'pending', 'penis', 'people', 'per', 'percent', 'perfect', 'perhaps', 'period', 'person', 'personal', 'personality', 'persons', 'perwksub', 'pete', 'petey', 'petrol', 'pg', 'ph', 'philosophy', 'phne', 'phoenix', 'phone', 'phoned', 'phones', 'photo', 'photos', 'php', 'pic', 'pick', 'picked', 'picking', 'pickle', 'pics', 'picsfree', 'picture', 'pictures', 'pie', 'piece', 'pieces', 'pig', 'pilates', 'pimples', 'pin', 'pink', 'piss', 'pissed', 'pix', 'pizza', 'place', 'placement', 'places', 'plan', 'plane', 'planet', 'planned', 'planning', 'plans', 'play', 'played', 'player', 'players', 'playing', 'plaza', 'please', 'pleased', 'pleasure', 'plenty', 'plm', 'pls', 'plus', 'plz', 'pm', 'po', 'pobox', 'pocketbabe', 'pod', 'poem', 'point', 'points', 'poker', 'pole', 'police', 'politicians', 'polo', 'poly', 'polyh', 'polyph', 'polyphonic', 'polys', 'pongal', 'pool', 'poop', 'poor', 'pop', 'popcorn', 'popped', 'porn', 'position', 'possession', 'possible', 'post', 'postcard', 'postcode', 'posted', 'posts', 'potato', 'potential', 'potter', 'pouch', 'pound', 'pounds', 'pours', 'pouts', 'power', 'pp', 'ppermesssubscription', 'ppl', 'pple', 'ppm', 'ppmx', 'prabha', 'practical', 'practice', 'practicing', 'pray', 'praying', 'pre', 'prefer', 'preferably', 'prem', 'premier', 'premium', 'prepaid', 'prepare', 'prepared', 'prepayment', 'prescription', 'present', 'press', 'pretty', 'previous', 'previously', 'prey', 'price', 'pride', 'prince', 'princess', 'print', 'printed', 'priscilla', 'privacy', 'private', 'prize', 'prizes', 'prob', 'probably', 'problem', 'problems', 'probs', 'process', 'processed', 'prof', 'professors', 'profit', 'program', 'project', 'prolly', 'promise', 'promises', 'promo', 'prompts', 'proof', 'properly', 'property', 'propose', 'propsd', 'prospects', 'protect', 'proverb', 'provided', 'ps', 'pt', 'ptbo', 'pub', 'public', 'pull', 'purchase', 'purity', 'purpose', 'purse', 'push', 'pushes', 'pussy', 'put', 'puttin', 'putting', 'pw', 'px', 'q', 'qatar', 'qp', 'qu', 'quality', 'queen', 'ques', 'question', 'questioned', 'questions', 'quick', 'quickly', 'quiet', 'quit', 'quite', 'quiz', 'quote', 'quoting', 'qxj', 'r', 'racing', 'radio', 'raed', 'rael', 'railway', 'rain', 'raining', 'raise', 'raj', 'raji', 'rakhesh', 'rally', 'ran', 'random', 'randomly', 'randy', 'rang', 'range', 'ranjith', 'rate', 'rates', 'rather', 'rays', 'rcv', 'rcvd', 'rd', 'reach', 'reached', 'reaching', 'reaction', 'read', 'readers', 'reading', 'ready', 'real', 'realise', 'reality', 'realize', 'realized', 'really', 'realy', 'reason', 'reasonable', 'reasons', 'reboot', 'rec', 'recd', 'receipt', 'receipts', 'receive', 'receivea', 'received', 'receiving', 'recent', 'recently', 'recession', 'recharge', 'reckon', 'recognise', 'record', 'records', 'recovery', 'red', 'redeemed', 'reduce', 'ref', 'reference', 'refilled', 'refused', 'reg', 'regarding', 'regards', 'register', 'registered', 'regret', 'regular', 'relation', 'relatives', 'relax', 'released', 'rem', 'remain', 'remains', 'remember', 'remembered', 'remembr', 'remind', 'reminder', 'reminding', 'removal', 'remove', 'removed', 'renewal', 'rent', 'rental', 'rentl', 'rents', 'repair', 'repeat', 'replace', 'replacement', 'replied', 'reply', 'replying', 'report', 'representative', 'request', 'requests', 'research', 'respect', 'respectful', 'responce', 'respond', 'responding', 'response', 'responsibility', 'rest', 'restaurant', 'result', 'results', 'resume', 'retrieve', 'return', 'returned', 'returns', 'reveal', 'revealed', 'reverse', 'review', 'revision', 'reward', 'rewarding', 'rg', 'rgds', 'rhythm', 'rice', 'rich', 'ride', 'right', 'rightly', 'rights', 'ring', 'ringtone', 'ringtoneking', 'ringtones', 'rite', 'river', 'road', 'roads', 'roast', 'rock', 'rocks', 'rofl', 'roger', 'role', 'romantic', 'ron', 'room', 'roommate', 'roommates', 'rooms', 'rose', 'round', 'row', 'royal', 'rply', 'rr', 'rs', 'rstm', 'ru', 'rub', 'rude', 'ruin', 'ruining', 'rule', 'rum', 'rumour', 'run', 'running', 'runs', 'rush', 'rw', 'ryan', 'sac', 'sachin', 'sacrifice', 'sad', 'sae', 'safe', 'said', 'sake', 'salam', 'salary', 'sale', 'sales', 'salon', 'sam', 'santa', 'sar', 'sarasota', 'sarcasm', 'sarcastic', 'sary', 'sat', 'sathya', 'satisfied', 'satisfy', 'saturday', 'saucy', 'savamob', 'save', 'saved', 'saw', 'say', 'saying', 'says', 'scared', 'scary', 'sch', 'schedule', 'school', 'schools', 'science', 'scold', 'score', 'scores', 'scoring', 'scotch', 'scotland', 'scotsman', 'scream', 'screamed', 'screaming', 'screen', 'scrounge', 'se', 'sea', 'search', 'searching', 'season', 'seat', 'sec', 'second', 'seconds', 'secret', 'secretary', 'secretly', 'secs', 'sed', 'see', 'seeds', 'seeing', 'seem', 'seemed', 'seems', 'seen', 'select', 'selected', 'selection', 'self', 'selfish', 'sell', 'selling', 'sells', 'sem', 'semester', 'sen', 'send', 'sender', 'sending', 'sends', 'sense', 'sensitive', 'sent', 'sentence', 'senthil', 'sept', 'series', 'serious', 'seriously', 'service', 'services', 'serving', 'set', 'setting', 'settings', 'settle', 'settled', 'seven', 'several', 'sex', 'sexy', 'sh', 'sha', 'shagged', 'shahjahan', 'shall', 'shame', 'shampain', 'share', 'sharing', 'shd', 'sheets', 'sheffield', 'shelf', 'shesil', 'shijas', 'shining', 'ship', 'shipped', 'shipping', 'shirt', 'shirts', 'shit', 'shitload', 'shld', 'shock', 'shocking', 'shoes', 'shoot', 'shop', 'shoppin', 'shopping', 'shore', 'short', 'shortage', 'shorter', 'shortly', 'shot', 'shouted', 'shoving', 'show', 'shower', 'showing', 'shows', 'shracomorsglsuplt', 'shu', 'shuhui', 'shut', 'shy', 'si', 'sian', 'sib', 'sick', 'side', 'sigh', 'sighs', 'sight', 'sign', 'signing', 'silence', 'silent', 'silently', 'silver', 'sim', 'simple', 'simpler', 'simply', 'since', 'sinco', 'sing', 'singing', 'single', 'singles', 'sipix', 'sir', 'sis', 'sister', 'sit', 'site', 'sitll', 'sitting', 'situation', 'siva', 'six', 'size', 'sk', 'skilgme', 'skillgame', 'skip', 'sky', 'skype', 'skyped', 'slap', 'slave', 'sleep', 'sleepin', 'sleeping', 'sleepwell', 'sleepy', 'slept', 'slice', 'slide', 'slightly', 'slip', 'slippers', 'slo', 'slots', 'slow', 'slowly', 'slp', 'small', 'smart', 'smashed', 'smeone', 'smile', 'smiles', 'smiling', 'smith', 'smoke', 'smokes', 'smoking', 'sms', 'smsco', 'smth', 'sn', 'snake', 'snogs', 'snow', 'snowman', 'social', 'sofa', 'soft', 'software', 'soiree', 'sol', 'solve', 'solved', 'somebody', 'someone', 'somethin', 'something', 'sometime', 'sometimes', 'somewhere', 'somtimes', 'song', 'songs', 'sony', 'sonyericsson', 'soo', 'soon', 'sooner', 'sooooo', 'sore', 'sorrow', 'sorry', 'sort', 'sorted', 'sorting', 'sory', 'soryda', 'soul', 'sound', 'sounds', 'soup', 'source', 'south', 'sp', 'space', 'spanish', 'spare', 'speak', 'speaking', 'special', 'specially', 'specific', 'speechless', 'speed', 'speedchat', 'speeding', 'spell', 'spend', 'spending', 'spent', 'spider', 'spile', 'spk', 'spl', 'splleing', 'spoiled', 'spoke', 'spoken', 'spook', 'sport', 'sports', 'spree', 'spring', 'sptv', 'sry', 'ss', 'st', 'staff', 'stamped', 'stamps', 'stand', 'standard', 'standing', 'star', 'staring', 'stars', 'start', 'started', 'starting', 'starts', 'starwars', 'statement', 'station', 'status', 'stay', 'stayed', 'stayin', 'staying', 'stays', 'std', 'steam', 'step', 'steve', 'stick', 'sticky', 'still', 'stock', 'stockport', 'stomach', 'stomps', 'stone', 'stones', 'stop', 'stopped', 'stops', 'stopsms', 'stoptxt', 'store', 'stores', 'storming', 'story', 'str', 'straight', 'strange', 'stranger', 'street', 'stress', 'stretch', 'strike', 'strong', 'stuck', 'student', 'students', 'study', 'studying', 'stuff', 'stupid', 'style', 'stylish', 'sub', 'subpoly', 'subs', 'subscribe', 'subscribed', 'subscriber', 'subscription', 'success', 'successful', 'successfully', 'sucks', 'sue', 'sufficient', 'sugar', 'suggest', 'suite', 'suits', 'sum', 'summer', 'sumthin', 'sun', 'sunday', 'sunlight', 'sunny', 'sunshine', 'suntec', 'sup', 'super', 'superb', 'superior', 'supervisor', 'supply', 'support', 'suppose', 'supposed', 'suprman', 'sura', 'sure', 'surely', 'surfing', 'surprise', 'surprised', 'survey', 'sux', 'suzy', 'sw', 'swatch', 'sweet', 'sweetest', 'sweetheart', 'sweetie', 'sweets', 'swimming', 'swing', 'swiss', 'switch', 'swoop', 'swt', 'swtheart', 'symbol', 'system', 'ta', 'table', 'tablets', 'tacos', 'tahan', 'take', 'taken', 'takes', 'takin', 'taking', 'talent', 'talk', 'talking', 'talks', 'tampa', 'tank', 'tap', 'tape', 'tariffs', 'taste', 'tat', 'taunton', 'taxi', 'taylor', 'tayseer', 'tb', 'tc', 'tcr', 'tcs', 'tea', 'teach', 'teacher', 'teaches', 'teaching', 'team', 'tear', 'tease', 'teasing', 'tech', 'technical', 'tee', 'teeth', 'tel', 'telephone', 'tell', 'telling', 'tells', 'telly', 'telphone', 'telugu', 'temp', 'temple', 'ten', 'tenants', 'tenerife', 'tension', 'term', 'terms', 'terrible', 'terrific', 'terrorist', 'tessy', 'test', 'testing', 'tests', 'text', 'textbuddy', 'textcomp', 'texted', 'texting', 'textoperator', 'textpod', 'texts', 'tf', 'tg', 'th', 'thangam', 'thank', 'thanks', 'thanksgiving', 'thanx', 'thats', 'theatre', 'themob', 'theory', 'theres', 'thesis', 'thgt', 'thing', 'things', 'think', 'thinkin', 'thinking', 'thinks', 'thk', 'thm', 'thnk', 'tho', 'thot', 'though', 'thought', 'thoughts', 'thousands', 'thread', 'threats', 'three', 'threw', 'throat', 'throw', 'thru', 'ths', 'tht', 'thts', 'thurs', 'thursday', 'thx', 'thy', 'tick', 'ticket', 'tickets', 'tight', 'tihs', 'til', 'till', 'time', 'times', 'timing', 'tired', 'tirunelvali', 'tirupur', 'tis', 'tissco', 'title', 'titles', 'tiwary', 'tkts', 'tlk', 'tlp', 'tm', 'tmr', 'tmrw', 'tms', 'tnc', 'tncs', 'toa', 'toclaim', 'today', 'todays', 'tog', 'together', 'tok', 'told', 'toll', 'tom', 'tomarrow', 'tomeandsaid', 'tomo', 'tomorro', 'tomorrow', 'tone', 'tones', 'tonight', 'tonights', 'tonite', 'tons', 'took', 'tool', 'tooo', 'toot', 'tooth', 'top', 'topic', 'torch', 'tortilla', 'toshiba', 'tot', 'total', 'totally', 'touch', 'touched', 'tough', 'tour', 'towards', 'town', 'track', 'trade', 'traffic', 'train', 'training', 'trains', 'transaction', 'transfer', 'transfered', 'transfr', 'transport', 'trav', 'travel', 'treat', 'treated', 'tree', 'tried', 'trip', 'trips', 'trouble', 'truck', 'true', 'truffles', 'truly', 'trust', 'truth', 'try', 'trying', 'ts', 'tsandcs', 'tscs', 'tsunamis', 'tt', 'ttyl', 'tues', 'tuesday', 'tuition', 'tulip', 'turn', 'turning', 'turns', 'tv', 'twelve', 'twenty', 'twice', 'twilight', 'two', 'txt', 'txtauction', 'txtin', 'txting', 'txtno', 'txts', 'txtstop', 'txttowin', 'tyler', 'type', 'tyrone', 'ubi', 'ugh', 'uh', 'uk', 'uks', 'ultimatum', 'umma', 'ummmmmaah', 'un', 'unable', 'unbelievable', 'unbreakable', 'uncle', 'uncles', 'understand', 'understanding', 'understood', 'underwear', 'unemployed', 'unfortunately', 'uni', 'unique', 'university', 'unkempt', 'unknown', 'unless', 'unlimited', 'unnecessarily', 'unredeemed', 'unsold', 'unsub', 'unsubscribe', 'untamed', 'upd', 'update', 'upgrade', 'upload', 'upset', 'upstairs', 'upto', 'urawinner', 'ure', 'urgent', 'urgently', 'urgnt', 'url', 'urn', 'urself', 'us', 'usb', 'usc', 'use', 'used', 'useful', 'user', 'usf', 'usher', 'using', 'usual', 'usually', 'utter', 'uz', 'v', 'vaazhthukkal', 'vale', 'valentine', 'valentines', 'valid', 'valuable', 'value', 'valued', 'various', 'vary', 'vava', 'vday', 'vegas', 'vegetables', 'verified', 'verify', 'version', 'vettam', 'vewy', 'via', 'vid', 'video', 'videochat', 'videophones', 'vijay', 'vikky', 'village', 'violated', 'violence', 'violet', 'vip', 'virgin', 'visionsms', 'visit', 'viva', 'vivek', 'vl', 'voda', 'vodafone', 'vodka', 'voice', 'voicemail', 'vomit', 'vomiting', 'vote', 'voucher', 'vouchers', 'vry', 'vth', 'vu', 'w', 'wa', 'wah', 'waheed', 'waht', 'wait', 'waited', 'waitin', 'waiting', 'wake', 'waking', 'wales', 'walk', 'walked', 'walking', 'wallpaper', 'walls', 'walmart', 'wan', 'wana', 'wanna', 'want', 'wanted', 'wanting', 'wants', 'wap', 'warm', 'warner', 'warning', 'warranty', 'waste', 'wasted', 'wat', 'watch', 'watching', 'water', 'wating', 'wats', 'wave', 'waves', 'waxsto', 'way', 'wb', 'wc', 'weak', 'wear', 'wearing', 'weather', 'web', 'website', 'wed', 'wedding', 'wednesday', 'wee', 'weed', 'week', 'weekend', 'weekends', 'weekly', 'weeks', 'weigh', 'weight', 'weird', 'weirdest', 'welcome', 'welcomes', 'well', 'welp', 'wen', 'went', 'wer', 'west', 'westlife', 'wet', 'whatever', 'whats', 'whatsup', 'whenever', 'whenevr', 'wherever', 'whether', 'white', 'whn', 'whole', 'whos', 'whose', 'whr', 'wicklow', 'wid', 'widelive', 'wif', 'wife', 'wifi', 'wihtuot', 'wil', 'willing', 'win', 'winaweek', 'winawk', 'wind', 'window', 'windows', 'wine', 'winner', 'winning', 'wins', 'wipro', 'wisdom', 'wise', 'wish', 'wishes', 'wishin', 'wishing', 'wiskey', 'wit', 'within', 'without', 'wiv', 'wk', 'wkend', 'wkent', 'wkg', 'wkly', 'wks', 'wld', 'wml', 'wn', 'wnt', 'wo', 'woke', 'woken', 'woman', 'women', 'wonder', 'wonderful', 'wondering', 'wonders', 'wont', 'woot', 'word', 'words', 'work', 'workin', 'working', 'works', 'world', 'worlds', 'worried', 'worries', 'worry', 'worse', 'worst', 'worth', 'wot', 'would', 'woulda', 'wow', 'wp', 'wq', 'wrc', 'write', 'wrk', 'wrnog', 'wrong', 'wrote', 'ws', 'wt', 'wtf', 'wu', 'wud', 'wuld', 'wun', 'www', 'wx', 'wylie', 'x', 'xam', 'xavier', 'xchat', 'xh', 'xin', 'xmas', 'xn', 'xuhui', 'xx', 'xxx', 'xxxmobilemovieclub', 'xxxx', 'xxxxx', 'xxxxxx', 'xxxxxxx', 'xxxxxxxxx', 'xy', 'ya', 'yahoo', 'yan', 'yar', 'yarasu', 'yay', 'yck', 'yeah', 'year', 'years', 'yeh', 'yelling', 'yellow', 'yep', 'yer', 'yes', 'yest', 'yesterday', 'yet', 'yetunde', 'yf', 'yijue', 'ym', 'yo', 'yoga', 'yogasana', 'yor', 'youre', 'yr', 'yrs', 'yummy', 'yun', 'yunny', 'yuo', 'yup', 'zed', 'zindgi', 'zoe']\n"
     ]
    }
   ],
   "source": [
    "print(sorted(features))"
   ]
  },
  {
   "cell_type": "code",
   "execution_count": 45,
   "metadata": {},
   "outputs": [
    {
     "name": "stdout",
     "output_type": "stream",
     "text": [
      "3767 3751\n",
      "(5572, 3767) (5572, 3751)\n"
     ]
    }
   ],
   "source": [
    "print(len(features), len(feature_names))\n",
    "print(count_features.shape, vectorized.shape)"
   ]
  },
  {
   "cell_type": "markdown",
   "metadata": {},
   "source": [
    "С помощью двух функций получаются одинаковые результаты с точностью до перестановки признаков и с учетом того, что CountVectorizer удаляет слова из одного символа, а здесь в предобработке не удалялись такие слова (поэтому количество признаков различается)."
   ]
  },
  {
   "cell_type": "markdown",
   "metadata": {},
   "source": [
    "**Задача 8 (5 баллов). Представление с использованием TfIdf** \n",
    "\n",
    "Задание аналогичное заданию 7, но теперь  признаки должны содержать значение tf-idf. \n",
    "\n",
    "Реализация должна быть на numpy.array, а не на списках!\n",
    "\n",
    "Аналогичная функция также содержится в [sklearn.feature_extraction.text](http://scikit-learn.org/stable/modules/classes.html#module-sklearn.feature_extraction.text)"
   ]
  },
  {
   "cell_type": "code",
   "execution_count": 47,
   "metadata": {
    "collapsed": true
   },
   "outputs": [],
   "source": [
    "def tfidf_vectorizer(texts):\n",
    "    \n",
    "    dictionary = make_dict(texts)    \n",
    "    features_names = list(dictionary.keys())\n",
    "    \n",
    "    df_list = []\n",
    "    for feature in features_names:\n",
    "        df = len([text for text in texts if feature in text.split()]) #число текстов, в которых встретился признак\n",
    "        df_list.append(df)\n",
    "    df = np.array(df_list)\n",
    "    idf = np.log(len(texts)/df)\n",
    "            \n",
    "    count_features = np.zeros((len(texts), len(features_names)))\n",
    "    for j, text in enumerate(texts):\n",
    "        #vect = np.zeros(len(features_names))\n",
    "        token_list = text.split(' ')\n",
    "        c = Counter(token_list)\n",
    "        vect = []\n",
    "        for feature in features_names:\n",
    "            vect.append(c[feature])\n",
    "        vect = np.array(vect)\n",
    "        tf = vect/len(token_list)\n",
    "        count_features[j] = tf*idf\n",
    "        c.clear()\n",
    "    return features_names, count_features"
   ]
  },
  {
   "cell_type": "code",
   "execution_count": 48,
   "metadata": {},
   "outputs": [
    {
     "name": "stdout",
     "output_type": "stream",
     "text": [
      "Execution time with my tf-idf function -  52.623945474624634\n"
     ]
    }
   ],
   "source": [
    "begin = time.time()\n",
    "features_tf, count_features_tf = tfidf_vectorizer(emails.text)\n",
    "end = time.time()\n",
    "print('Execution time with my tf-idf function - ', (end - begin))"
   ]
  },
  {
   "cell_type": "code",
   "execution_count": 49,
   "metadata": {},
   "outputs": [
    {
     "name": "stdout",
     "output_type": "stream",
     "text": [
      "Execution time with TfidfVectorizer -  0.16100859642028809\n"
     ]
    }
   ],
   "source": [
    "begin = time.time()\n",
    "tfidf_vect = TfidfVectorizer()\n",
    "tf_vectorized = tfidf_vect.fit_transform(emails.text)\n",
    "tf_feature_names = tfidf_vect.get_feature_names()\n",
    "end = time.time()\n",
    "print('Execution time with TfidfVectorizer - ', (end - begin))"
   ]
  },
  {
   "cell_type": "markdown",
   "metadata": {},
   "source": [
    "** Задача 9 (10 баллов). Решение задачи классификации**\n",
    "\n",
    "Теперь с помощью наших представлений и [метода K ближайших соседей (KNN)](http://www.machinelearning.ru/wiki/index.php?title=KNN) ([нужный класс](http://scikit-learn.org/stable/modules/generated/sklearn.neighbors.KNeighborsClassifier.html), [полезная ссылочка](https://habrahabr.ru/post/149693/)) научимся вычислять спам.\n",
    "\n",
    "Пусть X -- вектора признаков (полученные с помощью CountVectorizer или TfidfVectorizer), y -- вектор ответов (в нашем случае колонка class в таблице). \n",
    "\n",
    "Разделите (X, y) на обучающую выворку (X_train, y_train) (70%) и на тестовую -- (X_test, y_test) (30%). Разделить выборку можно вручную, но лучше воспользоваться [train_test_split](http://scikit-learn.org/stable/modules/generated/sklearn.model_selection.train_test_split.html). \n",
    "\n",
    "Далее обучите классификатор на (X_train, y_train) -- это делается с помощью метода fit. Затем получите y_pred (результат классификации) на тесте X_test с помощью метода predict. После чего сравните получившийся результат y_pred и y_test (правельные метки классов) с помощью функции [accuracy_score](http://scikit-learn.org/stable/modules/generated/sklearn.metrics.accuracy_score.html). \n",
    "\n",
    "Поиграйте с параметром n_neighbors у KNN -- добейтесь наилучшего результата классификации.\n",
    "\n",
    "Сравните качество классификации для представлений "
   ]
  },
  {
   "cell_type": "code",
   "execution_count": 50,
   "metadata": {
    "collapsed": true
   },
   "outputs": [],
   "source": [
    "from sklearn.model_selection import train_test_split\n",
    "from sklearn.neighbors import KNeighborsClassifier\n",
    "from sklearn.metrics import accuracy_score"
   ]
  },
  {
   "cell_type": "markdown",
   "metadata": {},
   "source": [
    "Сравним качество классификации для векторного представления **CountVectorizer** при различных параметрах n_neighbors"
   ]
  },
  {
   "cell_type": "code",
   "execution_count": 51,
   "metadata": {
    "collapsed": true
   },
   "outputs": [],
   "source": [
    "#векторное представление с числом вхождений слов в текст\n",
    "vect = CountVectorizer()\n",
    "X = vect.fit_transform(emails.text)\n",
    "y = emails['class']\n",
    "\n",
    "X_train, X_test, y_train, y_test = train_test_split(X, y, test_size = 0.3)\n"
   ]
  },
  {
   "cell_type": "code",
   "execution_count": 52,
   "metadata": {},
   "outputs": [
    {
     "data": {
      "text/plain": [
       "0.95394736842105265"
      ]
     },
     "execution_count": 52,
     "metadata": {},
     "output_type": "execute_result"
    }
   ],
   "source": [
    "kNN = KNeighborsClassifier(n_neighbors = 1)\n",
    "kNN.fit(X_train, y_train)\n",
    "y_pred = kNN.predict(X_test)\n",
    "accuracy_score(y_test, y_pred)"
   ]
  },
  {
   "cell_type": "code",
   "execution_count": 53,
   "metadata": {},
   "outputs": [
    {
     "data": {
      "text/plain": [
       "0.93181818181818177"
      ]
     },
     "execution_count": 53,
     "metadata": {},
     "output_type": "execute_result"
    }
   ],
   "source": [
    "kNN = KNeighborsClassifier(n_neighbors = 2)\n",
    "kNN.fit(X_train, y_train)\n",
    "y_pred = kNN.predict(X_test)\n",
    "accuracy_score(y_test, y_pred)"
   ]
  },
  {
   "cell_type": "code",
   "execution_count": 54,
   "metadata": {},
   "outputs": [
    {
     "data": {
      "text/plain": [
       "0.93421052631578949"
      ]
     },
     "execution_count": 54,
     "metadata": {},
     "output_type": "execute_result"
    }
   ],
   "source": [
    "kNN = KNeighborsClassifier(n_neighbors = 3)\n",
    "kNN.fit(X_train, y_train)\n",
    "y_pred = kNN.predict(X_test)\n",
    "accuracy_score(y_test, y_pred)"
   ]
  },
  {
   "cell_type": "code",
   "execution_count": 55,
   "metadata": {},
   "outputs": [
    {
     "data": {
      "text/plain": [
       "0.92105263157894735"
      ]
     },
     "execution_count": 55,
     "metadata": {},
     "output_type": "execute_result"
    }
   ],
   "source": [
    "kNN = KNeighborsClassifier(n_neighbors = 5)\n",
    "kNN.fit(X_train, y_train)\n",
    "y_pred = kNN.predict(X_test)\n",
    "accuracy_score(y_test, y_pred)"
   ]
  },
  {
   "cell_type": "code",
   "execution_count": 56,
   "metadata": {},
   "outputs": [
    {
     "data": {
      "text/plain": [
       "0.91148325358851678"
      ]
     },
     "execution_count": 56,
     "metadata": {},
     "output_type": "execute_result"
    }
   ],
   "source": [
    "kNN = KNeighborsClassifier(n_neighbors = 7)\n",
    "kNN.fit(X_train, y_train)\n",
    "y_pred = kNN.predict(X_test)\n",
    "accuracy_score(y_test, y_pred)"
   ]
  },
  {
   "cell_type": "markdown",
   "metadata": {},
   "source": [
    "С ростом параметра числа соседей качество классификации падает, лучший результат был получен для **n_neighbors = 1** "
   ]
  },
  {
   "cell_type": "markdown",
   "metadata": {},
   "source": [
    "Рассмотрим **tf-idf** представление"
   ]
  },
  {
   "cell_type": "code",
   "execution_count": 57,
   "metadata": {
    "collapsed": true
   },
   "outputs": [],
   "source": [
    "#векторное представление с tf-idf\n",
    "tfidf_vect = TfidfVectorizer()\n",
    "X = tfidf_vect.fit_transform(emails.text)\n",
    "y = emails['class']\n",
    "\n",
    "X_train, X_test, y_train, y_test = train_test_split(X, y, test_size = 0.3)\n"
   ]
  },
  {
   "cell_type": "code",
   "execution_count": 58,
   "metadata": {},
   "outputs": [
    {
     "data": {
      "text/plain": [
       "0.95633971291866027"
      ]
     },
     "execution_count": 58,
     "metadata": {},
     "output_type": "execute_result"
    }
   ],
   "source": [
    "kNN = KNeighborsClassifier(n_neighbors = 1)\n",
    "kNN.fit(X_train, y_train)\n",
    "y_pred = kNN.predict(X_test)\n",
    "accuracy_score(y_test, y_pred)"
   ]
  },
  {
   "cell_type": "code",
   "execution_count": 59,
   "metadata": {},
   "outputs": [
    {
     "data": {
      "text/plain": [
       "0.9324162679425837"
      ]
     },
     "execution_count": 59,
     "metadata": {},
     "output_type": "execute_result"
    }
   ],
   "source": [
    "kNN = KNeighborsClassifier(n_neighbors = 2)\n",
    "kNN.fit(X_train, y_train)\n",
    "y_pred = kNN.predict(X_test)\n",
    "accuracy_score(y_test, y_pred)"
   ]
  },
  {
   "cell_type": "code",
   "execution_count": 60,
   "metadata": {},
   "outputs": [
    {
     "data": {
      "text/plain": [
       "0.9324162679425837"
      ]
     },
     "execution_count": 60,
     "metadata": {},
     "output_type": "execute_result"
    }
   ],
   "source": [
    "kNN = KNeighborsClassifier(n_neighbors = 3)\n",
    "kNN.fit(X_train, y_train)\n",
    "y_pred = kNN.predict(X_test)\n",
    "accuracy_score(y_test, y_pred)"
   ]
  },
  {
   "cell_type": "code",
   "execution_count": 61,
   "metadata": {},
   "outputs": [
    {
     "data": {
      "text/plain": [
       "0.91686602870813394"
      ]
     },
     "execution_count": 61,
     "metadata": {},
     "output_type": "execute_result"
    }
   ],
   "source": [
    "kNN = KNeighborsClassifier(n_neighbors = 5)\n",
    "kNN.fit(X_train, y_train)\n",
    "y_pred = kNN.predict(X_test)\n",
    "accuracy_score(y_test, y_pred)"
   ]
  },
  {
   "cell_type": "code",
   "execution_count": 62,
   "metadata": {},
   "outputs": [
    {
     "data": {
      "text/plain": [
       "0.90729665071770338"
      ]
     },
     "execution_count": 62,
     "metadata": {},
     "output_type": "execute_result"
    }
   ],
   "source": [
    "kNN = KNeighborsClassifier(n_neighbors = 7)\n",
    "kNN.fit(X_train, y_train)\n",
    "y_pred = kNN.predict(X_test)\n",
    "accuracy_score(y_test, y_pred)"
   ]
  },
  {
   "cell_type": "markdown",
   "metadata": {},
   "source": [
    "При разных векторных представлениях качество классификации остается примерно на одном уровне."
   ]
  },
  {
   "cell_type": "code",
   "execution_count": null,
   "metadata": {
    "collapsed": true
   },
   "outputs": [],
   "source": []
  }
 ],
 "metadata": {
  "kernelspec": {
   "display_name": "Python 3",
   "language": "python",
   "name": "python3"
  },
  "language_info": {
   "codemirror_mode": {
    "name": "ipython",
    "version": 3
   },
   "file_extension": ".py",
   "mimetype": "text/x-python",
   "name": "python",
   "nbconvert_exporter": "python",
   "pygments_lexer": "ipython3",
   "version": "3.6.1"
  }
 },
 "nbformat": 4,
 "nbformat_minor": 2
}
